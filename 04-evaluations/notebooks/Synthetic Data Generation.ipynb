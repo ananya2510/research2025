{
 "cells": [
  {
   "cell_type": "markdown",
   "metadata": {},
   "source": [
    "# Synthetic Data Generation (SDG)\n"
   ]
  },
  {
   "cell_type": "markdown",
   "metadata": {},
   "source": [
    "**Instructions:**\n",
    "\n",
    "Make sure that you have done a `poetry update` for your virtual environment first!!!\n",
    "\n",
    "Then, if you are on a mac, you might want to type:\n",
    "\n",
    "```\n",
    "brew install libmagic\n",
    "```\n"
   ]
  },
  {
   "cell_type": "code",
   "execution_count": null,
   "metadata": {},
   "outputs": [],
   "source": [
    "%pwd"
   ]
  },
  {
   "cell_type": "code",
   "execution_count": 1,
   "metadata": {},
   "outputs": [],
   "source": [
    "from langchain_community.document_loaders import DirectoryLoader\n",
    "\n",
    "path = \"../data/samples/\"\n",
    "loader = DirectoryLoader(path, glob=\"**/*.md\")\n",
    "docs = loader.load()"
   ]
  },
  {
   "cell_type": "code",
   "execution_count": 2,
   "metadata": {},
   "outputs": [],
   "source": [
    "from ragas.llms import LangchainLLMWrapper\n",
    "from ragas.embeddings import LangchainEmbeddingsWrapper\n",
    "from langchain_openai import ChatOpenAI\n",
    "from langchain_openai import OpenAIEmbeddings\n",
    "generator_llm = LangchainLLMWrapper(ChatOpenAI(model=\"gpt-4o\"))\n",
    "generator_embeddings = LangchainEmbeddingsWrapper(OpenAIEmbeddings())"
   ]
  },
  {
   "cell_type": "markdown",
   "metadata": {},
   "source": [
    "## Generate Testset\n"
   ]
  },
  {
   "cell_type": "code",
   "execution_count": 3,
   "metadata": {},
   "outputs": [
    {
     "data": {
      "application/vnd.jupyter.widget-view+json": {
       "model_id": "1317ce694ca8412a835515a5965344fd",
       "version_major": 2,
       "version_minor": 0
      },
      "text/plain": [
       "Applying HeadlinesExtractor:   0%|          | 0/5 [00:00<?, ?it/s]"
      ]
     },
     "metadata": {},
     "output_type": "display_data"
    },
    {
     "data": {
      "application/vnd.jupyter.widget-view+json": {
       "model_id": "9b3baa0b7a1941d4800a62d5dfb3b70c",
       "version_major": 2,
       "version_minor": 0
      },
      "text/plain": [
       "Applying HeadlineSplitter:   0%|          | 0/12 [00:00<?, ?it/s]"
      ]
     },
     "metadata": {},
     "output_type": "display_data"
    },
    {
     "name": "stderr",
     "output_type": "stream",
     "text": [
      "unable to apply transformation: 'headlines' property not found in this node\n",
      "unable to apply transformation: 'headlines' property not found in this node\n",
      "unable to apply transformation: 'headlines' property not found in this node\n",
      "unable to apply transformation: 'headlines' property not found in this node\n",
      "unable to apply transformation: 'headlines' property not found in this node\n",
      "unable to apply transformation: 'headlines' property not found in this node\n",
      "unable to apply transformation: 'headlines' property not found in this node\n"
     ]
    },
    {
     "data": {
      "application/vnd.jupyter.widget-view+json": {
       "model_id": "0b9db91a0ac54b058e59eb10ee1cb966",
       "version_major": 2,
       "version_minor": 0
      },
      "text/plain": [
       "Applying SummaryExtractor:   0%|          | 0/6 [00:00<?, ?it/s]"
      ]
     },
     "metadata": {},
     "output_type": "display_data"
    },
    {
     "name": "stderr",
     "output_type": "stream",
     "text": [
      "Property 'summary' already exists in node '818743'. Skipping!\n"
     ]
    },
    {
     "data": {
      "application/vnd.jupyter.widget-view+json": {
       "model_id": "8061f1d394984c039d13227d38c9381c",
       "version_major": 2,
       "version_minor": 0
      },
      "text/plain": [
       "Applying CustomNodeFilter:   0%|          | 0/12 [00:00<?, ?it/s]"
      ]
     },
     "metadata": {},
     "output_type": "display_data"
    },
    {
     "data": {
      "application/vnd.jupyter.widget-view+json": {
       "model_id": "6e00e460fc094a5cbac9a3ef41790971",
       "version_major": 2,
       "version_minor": 0
      },
      "text/plain": [
       "Applying [EmbeddingExtractor, ThemesExtractor, NERExtractor]:   0%|          | 0/30 [00:00<?, ?it/s]"
      ]
     },
     "metadata": {},
     "output_type": "display_data"
    },
    {
     "name": "stderr",
     "output_type": "stream",
     "text": [
      "Property 'summary_embedding' already exists in node '818743'. Skipping!\n"
     ]
    },
    {
     "data": {
      "application/vnd.jupyter.widget-view+json": {
       "model_id": "818174ac0b304b758ecdd73e70168e51",
       "version_major": 2,
       "version_minor": 0
      },
      "text/plain": [
       "Applying [CosineSimilarityBuilder, OverlapScoreBuilder]:   0%|          | 0/2 [00:00<?, ?it/s]"
      ]
     },
     "metadata": {},
     "output_type": "display_data"
    },
    {
     "data": {
      "application/vnd.jupyter.widget-view+json": {
       "model_id": "90b1f8e165e84767bdb7885b16390d1a",
       "version_major": 2,
       "version_minor": 0
      },
      "text/plain": [
       "Generating personas:   0%|          | 0/3 [00:00<?, ?it/s]"
      ]
     },
     "metadata": {},
     "output_type": "display_data"
    },
    {
     "data": {
      "application/vnd.jupyter.widget-view+json": {
       "model_id": "219122db220d4050a52725089b95aa4a",
       "version_major": 2,
       "version_minor": 0
      },
      "text/plain": [
       "Generating Scenarios:   0%|          | 0/3 [00:00<?, ?it/s]"
      ]
     },
     "metadata": {},
     "output_type": "display_data"
    },
    {
     "data": {
      "application/vnd.jupyter.widget-view+json": {
       "model_id": "f96cbba0c5394777b41268888d589354",
       "version_major": 2,
       "version_minor": 0
      },
      "text/plain": [
       "Generating Samples:   0%|          | 0/12 [00:00<?, ?it/s]"
      ]
     },
     "metadata": {},
     "output_type": "display_data"
    }
   ],
   "source": [
    "from ragas.testset import TestsetGenerator\n",
    "\n",
    "generator = TestsetGenerator(llm=generator_llm, embedding_model=generator_embeddings)\n",
    "dataset = generator.generate_with_langchain_docs(docs, testset_size=10)"
   ]
  },
  {
   "cell_type": "markdown",
   "metadata": {},
   "source": [
    "## Analyze the Testset\n"
   ]
  },
  {
   "cell_type": "code",
   "execution_count": 4,
   "metadata": {},
   "outputs": [
    {
     "data": {
      "text/plain": [
       "pandas.core.frame.DataFrame"
      ]
     },
     "execution_count": 4,
     "metadata": {},
     "output_type": "execute_result"
    }
   ],
   "source": [
    "df = dataset.to_pandas()\n",
    "type(df)"
   ]
  },
  {
   "cell_type": "code",
   "execution_count": 6,
   "metadata": {},
   "outputs": [
    {
     "data": {
      "text/html": [
       "<div>\n",
       "<style scoped>\n",
       "    .dataframe tbody tr th:only-of-type {\n",
       "        vertical-align: middle;\n",
       "    }\n",
       "\n",
       "    .dataframe tbody tr th {\n",
       "        vertical-align: top;\n",
       "    }\n",
       "\n",
       "    .dataframe thead th {\n",
       "        text-align: right;\n",
       "    }\n",
       "</style>\n",
       "<table border=\"1\" class=\"dataframe\">\n",
       "  <thead>\n",
       "    <tr style=\"text-align: right;\">\n",
       "      <th></th>\n",
       "      <th>user_input</th>\n",
       "      <th>reference_contexts</th>\n",
       "      <th>reference</th>\n",
       "      <th>synthesizer_name</th>\n",
       "    </tr>\n",
       "  </thead>\n",
       "  <tbody>\n",
       "    <tr>\n",
       "      <th>0</th>\n",
       "      <td>How can Zoom be utilized to address feedback a...</td>\n",
       "      <td>[Skills and Behaviors of allies To be an effec...</td>\n",
       "      <td>Zoom can be used as a platform for receiving f...</td>\n",
       "      <td>single_hop_specifc_query_synthesizer</td>\n",
       "    </tr>\n",
       "    <tr>\n",
       "      <th>1</th>\n",
       "      <td>Wht is GitLab?</td>\n",
       "      <td>[Tips on being an ally Identifying your power ...</td>\n",
       "      <td>Examples of Allyship at GitLab include initiat...</td>\n",
       "      <td>single_hop_specifc_query_synthesizer</td>\n",
       "    </tr>\n",
       "    <tr>\n",
       "      <th>2</th>\n",
       "      <td>Cud yu pleese explane how GitLab supports Dive...</td>\n",
       "      <td>[What it means to be an ally Take on the strug...</td>\n",
       "      <td>GitLab supports Diversity, Inclusion &amp; Belongi...</td>\n",
       "      <td>single_hop_specifc_query_synthesizer</td>\n",
       "    </tr>\n",
       "    <tr>\n",
       "      <th>3</th>\n",
       "      <td>What DIB Awards?</td>\n",
       "      <td>[title: \"Building an Inclusive Remote Culture\"...</td>\n",
       "      <td>DIB Awards are part of the initiatives for rec...</td>\n",
       "      <td>single_hop_specifc_query_synthesizer</td>\n",
       "    </tr>\n",
       "    <tr>\n",
       "      <th>4</th>\n",
       "      <td>How do DIB roundtables empower team members to...</td>\n",
       "      <td>[&lt;1-hop&gt;\\n\\ntitle: \"Roundtables\" description: ...</td>\n",
       "      <td>DIB roundtables empower team members by creati...</td>\n",
       "      <td>multi_hop_abstract_query_synthesizer</td>\n",
       "    </tr>\n",
       "    <tr>\n",
       "      <th>5</th>\n",
       "      <td>How can DIB roundtables and manager involvemen...</td>\n",
       "      <td>[&lt;1-hop&gt;\\n\\ntitle: \"Roundtables\" description: ...</td>\n",
       "      <td>DIB roundtables provide a structured platform ...</td>\n",
       "      <td>multi_hop_abstract_query_synthesizer</td>\n",
       "    </tr>\n",
       "    <tr>\n",
       "      <th>6</th>\n",
       "      <td>How do Diversity, Inclusion, and Belonging (DI...</td>\n",
       "      <td>[&lt;1-hop&gt;\\n\\ntitle: \"Roundtables\" description: ...</td>\n",
       "      <td>Diversity, Inclusion, and Belonging (DIB) roun...</td>\n",
       "      <td>multi_hop_abstract_query_synthesizer</td>\n",
       "    </tr>\n",
       "    <tr>\n",
       "      <th>7</th>\n",
       "      <td>How do DIB roundtables and manager involvement...</td>\n",
       "      <td>[&lt;1-hop&gt;\\n\\ntitle: \"Roundtables\" description: ...</td>\n",
       "      <td>DIB roundtables contribute to fostering Divers...</td>\n",
       "      <td>multi_hop_abstract_query_synthesizer</td>\n",
       "    </tr>\n",
       "    <tr>\n",
       "      <th>8</th>\n",
       "      <td>How do TMRGs contribute to the goals of Divers...</td>\n",
       "      <td>[&lt;1-hop&gt;\\n\\ntitle: \"Building an Inclusive Remo...</td>\n",
       "      <td>TMRGs, or Team Member Resource Groups, play a ...</td>\n",
       "      <td>multi_hop_specific_query_synthesizer</td>\n",
       "    </tr>\n",
       "    <tr>\n",
       "      <th>9</th>\n",
       "      <td>How do the Diversity, Inclusion and Belonging ...</td>\n",
       "      <td>[&lt;1-hop&gt;\\n\\nRoundtable Questions What are some...</td>\n",
       "      <td>The Diversity, Inclusion and Belonging (DIB) R...</td>\n",
       "      <td>multi_hop_specific_query_synthesizer</td>\n",
       "    </tr>\n",
       "  </tbody>\n",
       "</table>\n",
       "</div>"
      ],
      "text/plain": [
       "                                          user_input  \\\n",
       "0  How can Zoom be utilized to address feedback a...   \n",
       "1                                     Wht is GitLab?   \n",
       "2  Cud yu pleese explane how GitLab supports Dive...   \n",
       "3                                   What DIB Awards?   \n",
       "4  How do DIB roundtables empower team members to...   \n",
       "5  How can DIB roundtables and manager involvemen...   \n",
       "6  How do Diversity, Inclusion, and Belonging (DI...   \n",
       "7  How do DIB roundtables and manager involvement...   \n",
       "8  How do TMRGs contribute to the goals of Divers...   \n",
       "9  How do the Diversity, Inclusion and Belonging ...   \n",
       "\n",
       "                                  reference_contexts  \\\n",
       "0  [Skills and Behaviors of allies To be an effec...   \n",
       "1  [Tips on being an ally Identifying your power ...   \n",
       "2  [What it means to be an ally Take on the strug...   \n",
       "3  [title: \"Building an Inclusive Remote Culture\"...   \n",
       "4  [<1-hop>\\n\\ntitle: \"Roundtables\" description: ...   \n",
       "5  [<1-hop>\\n\\ntitle: \"Roundtables\" description: ...   \n",
       "6  [<1-hop>\\n\\ntitle: \"Roundtables\" description: ...   \n",
       "7  [<1-hop>\\n\\ntitle: \"Roundtables\" description: ...   \n",
       "8  [<1-hop>\\n\\ntitle: \"Building an Inclusive Remo...   \n",
       "9  [<1-hop>\\n\\nRoundtable Questions What are some...   \n",
       "\n",
       "                                           reference  \\\n",
       "0  Zoom can be used as a platform for receiving f...   \n",
       "1  Examples of Allyship at GitLab include initiat...   \n",
       "2  GitLab supports Diversity, Inclusion & Belongi...   \n",
       "3  DIB Awards are part of the initiatives for rec...   \n",
       "4  DIB roundtables empower team members by creati...   \n",
       "5  DIB roundtables provide a structured platform ...   \n",
       "6  Diversity, Inclusion, and Belonging (DIB) roun...   \n",
       "7  DIB roundtables contribute to fostering Divers...   \n",
       "8  TMRGs, or Team Member Resource Groups, play a ...   \n",
       "9  The Diversity, Inclusion and Belonging (DIB) R...   \n",
       "\n",
       "                       synthesizer_name  \n",
       "0  single_hop_specifc_query_synthesizer  \n",
       "1  single_hop_specifc_query_synthesizer  \n",
       "2  single_hop_specifc_query_synthesizer  \n",
       "3  single_hop_specifc_query_synthesizer  \n",
       "4  multi_hop_abstract_query_synthesizer  \n",
       "5  multi_hop_abstract_query_synthesizer  \n",
       "6  multi_hop_abstract_query_synthesizer  \n",
       "7  multi_hop_abstract_query_synthesizer  \n",
       "8  multi_hop_specific_query_synthesizer  \n",
       "9  multi_hop_specific_query_synthesizer  "
      ]
     },
     "execution_count": 6,
     "metadata": {},
     "output_type": "execute_result"
    }
   ],
   "source": [
    "df.head(10)"
   ]
  },
  {
   "cell_type": "markdown",
   "metadata": {},
   "source": [
    "## Saving DataFrame as CSV\n"
   ]
  },
  {
   "cell_type": "code",
   "execution_count": 7,
   "metadata": {},
   "outputs": [
    {
     "data": {
      "text/plain": [
       "((12, 4), (12, 4))"
      ]
     },
     "execution_count": 7,
     "metadata": {},
     "output_type": "execute_result"
    }
   ],
   "source": [
    "import pandas as pd\n",
    "\n",
    "df.to_csv(\"../data/eval_dataframe.csv\", index=False)\n",
    "\n",
    "loaded_df = pd.read_csv(\"../data/eval_dataframe.csv\")\n",
    "\n",
    "df.shape, loaded_df.shape"
   ]
  },
  {
   "cell_type": "markdown",
   "metadata": {},
   "source": [
    "## Saving DataFrame as Parquet\n",
    "\n",
    "This format is for larger datasets\n"
   ]
  },
  {
   "cell_type": "code",
   "execution_count": 8,
   "metadata": {},
   "outputs": [
    {
     "data": {
      "text/plain": [
       "((12, 4), (12, 4))"
      ]
     },
     "execution_count": 8,
     "metadata": {},
     "output_type": "execute_result"
    }
   ],
   "source": [
    "df.to_parquet(\"../data/eval_dataframe.parquet\")\n",
    "\n",
    "loaded_df = pd.read_parquet(\"../data/eval_dataframe.parquet\")\n",
    "\n",
    "df.shape, loaded_df.shape\n",
    "## Saving DataFrame as Feather\n"
   ]
  }
 ],
 "metadata": {
  "kernelspec": {
   "display_name": ".venv",
   "language": "python",
   "name": "python3"
  },
  "language_info": {
   "codemirror_mode": {
    "name": "ipython",
    "version": 3
   },
   "file_extension": ".py",
   "mimetype": "text/x-python",
   "name": "python",
   "nbconvert_exporter": "python",
   "pygments_lexer": "ipython3",
   "version": "3.11.9"
  }
 },
 "nbformat": 4,
 "nbformat_minor": 2
}
