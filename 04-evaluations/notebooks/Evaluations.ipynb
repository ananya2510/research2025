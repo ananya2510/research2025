{
 "cells": [
  {
   "cell_type": "markdown",
   "metadata": {},
   "source": [
    "# Evaluating LLM, RAG, Agents\n"
   ]
  },
  {
   "cell_type": "code",
   "execution_count": 16,
   "metadata": {},
   "outputs": [
    {
     "data": {
      "text/plain": [
       "True"
      ]
     },
     "execution_count": 16,
     "metadata": {},
     "output_type": "execute_result"
    }
   ],
   "source": [
    "from dotenv import load_dotenv, find_dotenv\n",
    "\n",
    "load_dotenv(find_dotenv())\n"
   ]
  },
  {
   "cell_type": "markdown",
   "metadata": {},
   "source": [
    "## Loading Documents\n"
   ]
  },
  {
   "cell_type": "code",
   "execution_count": 4,
   "metadata": {},
   "outputs": [
    {
     "data": {
      "text/plain": [
       "12"
      ]
     },
     "execution_count": 4,
     "metadata": {},
     "output_type": "execute_result"
    }
   ],
   "source": [
    "from llama_index.core import SimpleDirectoryReader\n",
    "\n",
    "documents = SimpleDirectoryReader(\"../data/samples/\").load_data()\n",
    "len(documents)"
   ]
  },
  {
   "cell_type": "markdown",
   "metadata": {},
   "source": [
    "## Initialization\n"
   ]
  },
  {
   "cell_type": "code",
   "execution_count": 2,
   "metadata": {},
   "outputs": [],
   "source": [
    "from ragas.testset import TestsetGenerator\n",
    "\n",
    "from llama_index.llms.openai import OpenAI\n",
    "from llama_index.embeddings.openai import OpenAIEmbedding\n",
    "\n",
    "# generator with openai models\n",
    "generator_llm = OpenAI(model=\"gpt-4o\")\n",
    "embeddings = OpenAIEmbedding(model=\"text-embedding-3-large\")\n",
    "\n",
    "generator = TestsetGenerator.from_llama_index(\n",
    "    llm=generator_llm,\n",
    "    embedding_model=embeddings,\n",
    ")"
   ]
  },
  {
   "cell_type": "code",
   "execution_count": 7,
   "metadata": {},
   "outputs": [
    {
     "data": {
      "application/vnd.jupyter.widget-view+json": {
       "model_id": "136ffad9c48c4fc1ac2ce42218c5654c",
       "version_major": 2,
       "version_minor": 0
      },
      "text/plain": [
       "Applying HeadlinesExtractor:   0%|          | 0/8 [00:00<?, ?it/s]"
      ]
     },
     "metadata": {},
     "output_type": "display_data"
    },
    {
     "data": {
      "application/vnd.jupyter.widget-view+json": {
       "model_id": "567bf19a942640abbb7629504134f53d",
       "version_major": 2,
       "version_minor": 0
      },
      "text/plain": [
       "Applying HeadlineSplitter:   0%|          | 0/12 [00:00<?, ?it/s]"
      ]
     },
     "metadata": {},
     "output_type": "display_data"
    },
    {
     "name": "stderr",
     "output_type": "stream",
     "text": [
      "unable to apply transformation: 'headlines' property not found in this node\n",
      "unable to apply transformation: 'headlines' property not found in this node\n",
      "unable to apply transformation: 'headlines' property not found in this node\n",
      "unable to apply transformation: 'headlines' property not found in this node\n"
     ]
    },
    {
     "data": {
      "application/vnd.jupyter.widget-view+json": {
       "model_id": "81675a87a6cc43b58a3058b14dc1dd2b",
       "version_major": 2,
       "version_minor": 0
      },
      "text/plain": [
       "Applying SummaryExtractor:   0%|          | 0/11 [00:00<?, ?it/s]"
      ]
     },
     "metadata": {},
     "output_type": "display_data"
    },
    {
     "name": "stderr",
     "output_type": "stream",
     "text": [
      "Property 'summary' already exists in node '6fba97'. Skipping!\n",
      "Property 'summary' already exists in node '1d0067'. Skipping!\n",
      "Property 'summary' already exists in node '1337b4'. Skipping!\n"
     ]
    },
    {
     "data": {
      "application/vnd.jupyter.widget-view+json": {
       "model_id": "0fa27cec9baa4601ade0f2877db39c0a",
       "version_major": 2,
       "version_minor": 0
      },
      "text/plain": [
       "Applying CustomNodeFilter:   0%|          | 0/14 [00:00<?, ?it/s]"
      ]
     },
     "metadata": {},
     "output_type": "display_data"
    },
    {
     "data": {
      "application/vnd.jupyter.widget-view+json": {
       "model_id": "e0676193a7db4863a12a1b183560af1c",
       "version_major": 2,
       "version_minor": 0
      },
      "text/plain": [
       "Applying [EmbeddingExtractor, ThemesExtractor, NERExtractor]:   0%|          | 0/39 [00:00<?, ?it/s]"
      ]
     },
     "metadata": {},
     "output_type": "display_data"
    },
    {
     "name": "stderr",
     "output_type": "stream",
     "text": [
      "Property 'summary_embedding' already exists in node '1337b4'. Skipping!\n",
      "Property 'summary_embedding' already exists in node '1d0067'. Skipping!\n",
      "Property 'summary_embedding' already exists in node '6fba97'. Skipping!\n"
     ]
    },
    {
     "data": {
      "application/vnd.jupyter.widget-view+json": {
       "model_id": "8fa8b21fe59d44098366f8e026579ec5",
       "version_major": 2,
       "version_minor": 0
      },
      "text/plain": [
       "Applying [CosineSimilarityBuilder, OverlapScoreBuilder]:   0%|          | 0/2 [00:00<?, ?it/s]"
      ]
     },
     "metadata": {},
     "output_type": "display_data"
    },
    {
     "data": {
      "application/vnd.jupyter.widget-view+json": {
       "model_id": "66c11f43824b40ef8990478c1eef3abe",
       "version_major": 2,
       "version_minor": 0
      },
      "text/plain": [
       "Generating personas:   0%|          | 0/3 [00:00<?, ?it/s]"
      ]
     },
     "metadata": {},
     "output_type": "display_data"
    },
    {
     "data": {
      "application/vnd.jupyter.widget-view+json": {
       "model_id": "e2010aa613964ed88d766480847be198",
       "version_major": 2,
       "version_minor": 0
      },
      "text/plain": [
       "Generating Scenarios:   0%|          | 0/2 [00:00<?, ?it/s]"
      ]
     },
     "metadata": {},
     "output_type": "display_data"
    },
    {
     "data": {
      "application/vnd.jupyter.widget-view+json": {
       "model_id": "593702900a7f44d4b71742db50d7deb4",
       "version_major": 2,
       "version_minor": 0
      },
      "text/plain": [
       "Generating Samples:   0%|          | 0/6 [00:00<?, ?it/s]"
      ]
     },
     "metadata": {},
     "output_type": "display_data"
    }
   ],
   "source": [
    "testset = generator.generate_with_llamaindex_docs(\n",
    "    documents,\n",
    "    testset_size=5,\n",
    ")"
   ]
  },
  {
   "cell_type": "code",
   "execution_count": 8,
   "metadata": {},
   "outputs": [
    {
     "data": {
      "text/html": [
       "<div>\n",
       "<style scoped>\n",
       "    .dataframe tbody tr th:only-of-type {\n",
       "        vertical-align: middle;\n",
       "    }\n",
       "\n",
       "    .dataframe tbody tr th {\n",
       "        vertical-align: top;\n",
       "    }\n",
       "\n",
       "    .dataframe thead th {\n",
       "        text-align: right;\n",
       "    }\n",
       "</style>\n",
       "<table border=\"1\" class=\"dataframe\">\n",
       "  <thead>\n",
       "    <tr style=\"text-align: right;\">\n",
       "      <th></th>\n",
       "      <th>user_input</th>\n",
       "      <th>reference_contexts</th>\n",
       "      <th>reference</th>\n",
       "      <th>synthesizer_name</th>\n",
       "    </tr>\n",
       "  </thead>\n",
       "  <tbody>\n",
       "    <tr>\n",
       "      <th>0</th>\n",
       "      <td>Wht are sum ways to b an efective ally in supo...</td>\n",
       "      <td>[Skills and Behaviors of allies To be an effec...</td>\n",
       "      <td>To be an effective ally in support of Black Li...</td>\n",
       "      <td>single_hop_specifc_query_synthesizer</td>\n",
       "    </tr>\n",
       "    <tr>\n",
       "      <th>1</th>\n",
       "      <td>Cud yu pleese explane how GitLab is involvd in...</td>\n",
       "      <td>[Concepts &amp; Terms 1. Privilege: an unearned ad...</td>\n",
       "      <td>GitLab promotes allyship and inclusivity throu...</td>\n",
       "      <td>single_hop_specifc_query_synthesizer</td>\n",
       "    </tr>\n",
       "    <tr>\n",
       "      <th>2</th>\n",
       "      <td>Howw can effectivee listeningg enhancee allysh...</td>\n",
       "      <td>[What it means to be an ally - Take on the str...</td>\n",
       "      <td>Effective listening is one of the essential sk...</td>\n",
       "      <td>single_hop_specifc_query_synthesizer</td>\n",
       "    </tr>\n",
       "    <tr>\n",
       "      <th>3</th>\n",
       "      <td>How does the Diversity, Inclusions and Belongi...</td>\n",
       "      <td>[&lt;1-hop&gt;\\n\\nThe Roundtable ### Set the ground ...</td>\n",
       "      <td>The Diversity, Inclusions and Belonging Team f...</td>\n",
       "      <td>multi_hop_specific_query_synthesizer</td>\n",
       "    </tr>\n",
       "    <tr>\n",
       "      <th>4</th>\n",
       "      <td>How does the Diversity, Inclusion &amp; Belonging ...</td>\n",
       "      <td>[&lt;1-hop&gt;\\n\\n--- title: Diversity Inclusion &amp; B...</td>\n",
       "      <td>The Diversity, Inclusion &amp; Belonging (DIB) Tea...</td>\n",
       "      <td>multi_hop_specific_query_synthesizer</td>\n",
       "    </tr>\n",
       "  </tbody>\n",
       "</table>\n",
       "</div>"
      ],
      "text/plain": [
       "                                          user_input  \\\n",
       "0  Wht are sum ways to b an efective ally in supo...   \n",
       "1  Cud yu pleese explane how GitLab is involvd in...   \n",
       "2  Howw can effectivee listeningg enhancee allysh...   \n",
       "3  How does the Diversity, Inclusions and Belongi...   \n",
       "4  How does the Diversity, Inclusion & Belonging ...   \n",
       "\n",
       "                                  reference_contexts  \\\n",
       "0  [Skills and Behaviors of allies To be an effec...   \n",
       "1  [Concepts & Terms 1. Privilege: an unearned ad...   \n",
       "2  [What it means to be an ally - Take on the str...   \n",
       "3  [<1-hop>\\n\\nThe Roundtable ### Set the ground ...   \n",
       "4  [<1-hop>\\n\\n--- title: Diversity Inclusion & B...   \n",
       "\n",
       "                                           reference  \\\n",
       "0  To be an effective ally in support of Black Li...   \n",
       "1  GitLab promotes allyship and inclusivity throu...   \n",
       "2  Effective listening is one of the essential sk...   \n",
       "3  The Diversity, Inclusions and Belonging Team f...   \n",
       "4  The Diversity, Inclusion & Belonging (DIB) Tea...   \n",
       "\n",
       "                       synthesizer_name  \n",
       "0  single_hop_specifc_query_synthesizer  \n",
       "1  single_hop_specifc_query_synthesizer  \n",
       "2  single_hop_specifc_query_synthesizer  \n",
       "3  multi_hop_specific_query_synthesizer  \n",
       "4  multi_hop_specific_query_synthesizer  "
      ]
     },
     "execution_count": 8,
     "metadata": {},
     "output_type": "execute_result"
    }
   ],
   "source": [
    "df = testset.to_pandas()\n",
    "df.head()"
   ]
  },
  {
   "cell_type": "markdown",
   "metadata": {},
   "source": [
    "## Build a `QueryEngine`\n"
   ]
  },
  {
   "cell_type": "code",
   "execution_count": 5,
   "metadata": {},
   "outputs": [],
   "source": [
    "from llama_index.core import VectorStoreIndex\n",
    "\n",
    "vector_index = VectorStoreIndex.from_documents(documents)\n",
    "\n",
    "query_engine = vector_index.as_query_engine()"
   ]
  },
  {
   "cell_type": "code",
   "execution_count": 9,
   "metadata": {},
   "outputs": [
    {
     "data": {
      "text/plain": [
       "'Wht are sum ways to b an efective ally in suport of Black Lives Matter?'"
      ]
     },
     "execution_count": 9,
     "metadata": {},
     "output_type": "execute_result"
    }
   ],
   "source": [
    "# convert it to pandas dataset\n",
    "df = testset.to_pandas()\n",
    "df[\"user_input\"][0]"
   ]
  },
  {
   "cell_type": "code",
   "execution_count": 10,
   "metadata": {},
   "outputs": [
    {
     "name": "stdout",
     "output_type": "stream",
     "text": [
      "Identifying your power and privilege, following and supporting those from marginalized groups, spending time educating yourself, using knowledge to help, understanding Perception vs. Reality, not stopping with your power but also leveraging others' powers of authority are some ways to be an effective ally in support of Black Lives Matter.\n"
     ]
    }
   ],
   "source": [
    "response_vector = query_engine.query(df[\"user_input\"][0])\n",
    "\n",
    "print(response_vector)"
   ]
  },
  {
   "cell_type": "markdown",
   "metadata": {},
   "source": [
    "## Evaluating the `QueryEngine`\n"
   ]
  },
  {
   "cell_type": "code",
   "execution_count": 11,
   "metadata": {},
   "outputs": [],
   "source": [
    "# import metrics\n",
    "from ragas.metrics import (\n",
    "    Faithfulness,\n",
    "    AnswerRelevancy,\n",
    "    ContextPrecision,\n",
    "    ContextRecall,\n",
    ")\n",
    "\n",
    "# init metrics with evaluator LLM\n",
    "from ragas.llms import LlamaIndexLLMWrapper\n",
    "\n",
    "evaluator_llm = LlamaIndexLLMWrapper(OpenAI(model=\"gpt-4o\"))\n",
    "metrics = [\n",
    "    Faithfulness(llm=evaluator_llm),\n",
    "    AnswerRelevancy(llm=evaluator_llm),\n",
    "    ContextPrecision(llm=evaluator_llm),\n",
    "    ContextRecall(llm=evaluator_llm),\n",
    "]"
   ]
  },
  {
   "cell_type": "code",
   "execution_count": 12,
   "metadata": {},
   "outputs": [
    {
     "data": {
      "text/plain": [
       "EvaluationDataset(features=['user_input', 'reference_contexts', 'reference'], len=6)"
      ]
     },
     "execution_count": 12,
     "metadata": {},
     "output_type": "execute_result"
    }
   ],
   "source": [
    "# convert to Ragas Evaluation Dataset\n",
    "ragas_dataset = testset.to_evaluation_dataset()\n",
    "ragas_dataset"
   ]
  },
  {
   "cell_type": "code",
   "execution_count": 13,
   "metadata": {},
   "outputs": [
    {
     "data": {
      "application/vnd.jupyter.widget-view+json": {
       "model_id": "964e9683c49f4a6ea7dd44bc5b72636a",
       "version_major": 2,
       "version_minor": 0
      },
      "text/plain": [
       "Running Query Engine:   0%|          | 0/6 [00:00<?, ?it/s]"
      ]
     },
     "metadata": {},
     "output_type": "display_data"
    },
    {
     "data": {
      "application/vnd.jupyter.widget-view+json": {
       "model_id": "5d76a9db42364a37b6643727308cb43c",
       "version_major": 2,
       "version_minor": 0
      },
      "text/plain": [
       "Evaluating:   0%|          | 0/24 [00:00<?, ?it/s]"
      ]
     },
     "metadata": {},
     "output_type": "display_data"
    }
   ],
   "source": [
    "from ragas.integrations.llama_index import evaluate\n",
    "\n",
    "result = evaluate(\n",
    "    query_engine=query_engine,\n",
    "    metrics=metrics,\n",
    "    dataset=ragas_dataset,\n",
    ")"
   ]
  },
  {
   "cell_type": "code",
   "execution_count": 14,
   "metadata": {},
   "outputs": [
    {
     "name": "stdout",
     "output_type": "stream",
     "text": [
      "{'faithfulness': 0.9035, 'answer_relevancy': 0.9691, 'context_precision': 0.6667, 'context_recall': 0.5556}\n"
     ]
    }
   ],
   "source": [
    "# final scores\n",
    "print(result)"
   ]
  },
  {
   "cell_type": "code",
   "execution_count": 15,
   "metadata": {},
   "outputs": [
    {
     "data": {
      "text/html": [
       "<div>\n",
       "<style scoped>\n",
       "    .dataframe tbody tr th:only-of-type {\n",
       "        vertical-align: middle;\n",
       "    }\n",
       "\n",
       "    .dataframe tbody tr th {\n",
       "        vertical-align: top;\n",
       "    }\n",
       "\n",
       "    .dataframe thead th {\n",
       "        text-align: right;\n",
       "    }\n",
       "</style>\n",
       "<table border=\"1\" class=\"dataframe\">\n",
       "  <thead>\n",
       "    <tr style=\"text-align: right;\">\n",
       "      <th></th>\n",
       "      <th>user_input</th>\n",
       "      <th>retrieved_contexts</th>\n",
       "      <th>reference_contexts</th>\n",
       "      <th>response</th>\n",
       "      <th>reference</th>\n",
       "      <th>faithfulness</th>\n",
       "      <th>answer_relevancy</th>\n",
       "      <th>context_precision</th>\n",
       "      <th>context_recall</th>\n",
       "    </tr>\n",
       "  </thead>\n",
       "  <tbody>\n",
       "    <tr>\n",
       "      <th>0</th>\n",
       "      <td>Wht are sum ways to b an efective ally in supo...</td>\n",
       "      <td>[--- One of the mistakes that often happens he...</td>\n",
       "      <td>[Skills and Behaviors of allies To be an effec...</td>\n",
       "      <td>Some ways to be an effective ally in support o...</td>\n",
       "      <td>To be an effective ally in support of Black Li...</td>\n",
       "      <td>0.833333</td>\n",
       "      <td>0.974082</td>\n",
       "      <td>1.0</td>\n",
       "      <td>1.000000</td>\n",
       "    </tr>\n",
       "    <tr>\n",
       "      <th>1</th>\n",
       "      <td>Cud yu pleese explane how GitLab is involvd in...</td>\n",
       "      <td>[---\\ntitle: \"Being Inclusive\"\\ndescription: \"...</td>\n",
       "      <td>[Concepts &amp; Terms 1. Privilege: an unearned ad...</td>\n",
       "      <td>GitLab promotes allyship and inclusivity withi...</td>\n",
       "      <td>GitLab promotes allyship and inclusivity throu...</td>\n",
       "      <td>1.000000</td>\n",
       "      <td>0.918888</td>\n",
       "      <td>0.0</td>\n",
       "      <td>0.000000</td>\n",
       "    </tr>\n",
       "    <tr>\n",
       "      <th>2</th>\n",
       "      <td>Howw can effectivee listeningg enhancee allysh...</td>\n",
       "      <td>[## Allyship &amp; Empathy\\n\\n### Being an Ally Re...</td>\n",
       "      <td>[What it means to be an ally - Take on the str...</td>\n",
       "      <td>Effective listening can enhance allyship skill...</td>\n",
       "      <td>Effective listening is one of the essential sk...</td>\n",
       "      <td>1.000000</td>\n",
       "      <td>0.978787</td>\n",
       "      <td>1.0</td>\n",
       "      <td>1.000000</td>\n",
       "    </tr>\n",
       "    <tr>\n",
       "      <th>3</th>\n",
       "      <td>How does the Diversity, Inclusions and Belongi...</td>\n",
       "      <td>[A DIB Team Member will set up a time to discu...</td>\n",
       "      <td>[&lt;1-hop&gt;\\n\\nThe Roundtable ### Set the ground ...</td>\n",
       "      <td>The Diversity, Inclusions and Belonging Team f...</td>\n",
       "      <td>The Diversity, Inclusions and Belonging Team f...</td>\n",
       "      <td>0.818182</td>\n",
       "      <td>0.999999</td>\n",
       "      <td>1.0</td>\n",
       "      <td>0.666667</td>\n",
       "    </tr>\n",
       "    <tr>\n",
       "      <th>4</th>\n",
       "      <td>How does the Diversity, Inclusion &amp; Belonging ...</td>\n",
       "      <td>[Teach people how to disagree, set the expecta...</td>\n",
       "      <td>[&lt;1-hop&gt;\\n\\n--- title: Diversity Inclusion &amp; B...</td>\n",
       "      <td>The Diversity, Inclusion &amp; Belonging Team at G...</td>\n",
       "      <td>The Diversity, Inclusion &amp; Belonging (DIB) Tea...</td>\n",
       "      <td>0.769231</td>\n",
       "      <td>1.000000</td>\n",
       "      <td>0.0</td>\n",
       "      <td>0.000000</td>\n",
       "    </tr>\n",
       "    <tr>\n",
       "      <th>5</th>\n",
       "      <td>How does GitLab's Diversity, Inclusion &amp; Belon...</td>\n",
       "      <td>[---\\ntitle: Diversity Inclusion &amp; Belonging C...</td>\n",
       "      <td>[&lt;1-hop&gt;\\n\\nEvaluating the company's current D...</td>\n",
       "      <td>The DIB team at GitLab enhances engagement and...</td>\n",
       "      <td>GitLab's Diversity, Inclusion &amp; Belonging (DIB...</td>\n",
       "      <td>1.000000</td>\n",
       "      <td>0.942668</td>\n",
       "      <td>1.0</td>\n",
       "      <td>0.666667</td>\n",
       "    </tr>\n",
       "  </tbody>\n",
       "</table>\n",
       "</div>"
      ],
      "text/plain": [
       "                                          user_input  \\\n",
       "0  Wht are sum ways to b an efective ally in supo...   \n",
       "1  Cud yu pleese explane how GitLab is involvd in...   \n",
       "2  Howw can effectivee listeningg enhancee allysh...   \n",
       "3  How does the Diversity, Inclusions and Belongi...   \n",
       "4  How does the Diversity, Inclusion & Belonging ...   \n",
       "5  How does GitLab's Diversity, Inclusion & Belon...   \n",
       "\n",
       "                                  retrieved_contexts  \\\n",
       "0  [--- One of the mistakes that often happens he...   \n",
       "1  [---\\ntitle: \"Being Inclusive\"\\ndescription: \"...   \n",
       "2  [## Allyship & Empathy\\n\\n### Being an Ally Re...   \n",
       "3  [A DIB Team Member will set up a time to discu...   \n",
       "4  [Teach people how to disagree, set the expecta...   \n",
       "5  [---\\ntitle: Diversity Inclusion & Belonging C...   \n",
       "\n",
       "                                  reference_contexts  \\\n",
       "0  [Skills and Behaviors of allies To be an effec...   \n",
       "1  [Concepts & Terms 1. Privilege: an unearned ad...   \n",
       "2  [What it means to be an ally - Take on the str...   \n",
       "3  [<1-hop>\\n\\nThe Roundtable ### Set the ground ...   \n",
       "4  [<1-hop>\\n\\n--- title: Diversity Inclusion & B...   \n",
       "5  [<1-hop>\\n\\nEvaluating the company's current D...   \n",
       "\n",
       "                                            response  \\\n",
       "0  Some ways to be an effective ally in support o...   \n",
       "1  GitLab promotes allyship and inclusivity withi...   \n",
       "2  Effective listening can enhance allyship skill...   \n",
       "3  The Diversity, Inclusions and Belonging Team f...   \n",
       "4  The Diversity, Inclusion & Belonging Team at G...   \n",
       "5  The DIB team at GitLab enhances engagement and...   \n",
       "\n",
       "                                           reference  faithfulness  \\\n",
       "0  To be an effective ally in support of Black Li...      0.833333   \n",
       "1  GitLab promotes allyship and inclusivity throu...      1.000000   \n",
       "2  Effective listening is one of the essential sk...      1.000000   \n",
       "3  The Diversity, Inclusions and Belonging Team f...      0.818182   \n",
       "4  The Diversity, Inclusion & Belonging (DIB) Tea...      0.769231   \n",
       "5  GitLab's Diversity, Inclusion & Belonging (DIB...      1.000000   \n",
       "\n",
       "   answer_relevancy  context_precision  context_recall  \n",
       "0          0.974082                1.0        1.000000  \n",
       "1          0.918888                0.0        0.000000  \n",
       "2          0.978787                1.0        1.000000  \n",
       "3          0.999999                1.0        0.666667  \n",
       "4          1.000000                0.0        0.000000  \n",
       "5          0.942668                1.0        0.666667  "
      ]
     },
     "execution_count": 15,
     "metadata": {},
     "output_type": "execute_result"
    }
   ],
   "source": [
    "result.to_pandas()"
   ]
  },
  {
   "cell_type": "markdown",
   "metadata": {},
   "source": [
    "## KnowledgeGraph\n"
   ]
  },
  {
   "cell_type": "code",
   "execution_count": 33,
   "metadata": {},
   "outputs": [],
   "source": [
    "from ragas.testset.graph import KnowledgeGraph\n",
    "\n",
    "kg = KnowledgeGraph()"
   ]
  },
  {
   "cell_type": "code",
   "execution_count": 34,
   "metadata": {},
   "outputs": [],
   "source": [
    "from ragas.testset.graph import Node, NodeType\n",
    "\n",
    "for doc in documents:\n",
    "    kg.nodes.append(\n",
    "        Node(\n",
    "            type=NodeType.DOCUMENT,\n",
    "            properties={\n",
    "                \"page_content\": doc.text, \n",
    "                \"text\": doc.text, \n",
    "                \"document_metadata\": doc.metadata\n",
    "            }\n",
    "        )\n",
    "    )"
   ]
  },
  {
   "cell_type": "code",
   "execution_count": 35,
   "metadata": {},
   "outputs": [
    {
     "data": {
      "text/plain": [
       "KnowledgeGraph(nodes: 12, relationships: 0)"
      ]
     },
     "execution_count": 35,
     "metadata": {},
     "output_type": "execute_result"
    }
   ],
   "source": [
    "kg"
   ]
  },
  {
   "cell_type": "code",
   "execution_count": 39,
   "metadata": {},
   "outputs": [
    {
     "data": {
      "text/plain": [
       "[Node(id: 50891e, type: NodeType.DOCUMENT, properties: ['page_content', 'text', 'document_metadata']),\n",
       " Node(id: 3d9556, type: NodeType.DOCUMENT, properties: ['page_content', 'text', 'document_metadata']),\n",
       " Node(id: 164b54, type: NodeType.DOCUMENT, properties: ['page_content', 'text', 'document_metadata']),\n",
       " Node(id: aa0e6d, type: NodeType.DOCUMENT, properties: ['page_content', 'text', 'document_metadata']),\n",
       " Node(id: 9330f9, type: NodeType.DOCUMENT, properties: ['page_content', 'text', 'document_metadata']),\n",
       " Node(id: 5c63ee, type: NodeType.DOCUMENT, properties: ['page_content', 'text', 'document_metadata']),\n",
       " Node(id: 1aa22c, type: NodeType.DOCUMENT, properties: ['page_content', 'text', 'document_metadata']),\n",
       " Node(id: 425149, type: NodeType.DOCUMENT, properties: ['page_content', 'text', 'document_metadata']),\n",
       " Node(id: 0c4204, type: NodeType.DOCUMENT, properties: ['page_content', 'text', 'document_metadata']),\n",
       " Node(id: a3c4d0, type: NodeType.DOCUMENT, properties: ['page_content', 'text', 'document_metadata']),\n",
       " Node(id: 9688be, type: NodeType.DOCUMENT, properties: ['page_content', 'text', 'document_metadata']),\n",
       " Node(id: 5eed81, type: NodeType.DOCUMENT, properties: ['page_content', 'text', 'document_metadata'])]"
      ]
     },
     "execution_count": 39,
     "metadata": {},
     "output_type": "execute_result"
    }
   ],
   "source": [
    "kg.nodes\n"
   ]
  }
 ],
 "metadata": {
  "kernelspec": {
   "display_name": ".venv",
   "language": "python",
   "name": "python3"
  },
  "language_info": {
   "codemirror_mode": {
    "name": "ipython",
    "version": 3
   },
   "file_extension": ".py",
   "mimetype": "text/x-python",
   "name": "python",
   "nbconvert_exporter": "python",
   "pygments_lexer": "ipython3",
   "version": "3.11.9"
  }
 },
 "nbformat": 4,
 "nbformat_minor": 2
}
