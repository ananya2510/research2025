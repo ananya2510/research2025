{
 "cells": [
  {
   "cell_type": "markdown",
   "metadata": {},
   "source": [
    "# Huatuo + MedReason - Medical Reasoning\n"
   ]
  },
  {
   "cell_type": "markdown",
   "metadata": {},
   "source": [
    "## 1. HuatuoGPT\n",
    "\n",
    "HuatuoGPT-o1 is a medical large language model (LLM)—a powerful AI trained to think through complex medical cases like a very smart doctor. But unlike ordinary AI models that just give you one answer and stop, this one is trained to reason deeply, catch its own mistakes, and try better strategies.\n",
    "\n",
    "It uses two key tools:\n",
    "\n",
    "1. A verifier that checks if the answer is medically correct.\n",
    "2. Reinforcement learning (specifically PPO, or Proximal Policy Optimization), which teaches the model to get better over time—rewarding it for good reasoning.\n"
   ]
  },
  {
   "cell_type": "markdown",
   "metadata": {},
   "source": [
    "HuatuoGPT-o1 doesn’t just memorize facts—it thinks like a doctor working through a tough case.\n",
    "\n",
    "Example:\n",
    "\n",
    "A patient has symptoms like:\n",
    "• Fever\n",
    "• Cough\n",
    "• Shortness of breath\n",
    "\n",
    "A simple AI might say:\n",
    "\n",
    "> “This is pneumonia.”\n",
    "\n",
    "HuatuoGPT-o1 might say:\n",
    "\n",
    "> “It could be pneumonia, but also maybe COVID-19 or even tuberculosis. Let’s rule them out by checking travel history, testing oxygen levels, and doing a chest X-ray.”\n",
    "\n",
    "It reasons step-by-step, much like a clinician would.\n",
    "\n",
    "It can identify mistakes, explore alternative strategies, and refine its answers.”\n",
    "\n",
    "Instead of stopping at one guess, it:\n",
    "• Looks back and checks for errors\n",
    "• Tries different medical strategies\n",
    "• Improves its own answer\n",
    "\n",
    "Analogy:\n",
    "\n",
    "Think of it like a chess player reviewing a game. It says:\n",
    "\n",
    "> “That move was bad—I missed the threat. Let me rethink from that point and find a better move.”\n",
    "\n",
    "Medical example:\n",
    "\n",
    "Let’s say the AI originally said:\n",
    "\n",
    "> “The patient has bacterial meningitis—start antibiotics.”\n",
    "\n",
    "Later, it realizes:\n",
    "\n",
    "> “Wait, they didn’t have a stiff neck or fever—maybe it’s viral instead. Let me refine that answer.”\n"
   ]
  },
  {
   "cell_type": "code",
   "execution_count": 1,
   "metadata": {},
   "outputs": [
    {
     "data": {
      "application/vnd.jupyter.widget-view+json": {
       "model_id": "1987899add49447fb2ad1aebc761b918",
       "version_major": 2,
       "version_minor": 0
      },
      "text/plain": [
       "Loading checkpoint shards:   0%|          | 0/4 [00:00<?, ?it/s]"
      ]
     },
     "metadata": {},
     "output_type": "display_data"
    }
   ],
   "source": [
    "from transformers import AutoModelForCausalLM, AutoTokenizer\n",
    "\n",
    "model = AutoModelForCausalLM.from_pretrained(\"FreedomIntelligence/HuatuoGPT-o1-7B\",torch_dtype=\"auto\",device_map=\"auto\")\n",
    "tokenizer = AutoTokenizer.from_pretrained(\"FreedomIntelligence/HuatuoGPT-o1-7B\")"
   ]
  },
  {
   "cell_type": "code",
   "execution_count": 10,
   "metadata": {},
   "outputs": [
    {
     "name": "stdout",
     "output_type": "stream",
     "text": [
      "system\n",
      "You are HuatuoGPT-o1, created by The Chinese University of Hong Kong, Shenzhen. You are a helpful assistant.\n",
      "user\n",
      "How to stop a cough?\n",
      "assistant\n",
      "## Thinking\n",
      "\n",
      "Okay, so how do we stop a cough? Let's think about it. Coughing is our body's way of trying to clear something out of the airways, like mucus or irritants. So, if we can figure out what's causing the cough, maybe we can just get rid of that thing. \n",
      "\n",
      "First off, there are over-the-counter medicines like cough suppressants and expectorants. These can be pretty handy. Cough suppressants help calm the cough reflex, which might be useful if you're just annoyed by the sound of it. But, if there's something stuck in your throat, an expectorant could be better because it helps loosen up the mucus so you can spit it out more easily.\n",
      "\n",
      "Oh, and don't forget about home remedies! Honey is a classic one. It's sweet and soothing, and people say it helps with coughs. Warm lemon water or tea with honey can really make a difference. And then there's steam inhalation, which is basically breathing in steam from a bowl of hot water or a shower. It can help moisten the airways and ease the cough.\n",
      "\n",
      "But wait, let's not forget about other things that might help. Staying hydrated is super important because it keeps the mucus thin and easier to cough up. Also, avoiding things that might irritate your throat, like smoke or dust, can be a big help.\n",
      "\n",
      "Now, if your cough is really persistent or comes with other symptoms like fever or trouble breathing, it's probably best to see a doctor. They can check if there's something more serious going on, like pneumonia or bronchitis.\n",
      "\n",
      "So, in short, to stop a cough, try using some of those over-the-counter meds, go for some home remedies, stay hydrated, and avoid irritants. If nothing else works, it's time to see a healthcare professional.\n",
      "\n",
      "## Final Response\n",
      "\n",
      "To stop a cough, consider these strategies:\n",
      "\n",
      "1. **Use Medications**: Over-the-counter medications like cough suppressants (e.g., dextromethorone) can help reduce the urge to cough, especially if the cough is dry and bothersome. Expectorants (e.g., guaifenesin) may be beneficial if you have a productive cough, helping to loosen mucus so it can be expelled more easily.\n",
      "\n",
      "2. **Try Home Remedies**: Honey is a popular natural remedy for soothing a cough. A teaspoon of honey can provide relief, particularly when mixed with warm lemon water or herbal tea. Steam inhalation, by inhaling steam from a bowl of hot water or taking a hot shower, can also help moisten the airways and alleviate coughing.\n",
      "\n",
      "3. **Stay Hydrated**: Drinking plenty of fluids, such as water or warm liquids, helps keep the mucus in your throat thin and easier to manage. This can prevent the irritation that often triggers coughing.\n",
      "\n",
      "4. **Avoid Irritants**: Stay away from substances that can irritate your throat, such as smoke, dust, and strong fumes. These can exacerbate coughing and make it harder to breathe comfortably.\n",
      "\n",
      "5. **Consult a Healthcare Professional**: If your cough persists or is accompanied by other concerning symptoms like fever, difficulty breathing, or chest pain, it's wise to seek medical advice. Conditions like pneumonia, bronchitis, or asthma may require specific treatment.\n",
      "\n",
      "By employing these methods, you can effectively address and potentially relieve your cough.\n",
      "CPU times: user 39.7 s, sys: 11.6 s, total: 51.3 s\n",
      "Wall time: 56.4 s\n"
     ]
    }
   ],
   "source": [
    "%%time\n",
    "\n",
    "input_text = \"How to stop a cough?\"\n",
    "messages = [{\"role\": \"user\", \"content\": input_text}]\n",
    "\n",
    "inputs = tokenizer(tokenizer.apply_chat_template(messages, tokenize=False,add_generation_prompt=True\n",
    "), return_tensors=\"pt\").to(model.device)\n",
    "outputs = model.generate(**inputs, max_new_tokens=2048)\n",
    "print(tokenizer.decode(outputs[0], skip_special_tokens=True))"
   ]
  },
  {
   "cell_type": "code",
   "execution_count": 2,
   "metadata": {},
   "outputs": [
    {
     "name": "stdout",
     "output_type": "stream",
     "text": [
      "system\n",
      "You are HuatuoGPT-o1, created by The Chinese University of Hong Kong, Shenzhen. You are a helpful assistant.\n",
      "user\n",
      "Should I be concerned about persistent lower back pain?\n",
      "assistant\n",
      "## Thinking\n",
      "\n",
      "Okay, so I've been dealing with this nagging lower back pain for a while now. It's not like it's unbearable or anything, but it's definitely there all the time. I'm wondering if I should be worried about it. \n",
      "\n",
      "First off, what could be causing it? Well, I know that lower back pain can come from a bunch of different things. Maybe it's just something simple like muscle strain or maybe it's something more serious like a herniated disc or even something like arthritis. \n",
      "\n",
      "Hmm, let's think about how long this has been going on. If it's been bothering me for weeks or months, that might mean it's chronic. Chronic pain can sometimes be a sign of something more serious, right? So, that's something to keep in mind. \n",
      "\n",
      "Oh, and what about other symptoms? If I'm also feeling numbness or weakness in my legs, or if I have trouble urinating or having bowel movements, those would be red flags. Those could point towards something like cauda equina syndrome, which is pretty serious. \n",
      "\n",
      "Also, lifestyle factors could play a role here. Am I sitting or standing in awkward positions for long periods? Do I have a job that involves heavy lifting? These kinds of things can definitely contribute to back pain. \n",
      "\n",
      "So, putting it all together, if my back pain is persistent and comes with any of those worrying symptoms, then yeah, I should probably see a doctor. But if it's just mild and doesn't seem to be getting worse, maybe it's nothing too serious. \n",
      "\n",
      "In the end, it seems like it's best to err on the side of caution. If I'm at all unsure, checking with a healthcare professional sounds like a good idea.\n",
      "\n",
      "## Final Response\n",
      "\n",
      "Persistent lower back pain can be concerning, especially if it lasts for weeks or months without improvement. While some cases of chronic back pain may be due to minor issues like muscle strain, it's important to consider other potential causes such as herniated discs, spinal stenosis, or even conditions like arthritis. \n",
      "\n",
      "If your back pain is accompanied by additional symptoms like numbnessness or weakness in your legs, or if you experience difficulty with urination or bowel movements, these could indicate a more serious condition, such as cauda equina syndrome, which requires immediate medical attention. \n",
      "\n",
      "Lifestyle factors, such as prolonged awkward postures or activities involving heavy lifting, can also contribute to back pain. \n",
      "\n",
      "If your pain is mild and not worsening, it might not be immediately serious, but it's still advisable to monitor it. If you're unsure or if the pain persists despite self-care measures, consulting a healthcare professional is a prudent step to ensure there isn't an underlying issue that needs treatment.\n",
      "CPU times: user 1min 6s, sys: 11 s, total: 1min 17s\n",
      "Wall time: 1min 35s\n"
     ]
    }
   ],
   "source": [
    "%%time\n",
    "\n",
    "input_text = \"Should I be concerned about persistent lower back pain?\"\n",
    "messages = [{\"role\": \"user\", \"content\": input_text}]\n",
    "\n",
    "inputs = tokenizer(tokenizer.apply_chat_template(messages, tokenize=False,add_generation_prompt=True\n",
    "), return_tensors=\"pt\").to(model.device)\n",
    "outputs = model.generate(**inputs, max_new_tokens=2048)\n",
    "print(tokenizer.decode(outputs[0], skip_special_tokens=True))"
   ]
  },
  {
   "cell_type": "code",
   "execution_count": 3,
   "metadata": {},
   "outputs": [
    {
     "name": "stdout",
     "output_type": "stream",
     "text": [
      "system\n",
      "You are HuatuoGPT-o1, created by The Chinese University of Hong Kong, Shenzhen. You are a helpful assistant.\n",
      "user\n",
      "How many weeks before pregnancy due date should I avoid extraneous activities?\n",
      "assistant\n",
      "## Thinking\n",
      "\n",
      "Okay, so when it comes to planning for a healthy pregnancy, there's this whole thing about avoiding certain activities as you get closer to your due date. I'm thinking, what exactly does that mean in terms of weeks?\n",
      "\n",
      "First off, let's think about the typical pregnancy timeline. It's usually around 40 weeks from the last menstrual period. But if we're talking about conception, that's more like 38 weeks of gestation. So, we've got a good chunk of time to consider what's safe.\n",
      "\n",
      "Now, as you approach the end of your pregnancy, things start getting a bit more delicate. Doctors often recommend being cautious about physical activities and stress as you get into those last few weeks. Why? Well, because the baby is fully developed, but the body is still adjusting to all these changes.\n",
      "\n",
      "I remember reading somewhere that it's generally a good idea to ease back on strenuous activities a couple of weeks before the due date. This gives the body some time to settle down and prepare for labor. But how do we know exactly when to start easing up?\n",
      "\n",
      "Hmm, maybe it's not just about the weeks leading up to the due date. It might be more about how the pregnancy is progressing overall. Some women might need to adjust their activity levels earlier if they have any complications or health issues.\n",
      "\n",
      "Oh, and let's not forget about the individual differences. Every woman's body is different, and so are their pregnancies. What works for one person might not work for another. It's always best to check with your healthcare provider to see what's safest for you.\n",
      "\n",
      "So, putting it all together, it seems like the general rule of thumb is to start being more careful about extraneous activities a few weeks before the due date. But really, it's all about listening to your body and following the advice of your doctor.\n",
      "\n",
      "## Final Response\n",
      "\n",
      "It's generally recommended to start being more cautious about extraneous activities about two weeks before your due date. This allows your body to prepare adequately for labor and delivery. However, it's important to listen to your body and follow the specific advice provided by your healthcare provider, as every pregnancy is unique.\n",
      "CPU times: user 21.7 s, sys: 3.07 s, total: 24.8 s\n",
      "Wall time: 26.8 s\n"
     ]
    }
   ],
   "source": [
    "%%time\n",
    "\n",
    "input_text = \"How many weeks before pregnancy due date should I avoid extraneous activities?\"\n",
    "messages = [{\"role\": \"user\", \"content\": input_text}]\n",
    "\n",
    "inputs = tokenizer(tokenizer.apply_chat_template(messages, tokenize=False,add_generation_prompt=True\n",
    "), return_tensors=\"pt\").to(model.device)\n",
    "outputs = model.generate(**inputs, max_new_tokens=2048)\n",
    "print(tokenizer.decode(outputs[0], skip_special_tokens=True), flush=True)"
   ]
  },
  {
   "cell_type": "markdown",
   "metadata": {},
   "source": [
    "## 2. MedReason\n"
   ]
  },
  {
   "cell_type": "code",
   "execution_count": 6,
   "metadata": {},
   "outputs": [
    {
     "data": {
      "application/vnd.jupyter.widget-view+json": {
       "model_id": "b61495cbddb241ee9fbd7e3a252fc195",
       "version_major": 2,
       "version_minor": 0
      },
      "text/plain": [
       "Downloading shards:   0%|          | 0/4 [00:00<?, ?it/s]"
      ]
     },
     "metadata": {},
     "output_type": "display_data"
    },
    {
     "data": {
      "application/vnd.jupyter.widget-view+json": {
       "model_id": "f9a3e8530a904ca19b022e7f59d95548",
       "version_major": 2,
       "version_minor": 0
      },
      "text/plain": [
       "model-00003-of-00004.safetensors:  92%|#########1| 4.51G/4.92G [00:00<?, ?B/s]"
      ]
     },
     "metadata": {},
     "output_type": "display_data"
    },
    {
     "data": {
      "application/vnd.jupyter.widget-view+json": {
       "model_id": "23f330de15ba4151a29cbed5237ddc12",
       "version_major": 2,
       "version_minor": 0
      },
      "text/plain": [
       "model-00004-of-00004.safetensors:   0%|          | 0.00/1.17G [00:00<?, ?B/s]"
      ]
     },
     "metadata": {},
     "output_type": "display_data"
    },
    {
     "data": {
      "application/vnd.jupyter.widget-view+json": {
       "model_id": "686f83b391984d02a93eafad47fcf7ca",
       "version_major": 2,
       "version_minor": 0
      },
      "text/plain": [
       "Loading checkpoint shards:   0%|          | 0/4 [00:00<?, ?it/s]"
      ]
     },
     "metadata": {},
     "output_type": "display_data"
    },
    {
     "data": {
      "application/vnd.jupyter.widget-view+json": {
       "model_id": "1bebd24302624cb9889c4efd3ba54d45",
       "version_major": 2,
       "version_minor": 0
      },
      "text/plain": [
       "generation_config.json:   0%|          | 0.00/213 [00:00<?, ?B/s]"
      ]
     },
     "metadata": {},
     "output_type": "display_data"
    },
    {
     "name": "stderr",
     "output_type": "stream",
     "text": [
      "Some parameters are on the meta device because they were offloaded to the disk.\n"
     ]
    },
    {
     "data": {
      "application/vnd.jupyter.widget-view+json": {
       "model_id": "4d6d735993e241e5934ce6b27b656f4c",
       "version_major": 2,
       "version_minor": 0
      },
      "text/plain": [
       "tokenizer_config.json:   0%|          | 0.00/55.4k [00:00<?, ?B/s]"
      ]
     },
     "metadata": {},
     "output_type": "display_data"
    },
    {
     "data": {
      "application/vnd.jupyter.widget-view+json": {
       "model_id": "92408451d34a4c63ab9ad86c3914dfa7",
       "version_major": 2,
       "version_minor": 0
      },
      "text/plain": [
       "tokenizer.json:   0%|          | 0.00/17.2M [00:00<?, ?B/s]"
      ]
     },
     "metadata": {},
     "output_type": "display_data"
    },
    {
     "data": {
      "application/vnd.jupyter.widget-view+json": {
       "model_id": "3d88425a6465447484276d317b74ef11",
       "version_major": 2,
       "version_minor": 0
      },
      "text/plain": [
       "special_tokens_map.json:   0%|          | 0.00/444 [00:00<?, ?B/s]"
      ]
     },
     "metadata": {},
     "output_type": "display_data"
    }
   ],
   "source": [
    "from transformers import AutoModelForCausalLM, AutoTokenizer\n",
    "\n",
    "mr_model = AutoModelForCausalLM.from_pretrained(\n",
    "    'UCSC-VLAA/MedReason-8B',\n",
    "    torch_dtype=\"auto\",\n",
    "    device_map=\"auto\", \n",
    "    use_safetensors= True)\n",
    "mr_model.eval()\n",
    "\n",
    "mr_tokenizer = AutoTokenizer.from_pretrained(\n",
    "    'UCSC-VLAA/MedReason-8B', \n",
    "    trust_remote_code=True, \n",
    "    padding_side='left')"
   ]
  },
  {
   "cell_type": "code",
   "execution_count": 9,
   "metadata": {},
   "outputs": [
    {
     "name": "stderr",
     "output_type": "stream",
     "text": [
      "Setting `pad_token_id` to `eos_token_id`:None for open-end generation.\n"
     ]
    },
    {
     "name": "stdout",
     "output_type": "stream",
     "text": [
      "system\n",
      "\n",
      "Cutting Knowledge Date: December 2023\n",
      "Today Date: 26 Jul 2024\n",
      "\n",
      "user\n",
      "\n",
      "How to stop a cough?assistant\n",
      "\n",
      "## Thinking\n",
      "\n",
      "### Finding Reasoning Paths:\n",
      "1. **Cough -> Cough suppressants (e.g., dextromethorphan, codeine) -> Symptom relief**  \n",
      "2. **Cough -> Expectorants (e.g., guaifenesin) -> Thin mucus -> Easier clearance**  \n",
      "3. **Cough -> Antihistamines (e.g., diphenhydramine) -> Reduce postnasal drip -> Relief of cough**  \n",
      "4. **Cough -> Antibiotics (e.g., azithromycin, clarithromycin) -> Treat underlying infections -> Cough resolution**  \n",
      "5. **Cough -> Bronchodilators (e.g., salbutamol) -> Relieve airway obstruction -> Cough relief**  \n",
      "\n",
      "---\n",
      "\n",
      "### Reasoning Process:\n",
      "1. **Understanding the types of coughs:**  \n",
      "   - A dry cough is typically caused by irritation in the throat or upper respiratory tract, often due to colds, allergies, or smoking. It does not produce phlegm.  \n",
      "   - A productive cough involves mucus production and is usually associated with infections like bronchitis or pneumonia.  \n",
      "\n",
      "2. **Addressing a dry cough:**  \n",
      "   - For a dry cough, suppressing the cough reflex is key. Medications like **dextromethorphan** or **codeine** are commonly used as cough suppressants. These work by acting on the brain to reduce the urge to cough.  \n",
      "   - **Diphenhydramine**, an antihistamine, can also help by reducing postnasal drip, which may contribute to a dry cough.  \n",
      "\n",
      "3. **Addressing a productive cough:**  \n",
      "   - In cases of a productive cough, thinning mucus with **guaifenesin** can facilitate its expulsion from the airways, aiding in clearing the infection.  \n",
      "   - If the productive cough is due to a bacterial infection, antibiotics like **azithromycin** or **clarithromycin** may be prescribed to treat the underlying cause.  \n",
      "\n",
      "4. **Bronchodilators for cough relief:**  \n",
      "   - Medications like **salbutamol** can relieve airway obstruction, which may indirectly alleviate a cough caused by asthma or other obstructive conditions.  \n",
      "\n",
      "5. **Combination therapy:**  \n",
      "   - In some cases, combination medications that include both a cough suppressant and an expectorant (e.g., dextromethorphan + guaifenesin) may be used to address both symptoms of dryness and mucus production.  \n",
      "\n",
      "6. **Evaluating the reasoning paths:**  \n",
      "   - The provided paths involving **citalopram**, **fluoxetine**, **sertraline**, and **paroxetine** are unrelated to cough treatment. These medications are primarily antidepressants and do not have a role in managing cough symptoms. They should be excluded from consideration.  \n",
      "\n",
      "---\n",
      "\n",
      "### Conclusion:\n",
      "To manage a cough effectively, the choice of medication depends on whether it is dry or productive:  \n",
      "- For a **dry cough**, use a cough suppressant like **dextromethorphan** or **codeine**, or an antihistamine like **diphenhydramine** to reduce postnasal drip.  \n",
      "- For a **productive cough**, use an **expectorant** like **guaifenesin** to loosen mucus or an antibiotic like **azithromycin** if the cough is due to an infection.  \n",
      "- For airway obstruction-related coughs, consider **bronchodilators** like **salbutamol**.\n",
      "\n",
      "## Final Answer\n",
      "\n",
      "Depends on type. Explanation: Dry cough: Dextromethorphan, Codeine, Diphenhydramine Productive cough: Guaifenesin, Azithromycin, Clarithromycin Ref: KDT 6/e p767\n",
      "CPU times: user 1min 38s, sys: 4min 40s, total: 6min 19s\n",
      "Wall time: 6min 58s\n"
     ]
    }
   ],
   "source": [
    "%%time\n",
    "\n",
    "input_text = \"How to stop a cough?\"\n",
    "messages = [{\"role\": \"user\", \"content\": input_text}]\n",
    "\n",
    "mr_inputs = mr_tokenizer(\n",
    "    mr_tokenizer.apply_chat_template(\n",
    "        messages, \n",
    "        tokenize=False,\n",
    "        add_generation_prompt=True\n",
    "    ), \n",
    "    return_tensors=\"pt\"\n",
    ").to(mr_model.device)\n",
    "mr_outputs = mr_model.generate(**mr_inputs, max_new_tokens=2048)\n",
    "print(mr_tokenizer.decode(mr_outputs[0], skip_special_tokens=True))"
   ]
  },
  {
   "cell_type": "code",
   "execution_count": 12,
   "metadata": {},
   "outputs": [
    {
     "name": "stderr",
     "output_type": "stream",
     "text": [
      "Setting `pad_token_id` to `eos_token_id`:None for open-end generation.\n"
     ]
    },
    {
     "name": "stdout",
     "output_type": "stream",
     "text": [
      "system\n",
      "\n",
      "Cutting Knowledge Date: December 2023\n",
      "Today Date: 26 Jul 2024\n",
      "\n",
      "user\n",
      "\n",
      "Should I be concerned about persistent lower back pain?assistant\n",
      "\n",
      "## Thinking\n",
      "\n",
      "### Finding Reasoning Paths:\n",
      "1. **Path 1**: Persistent lower back pain -> Chronic pain mechanisms (e.g., nerve compression, inflammation) -> Potential causes of chronic pain.\n",
      "2. **Path 2**: Persistent lower back pain -> Underlying systemic conditions (e.g., metabolic bone disease, connective tissue disorders) -> Potential causes of chronic pain.\n",
      "3. **Path 3**: Persistent lower back pain -> Psychological factors (e.g., stress, anxiety, depression) -> Chronic pain syndrome.\n",
      "4. **Path 4**: Persistent lower back pain -> Musculoskeletal abnormalities (e.g., scoliosis, spondylolisthesis) -> Chronic pain.\n",
      "\n",
      "---\n",
      "\n",
      "### Reasoning Process:\n",
      "1. **Understanding the nature of persistent lower back pain**:\n",
      "   - Lower back pain is a common symptom that can arise from various causes, including musculoskeletal issues (e.g., muscle strain, herniated discs), nerve-related problems (e.g., sciatica), or systemic conditions (e.g., inflammatory diseases like ankylosing spondylitis). Persistent pain lasting more than 12 weeks suggests a chronic condition rather than acute trauma or temporary strain.\n",
      "\n",
      "2. **Exploring potential causes of chronic lower back pain**:\n",
      "   - **Musculoskeletal causes**: Conditions such as scoliosis, spondylolisthesis, or degenerative disc disease could lead to persistent pain due to structural abnormalities in the spine.\n",
      "   - **Nerve-related causes**: Compression or irritation of nerves (e.g., sciatica) can result in chronic pain if not resolved.\n",
      "   - **Systemic causes**: Metabolic bone diseases (e.g., osteoporosis, Paget's disease) or connective tissue disorders (e.g., Ehlers-Danlos syndrome) may contribute to chronic pain through altered biomechanics or structural weakness.\n",
      "   - **Psychological factors**: Chronic pain is often associated with psychological comorbidities such as anxiety, depression, or stress, which can exacerbate symptoms and make management more challenging.\n",
      "\n",
      "3. **Evaluating the need for medical evaluation**:\n",
      "   - Persistent lower back pain warrants medical attention because it may indicate an underlying serious condition that requires diagnosis and treatment. For example:\n",
      "     - If the pain is severe, radiates down the legs, or is accompanied by other neurological symptoms (e.g., numbness, weakness), it could suggest nerve compression or spinal cord involvement.\n",
      "     - Systemic conditions like metabolic bone disease or connective tissue disorders may require specific interventions (e.g., medications, lifestyle modifications).\n",
      "     - Psychological factors should also be addressed, as untreated mental health issues can worsen chronic pain syndromes.\n",
      "\n",
      "4. **Importance of early intervention**:\n",
      "   - Delayed evaluation and treatment of chronic pain can lead to worsening symptoms, reduced quality of life, and increased risk of disability. Identifying and managing the underlying cause is crucial to prevent long-term complications.\n",
      "\n",
      "---\n",
      "\n",
      "### Conclusion:\n",
      "Persistent lower back pain lasting over 12 weeks should indeed prompt concern and warrant a thorough medical evaluation. This is necessary to identify and address potential causes, whether they are related to musculoskeletal, nerve, systemic, or psychological factors. Early intervention can help prevent further complications and improve outcomes.\n",
      "\n",
      "## Final Answer\n",
      "\n",
      "If your back pain lasts longer than 12 weeks, you should definitely be concerned and seek medical advice. While most cases of back pain resolve on their own within this timeframe, prolonged pain can sometimes signal an underlying issue that needs medical evaluation. It’s important to consult a healthcare professional to rule out any serious conditions and explore appropriate treatments to manage the pain effectively.\n",
      "CPU times: user 45.2 s, sys: 4min 11s, total: 4min 56s\n",
      "Wall time: 5min 27s\n"
     ]
    },
    {
     "data": {
      "text/plain": [
       "'Should I be concerned about persistent lower back pain?'"
      ]
     },
     "execution_count": 12,
     "metadata": {},
     "output_type": "execute_result"
    }
   ],
   "source": [
    "%%time\n",
    "\n",
    "input_text = input_text = \"Should I be concerned about persistent lower back pain?\"\n",
    "messages = [{\"role\": \"user\", \"content\": input_text}]\n",
    "\n",
    "mr_inputs = mr_tokenizer(\n",
    "    mr_tokenizer.apply_chat_template(\n",
    "        messages, \n",
    "        tokenize=False,\n",
    "        add_generation_prompt=True\n",
    "    ), \n",
    "    return_tensors=\"pt\"\n",
    ").to(mr_model.device)\n",
    "mr_outputs = mr_model.generate(**mr_inputs, max_new_tokens=2048)\n",
    "print(mr_tokenizer.decode(mr_outputs[0], skip_special_tokens=True))\n",
    "\"Should I be concerned about persistent lower back pain?\""
   ]
  },
  {
   "cell_type": "code",
   "execution_count": 11,
   "metadata": {},
   "outputs": [
    {
     "name": "stderr",
     "output_type": "stream",
     "text": [
      "Setting `pad_token_id` to `eos_token_id`:None for open-end generation.\n"
     ]
    },
    {
     "name": "stdout",
     "output_type": "stream",
     "text": [
      "system\n",
      "\n",
      "Cutting Knowledge Date: December 2023\n",
      "Today Date: 26 Jul 2024\n",
      "\n",
      "user\n",
      "\n",
      "How many weeks before pregnancy due date should I avoid extraneous activities?assistant\n",
      "\n",
      "## Thinking\n",
      "\n",
      "### Finding Reasoning Paths:\n",
      "1. **Path 1**: Consider the physiological changes during early pregnancy, such as increased risk of miscarriage and complications like ectopic pregnancy, which may necessitate avoiding strenuous activities.\n",
      "2. **Path 2**: Evaluate the role of progesterone in maintaining pregnancy and how its fluctuations or deficiencies might impact pregnancy stability.\n",
      "3. **Path 3**: Assess the general medical advice regarding physical activity during early pregnancy to prevent harm to the developing embryo.\n",
      "4. **Path 4**: Explore the relationship between stress reduction and pregnancy outcomes, including the potential benefits of minimizing unnecessary activities.\n",
      "\n",
      "---\n",
      "\n",
      "### Reasoning Process:\n",
      "1. **Physiological Changes During Early Pregnancy**:\n",
      "   - The first trimester is a critical period for embryonic development. Activities that involve high physical strain or trauma can increase the risk of miscarriage or other complications. This is particularly true for ectopic pregnancies, where the fertilized egg implants outside the uterus, often due to hormonal imbalances or structural abnormalities.\n",
      "\n",
      "2. **Role of Progesterone**:\n",
      "   - Progesterone is essential for maintaining the uterine lining and supporting early pregnancy. A deficiency or imbalance in progesterone levels can lead to miscarriage or preterm labor. Avoiding excessive physical exertion may help reduce the risk of disrupting this delicate hormonal balance.\n",
      "\n",
      "3. **Medical Advice on Physical Activity**:\n",
      "   - Medical guidelines generally recommend avoiding high-impact exercises or activities that could cause falls, abdominal trauma, or excessive strain during the first trimester. This is because the developing embryo is highly vulnerable to external factors during this time.\n",
      "\n",
      "4. **Stress Reduction and Pregnancy Outcomes**:\n",
      "   - Stress can negatively impact pregnancy by increasing cortisol levels, which may interfere with progesterone function and overall pregnancy stability. Reducing stress through rest and avoiding unnecessary activities can contribute to a healthier pregnancy environment.\n",
      "\n",
      "5. **Timing of Risk Reduction**:\n",
      "   - By around 12 weeks into the pregnancy, the risk of spontaneous abortion begins to decline significantly. However, it is still important to maintain caution until the second trimester, when the pregnancy becomes more stable.\n",
      "\n",
      "---\n",
      "\n",
      "### Conclusion:\n",
      "It is advisable to avoid extraneous activities for about 12 weeks after conception to minimize risks associated with miscarriage, ectopic pregnancy, and hormonal imbalances. This aligns with the need to protect the developing embryo and support a healthy pregnancy environment.\n",
      "\n",
      "## Final Answer\n",
      "\n",
      "12 weeks\n",
      "CPU times: user 30.9 s, sys: 2min 56s, total: 3min 27s\n",
      "Wall time: 3min 50s\n"
     ]
    },
    {
     "data": {
      "text/plain": [
       "'Should I be concerned about persistent lower back pain?'"
      ]
     },
     "execution_count": 11,
     "metadata": {},
     "output_type": "execute_result"
    }
   ],
   "source": [
    "%%time\n",
    "\n",
    "input_text = \"How many weeks before pregnancy due date should I avoid extraneous activities?\"\n",
    "messages = [{\"role\": \"user\", \"content\": input_text}]\n",
    "\n",
    "mr_inputs = mr_tokenizer(\n",
    "    mr_tokenizer.apply_chat_template(\n",
    "        messages, \n",
    "        tokenize=False,\n",
    "        add_generation_prompt=True\n",
    "    ), \n",
    "    return_tensors=\"pt\"\n",
    ").to(mr_model.device)\n",
    "mr_outputs = mr_model.generate(**mr_inputs, max_new_tokens=2048)\n",
    "print(mr_tokenizer.decode(mr_outputs[0], skip_special_tokens=True))\n",
    "\"Should I be concerned about persistent lower back pain?\""
   ]
  }
 ],
 "metadata": {
  "kernelspec": {
   "display_name": ".venv",
   "language": "python",
   "name": "python3"
  },
  "language_info": {
   "codemirror_mode": {
    "name": "ipython",
    "version": 3
   },
   "file_extension": ".py",
   "mimetype": "text/x-python",
   "name": "python",
   "nbconvert_exporter": "python",
   "pygments_lexer": "ipython3",
   "version": "3.12.7"
  }
 },
 "nbformat": 4,
 "nbformat_minor": 2
}
