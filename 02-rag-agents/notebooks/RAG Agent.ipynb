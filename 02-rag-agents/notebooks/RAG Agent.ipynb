{
 "cells": [
  {
   "cell_type": "markdown",
   "metadata": {},
   "source": [
    "# RAG Agent\n"
   ]
  },
  {
   "cell_type": "markdown",
   "metadata": {},
   "source": [
    "## 1. Setup\n"
   ]
  },
  {
   "cell_type": "code",
   "execution_count": 38,
   "metadata": {},
   "outputs": [],
   "source": [
    "from dotenv import load_dotenv, find_dotenv\n",
    "load_dotenv(find_dotenv())\n",
    "\n",
    "import nest_asyncio\n",
    "nest_asyncio.apply()\n",
    "\n",
    "import warnings\n",
    "import logging\n",
    "from IPython.display import clear_output\n",
    "\n",
    "warnings.filterwarnings('ignore')\n",
    "logging.getLogger().setLevel(logging.ERROR)"
   ]
  },
  {
   "cell_type": "code",
   "execution_count": 2,
   "metadata": {},
   "outputs": [
    {
     "data": {
      "text/plain": [
       "2"
      ]
     },
     "execution_count": 2,
     "metadata": {},
     "output_type": "execute_result"
    }
   ],
   "source": [
    "from llama_index.core import (\n",
    "    PromptTemplate,\n",
    "    Settings,\n",
    "    SimpleDirectoryReader,\n",
    "    VectorStoreIndex,\n",
    "    StorageContext,\n",
    "    load_index_from_storage,\n",
    ")\n",
    "from llama_index.llms.ollama import Ollama\n",
    "from llama_index.embeddings.ollama import OllamaEmbedding\n",
    "from llama_index.core.response_synthesizers import ResponseMode\n",
    "\n",
    "from llama_index.core.tools import QueryEngineTool, ToolMetadata\n",
    "import sys\n",
    "import warnings\n",
    "import logging\n",
    "from IPython.display import clear_output\n",
    "\n",
    "warnings.filterwarnings('ignore')\n",
    "logging.getLogger().setLevel(logging.ERROR)"
   ]
  },
  {
   "cell_type": "code",
   "execution_count": 4,
   "metadata": {},
   "outputs": [
    {
     "name": "stdout",
     "output_type": "stream",
     "text": [
      "1024\n"
     ]
    }
   ],
   "source": [
    "llm = Ollama(model=\"llama3.2:3b-instruct-q8_0\", temperature=0.01)\n",
    "embedding = OllamaEmbedding(model_name=\"mxbai-embed-large\")\n",
    "\n",
    "Settings.llm = llm\n",
    "Settings.embed_model = embedding\n",
    "\n",
    "hello_embedding = embedding.get_text_embedding(\"hello\")\n",
    "print(len(hello_embedding))"
   ]
  },
  {
   "cell_type": "markdown",
   "metadata": {},
   "source": [
    "## 2. Load Data\n"
   ]
  },
  {
   "cell_type": "code",
   "execution_count": 5,
   "metadata": {},
   "outputs": [
    {
     "name": "stdout",
     "output_type": "stream",
     "text": [
      "Failed to load indices\n"
     ]
    }
   ],
   "source": [
    "index_loaded = False\n",
    "try:\n",
    "    storage_context = StorageContext.from_defaults(\n",
    "        persist_dir=\"../storage/q1\"\n",
    "    )\n",
    "    q1_index = load_index_from_storage(storage_context)\n",
    "\n",
    "    storage_context = StorageContext.from_defaults(\n",
    "        persist_dir=\"../storage/q2\"\n",
    "    )\n",
    "    q2_index = load_index_from_storage(storage_context)\n",
    "\n",
    "    storage_context = StorageContext.from_defaults(\n",
    "        persist_dir=\"../storage/q3\"\n",
    "    )\n",
    "    q3_index = load_index_from_storage(storage_context)\n",
    "\n",
    "    index_loaded = True\n",
    "except:\n",
    "    print(\"Failed to load indices\")"
   ]
  },
  {
   "cell_type": "code",
   "execution_count": 6,
   "metadata": {},
   "outputs": [],
   "source": [
    "if not index_loaded:\n",
    "    # load data\n",
    "    q1_docs = SimpleDirectoryReader(\n",
    "        input_files=[\"../data/crm-2025-10Q-q1.pdf\"]\n",
    "    ).load_data()\n",
    "    q2_docs = SimpleDirectoryReader(\n",
    "        input_files=[\"../data/crm-2025-10Q-q2.pdf\"]\n",
    "    ).load_data()\n",
    "    q3_docs = SimpleDirectoryReader(\n",
    "        input_files=[\"../data/crm-2025-10Q-q3.pdf\"]\n",
    "    ).load_data()\n",
    "\n",
    "    # build index\n",
    "    q1_index = VectorStoreIndex.from_documents(\n",
    "        q1_docs,\n",
    "    )\n",
    "    q2_index = VectorStoreIndex.from_documents(\n",
    "        q2_docs,\n",
    "    )\n",
    "    q3_index = VectorStoreIndex.from_documents(\n",
    "        q3_docs,\n",
    "    )"
   ]
  },
  {
   "cell_type": "code",
   "execution_count": 7,
   "metadata": {},
   "outputs": [],
   "source": [
    "# persist index\n",
    "q1_index.storage_context.persist(persist_dir=\"../storage/q1\")\n",
    "q2_index.storage_context.persist(persist_dir=\"../storage/q2\")\n",
    "q3_index.storage_context.persist(persist_dir=\"../storage/q3\")"
   ]
  },
  {
   "cell_type": "code",
   "execution_count": null,
   "metadata": {},
   "outputs": [],
   "source": []
  },
  {
   "cell_type": "markdown",
   "metadata": {},
   "source": [
    "## 3. Setup Indices & Query Engines\n"
   ]
  },
  {
   "cell_type": "code",
   "execution_count": 8,
   "metadata": {},
   "outputs": [
    {
     "name": "stdout",
     "output_type": "stream",
     "text": [
      "$9,133 million.\n"
     ]
    }
   ],
   "source": [
    "q1_engine = q1_index.as_query_engine(\n",
    "    similarity_top_k=5,\n",
    "    response_mode=ResponseMode.TREE_SUMMARIZE,\n",
    ")\n",
    "q2_engine = q2_index.as_query_engine(\n",
    "    similarity_top_k=5,\n",
    "    response_mode=ResponseMode.TREE_SUMMARIZE,\n",
    ")\n",
    "q3_engine = q3_index.as_query_engine(\n",
    "    similarity_top_k=5,\n",
    "    response_mode=ResponseMode.TREE_SUMMARIZE,\n",
    ")\n",
    "q1_response = q1_engine.query(\"What is Salesforce's revenue for the first quarter of FY25?\")\n",
    "print(q1_response)"
   ]
  },
  {
   "cell_type": "markdown",
   "metadata": {},
   "source": [
    "## 4. Tools Setup\n"
   ]
  },
  {
   "cell_type": "code",
   "execution_count": 9,
   "metadata": {},
   "outputs": [],
   "source": [
    "from llama_index.core.tools import QueryEngineTool\n",
    "\n",
    "query_tool_q1 = QueryEngineTool.from_defaults(\n",
    "    query_engine=q1_engine,\n",
    "    name=\"q1_fy25\",\n",
    "    description=\"Use this tool to query the first quarter of FY25 financial data for Salesforce\",\n",
    ")"
   ]
  },
  {
   "cell_type": "code",
   "execution_count": 10,
   "metadata": {},
   "outputs": [],
   "source": [
    "\n",
    "from typing import Optional\n",
    "\n",
    "from llama_index.core.tools import FunctionTool\n",
    "from llama_index.core.bridge.pydantic import BaseModel\n",
    "\n",
    "# we will store booking under random IDs\n",
    "bookings = {}"
   ]
  },
  {
   "cell_type": "code",
   "execution_count": 44,
   "metadata": {},
   "outputs": [],
   "source": [
    "class Booking(BaseModel):\n",
    "    name: Optional[str] = None\n",
    "    email: Optional[str] = None\n",
    "    phone: Optional[str] = None\n",
    "    date: Optional[str] = None\n",
    "    time: Optional[str] = None\n",
    "\n",
    "def get_booking_state(user_id: str) -> str:\n",
    "    if user_id not in bookings:\n",
    "        return f\"No booking found for user {user_id}\"\n",
    "    return str(bookings[user_id])\n",
    "\n",
    "def update_booking(user_id: str, property: str, value: str) -> str:\n",
    "    if user_id not in bookings:\n",
    "        return f\"No booking found for user {user_id}\"\n",
    "    setattr(bookings[user_id], property, value)\n",
    "    return f\"Booking updated for user {user_id} with {property} = {value}\"\n",
    "\n",
    "def create_booking(user_id: str) -> str:\n",
    "    bookings[user_id] = Booking()\n",
    "    return f\"Booking created, but not yet confirmed. Please provide your name, email, phone, date, and time.\"\n",
    "\n",
    "def cancel_booking(user_id: str) -> str:\n",
    "    if user_id not in bookings:\n",
    "        return f\"No booking found for user {user_id}\"\n",
    "    del bookings[user_id]\n",
    "    \n",
    "def confirm_booking(user_id: str) -> str:\n",
    "    booking = bookings[user_id]\n",
    "    if booking.name is None:\n",
    "        raise ValueError(\"Please provide your name   first.\")\n",
    "    if booking.email is None:\n",
    "        raise ValueError(\"Please provide a valid email first.\")\n",
    "    if booking.phone is None:\n",
    "        raise ValueError(\"Please provide a valid phone number first.\")\n",
    "    if booking.date is None:\n",
    "        raise ValueError(\"Please provide a date first.\")\n",
    "    if booking.time is None:\n",
    "        raise ValueError(\"Please provide a time between 9am and 5pm first.\")\n",
    "    return (\n",
    "        f\"Booking confirmed for user {user_id} with name {booking.name}, \"\n",
    "        f\"email {booking.email}, phone {booking.phone}, \"\n",
    "        f\"date {booking.date}, and time {booking.time}\"\n",
    "    )"
   ]
  },
  {
   "cell_type": "code",
   "execution_count": 45,
   "metadata": {},
   "outputs": [],
   "source": [
    "get_booking_state_tool = FunctionTool.from_defaults(\n",
    "    fn=get_booking_state,\n",
    "    name=\"get_booking_state\",\n",
    "    description=\"Use this tool to get the current state of a booking.\",\n",
    ")\n",
    "\n",
    "update_booking_tool = FunctionTool.from_defaults(\n",
    "    fn=update_booking,\n",
    "    name=\"update_booking\",\n",
    "    description=\"Use this tool to update a booking.\",\n",
    ")\n",
    "\n",
    "create_booking_tool = FunctionTool.from_defaults(\n",
    "    fn=create_booking,\n",
    "    name=\"create_booking\",\n",
    "    description=\"Use this tool to create a booking.\",\n",
    "    return_direct=True,\n",
    ")\n",
    "\n",
    "confirm_booking_tool = FunctionTool.from_defaults(\n",
    "    fn=confirm_booking,\n",
    "    name=\"confirm_booking\",\n",
    "    description=\"Use this tool to confirm a booking.\",\n",
    "    return_direct=True,\n",
    ")\n",
    "\n",
    "cancel_booking_tool = FunctionTool.from_defaults(\n",
    "    fn=cancel_booking,\n",
    "    name=\"cancel_booking\",\n",
    "    description=\"Use this tool to cancel a booking.\",\n",
    "    return_direct=True,\n",
    ")"
   ]
  },
  {
   "cell_type": "markdown",
   "metadata": {},
   "source": [
    "## 5. Testing with a Customer\n"
   ]
  },
  {
   "cell_type": "code",
   "execution_count": 60,
   "metadata": {},
   "outputs": [],
   "source": [
    "\n",
    "from llama_index.llms.ollama import Ollama\n",
    "from llama_index.core.llms import ChatMessage\n",
    "from llama_index.core.agent import FunctionCallingAgent\n",
    "\n",
    "llm = Ollama(model=\"llama3.2:3b-instruct-q8_0\", temperature=0.1)\n",
    "\n",
    "prefix_messages = [\n",
    "    ChatMessage(\n",
    "        role=\"system\",\n",
    "        content=(\n",
    "            f\"You are now connected to the booking system and helping a customer with a booking. \"\n",
    "            \"Only enter details that the user has explicitly provided. \"\n",
    "            \"Do not make up any details.\"\n",
    "        ),\n",
    "    )\n",
    "]\n",
    "\n",
    "agent = FunctionCallingAgent.from_tools(\n",
    "    tools=[\n",
    "        query_tool_q1,\n",
    "        get_booking_state_tool,\n",
    "        update_booking_tool,\n",
    "        create_booking_tool,\n",
    "        confirm_booking_tool,\n",
    "        cancel_booking_tool,\n",
    "    ],\n",
    "    llm=llm,\n",
    "    prefix_messages=prefix_messages,\n",
    "    max_function_calls=10,\n",
    "    allow_parallel_tool_calls=False,\n",
    "    verbose=True,\n",
    ")"
   ]
  },
  {
   "cell_type": "code",
   "execution_count": 47,
   "metadata": {},
   "outputs": [
    {
     "name": "stdout",
     "output_type": "stream",
     "text": [
      "> Running step f4b85dcd-ea68-47de-b9d3-9f11e388ad74. Step input: Hello! I would like to make a booking, around 5pm?\n",
      "Added user message to memory: Hello! I would like to make a booking, around 5pm?\n",
      "=== Calling Function ===\n",
      "Calling function: create_booking with args: {\"user_id\": \"around 5pm\"}\n",
      "=== Function Output ===\n",
      "Booking created, but not yet confirmed. Please provide your name, email, phone, date, and time.\n"
     ]
    }
   ],
   "source": [
    "response = agent.chat(\"Hello! I would like to make a booking, around 5pm?\")"
   ]
  },
  {
   "cell_type": "code",
   "execution_count": 48,
   "metadata": {},
   "outputs": [
    {
     "name": "stdout",
     "output_type": "stream",
     "text": [
      "> Running step 590c255d-2d4b-4ef5-bc66-081e47067e68. Step input: Sure! My name is John, and my email is johndoe@gmail.com\n",
      "Added user message to memory: Sure! My name is John, and my email is johndoe@gmail.com\n",
      "=== Calling Function ===\n",
      "Calling function: create_booking with args: {\"user_id\": \"{\\\"name\\\": \\\"John\\\", \\\"email\\\": \\\"johndoe@gmail.com\\\"}\"}\n",
      "=== Function Output ===\n",
      "Booking created, but not yet confirmed. Please provide your name, email, phone, date, and time.\n"
     ]
    }
   ],
   "source": [
    "response = agent.chat(\"Sure! My name is John, and my email is johndoe@gmail.com\")"
   ]
  },
  {
   "cell_type": "code",
   "execution_count": 49,
   "metadata": {},
   "outputs": [
    {
     "name": "stdout",
     "output_type": "stream",
     "text": [
      "> Running step 070224c1-adad-4128-9522-242753d0fd90. Step input: Right! My phone number is 1234567890, the date of the booking is April 5, at 5pm.\n",
      "Added user message to memory: Right! My phone number is 1234567890, the date of the booking is April 5, at 5pm.\n",
      "=== Calling Function ===\n",
      "Calling function: create_booking with args: {\"user_id\": \"{\\\"name\\\": \\\"John\\\", \\\"email\\\": \\\"johndoe@gmail.com\\\", \\\"phone\\\": \\\"1234567890\\\", \\\"date\\\": \\\"April 5\\\", \\\"time\\\": \\\"5pm\\\"}\"}\n",
      "=== Function Output ===\n",
      "Booking created, but not yet confirmed. Please provide your name, email, phone, date, and time.\n"
     ]
    }
   ],
   "source": [
    "response = agent.chat(\n",
    "    \"Right! My phone number is 1234567890, the date of the booking is April 5, at 5pm.\"\n",
    ")"
   ]
  },
  {
   "cell_type": "code",
   "execution_count": 50,
   "metadata": {},
   "outputs": [
    {
     "name": "stdout",
     "output_type": "stream",
     "text": [
      "> Running step 292b16bd-ce93-447d-9a01-f84d69d59ecc. Step input: Right! My name is John Doe, my email is johndoe@gmail.com, my phone is 1234567890, the date of the booking is April 5, 2025 for time at 3pm.\n",
      "Added user message to memory: Right! My name is John Doe, my email is johndoe@gmail.com, my phone is 1234567890, the date of the booking is April 5, 2025 for time at 3pm.\n",
      "=== Calling Function ===\n",
      "Calling function: create_booking with args: {\"user_id\": \"{\\\"name\\\": \\\"John Doe\\\", \\\"email\\\": \\\"johndoe@gmail.com\\\", \\\"phone\\\": \\\"1234567890\\\", \\\"date\\\": \\\"April 5, 2025\\\", \\\"time\\\": \\\"3pm\\\"}\"}\n",
      "=== Function Output ===\n",
      "Booking created, but not yet confirmed. Please provide your name, email, phone, date, and time.\n"
     ]
    }
   ],
   "source": [
    "response = agent.chat(\n",
    "    \"Right! My name is John Doe, my email is johndoe@gmail.com, \"\n",
    "    \"my phone is 1234567890, the date of the booking is April 5, 2025 for time at 3pm.\"\n",
    ")"
   ]
  },
  {
   "cell_type": "code",
   "execution_count": 61,
   "metadata": {},
   "outputs": [],
   "source": [
    "from llama_index.llms.openai import OpenAI\n",
    "gpt4 = OpenAI(model=\"gpt-4o\", temperature=0.01)\n",
    "gpt4_agent = FunctionCallingAgent.from_tools(\n",
    "    tools=[\n",
    "        query_tool_q1,\n",
    "        get_booking_state_tool,\n",
    "        update_booking_tool,\n",
    "        create_booking_tool,\n",
    "        confirm_booking_tool,\n",
    "        cancel_booking_tool,\n",
    "    ],\n",
    "    llm=gpt4,\n",
    "    prefix_messages=prefix_messages,\n",
    "    max_function_calls=10,\n",
    "    allow_parallel_tool_calls=False,\n",
    "    verbose=True,\n",
    ")"
   ]
  },
  {
   "cell_type": "code",
   "execution_count": 62,
   "metadata": {},
   "outputs": [
    {
     "name": "stdout",
     "output_type": "stream",
     "text": [
      "> Running step f44dd295-f22c-4b69-b993-50af8dfd3a9c. Step input: Hello! I would like to make a booking, around 5pm?\n",
      "Added user message to memory: Hello! I would like to make a booking, around 5pm?\n",
      "=== LLM Response ===\n",
      "Could you please provide your user ID so I can assist you with creating a booking?\n"
     ]
    }
   ],
   "source": [
    "response = gpt4_agent.chat(\"Hello! I would like to make a booking, around 5pm?\")"
   ]
  },
  {
   "cell_type": "code",
   "execution_count": 63,
   "metadata": {},
   "outputs": [
    {
     "name": "stdout",
     "output_type": "stream",
     "text": [
      "> Running step 4ad448a6-4a9e-4e1d-9436-1b626292d1f6. Step input: Sure! My userid is: 1234\n",
      "Added user message to memory: Sure! My userid is: 1234\n",
      "=== Calling Function ===\n",
      "Calling function: create_booking with args: {\"user_id\": \"1234\"}\n",
      "=== Function Output ===\n",
      "Booking created, but not yet confirmed. Please provide your name, email, phone, date, and time.\n"
     ]
    }
   ],
   "source": [
    "response = gpt4_agent.chat(\"Sure! My userid is: 1234\")"
   ]
  },
  {
   "cell_type": "code",
   "execution_count": 64,
   "metadata": {},
   "outputs": [
    {
     "name": "stdout",
     "output_type": "stream",
     "text": [
      "> Running step 9a9fea2a-55f9-4b84-b2a5-5b12a60d4dec. Step input: Right! My name is John, email is johndoe@gmail.com, phone is 1234567890, date is April 5, 2025, and time is 3pm.\n",
      "Added user message to memory: Right! My name is John, email is johndoe@gmail.com, phone is 1234567890, date is April 5, 2025, and time is 3pm.\n",
      "=== Calling Function ===\n",
      "Calling function: update_booking with args: {\"user_id\": \"1234\", \"property\": \"name\", \"value\": \"John\"}\n",
      "=== Function Output ===\n",
      "Booking updated for user 1234 with name = John\n",
      "> Running step 2a031e78-53aa-4f0c-b771-7f6790b14730. Step input: None\n",
      "=== Calling Function ===\n",
      "Calling function: update_booking with args: {\"user_id\": \"1234\", \"property\": \"email\", \"value\": \"johndoe@gmail.com\"}\n",
      "=== Function Output ===\n",
      "Booking updated for user 1234 with email = johndoe@gmail.com\n",
      "> Running step d41ec65e-d451-476a-8656-d1d08c33f3f7. Step input: None\n",
      "=== Calling Function ===\n",
      "Calling function: update_booking with args: {\"user_id\": \"1234\", \"property\": \"phone\", \"value\": \"1234567890\"}\n",
      "=== Function Output ===\n",
      "Booking updated for user 1234 with phone = 1234567890\n",
      "> Running step 8f2d2a4c-a4f1-43ba-9910-f61473f34d75. Step input: None\n",
      "=== Calling Function ===\n",
      "Calling function: update_booking with args: {\"user_id\": \"1234\", \"property\": \"date\", \"value\": \"April 5, 2025\"}\n",
      "=== Function Output ===\n",
      "Booking updated for user 1234 with date = April 5, 2025\n",
      "> Running step d5d34676-5697-42df-b0b2-2b92de6e60d7. Step input: None\n",
      "=== Calling Function ===\n",
      "Calling function: update_booking with args: {\"user_id\": \"1234\", \"property\": \"time\", \"value\": \"3pm\"}\n",
      "=== Function Output ===\n",
      "Booking updated for user 1234 with time = 3pm\n",
      "> Running step f802d0e9-d1fc-4f71-82ed-c27e91c20411. Step input: None\n",
      "=== LLM Response ===\n",
      "Your booking details have been updated with the following information:\n",
      "- Name: John\n",
      "- Email: johndoe@gmail.com\n",
      "- Phone: 1234567890\n",
      "- Date: April 5, 2025\n",
      "- Time: 3pm\n",
      "\n",
      "Would you like to confirm this booking?\n"
     ]
    }
   ],
   "source": [
    "response = gpt4_agent.chat(\n",
    "    \"Right! My name is John, email is johndoe@gmail.com, \" + \\\n",
    "    \"phone is 1234567890, date is April 5, 2025, and time is 3pm.\"\n",
    ")\n"
   ]
  },
  {
   "cell_type": "code",
   "execution_count": 65,
   "metadata": {},
   "outputs": [
    {
     "name": "stdout",
     "output_type": "stream",
     "text": [
      "> Running step 9caef33b-12af-4735-803f-67e3d9de1873. Step input: Yes please\n",
      "Added user message to memory: Yes please\n",
      "=== Calling Function ===\n",
      "Calling function: confirm_booking with args: {\"user_id\": \"1234\"}\n",
      "=== Function Output ===\n",
      "Booking confirmed for user 1234 with name John, email johndoe@gmail.com, phone 1234567890, date April 5, 2025, and time 3pm\n"
     ]
    }
   ],
   "source": [
    "response = gpt4_agent.chat(\n",
    "    \"Yes please\"\n",
    ")"
   ]
  },
  {
   "cell_type": "code",
   "execution_count": 66,
   "metadata": {},
   "outputs": [
    {
     "name": "stdout",
     "output_type": "stream",
     "text": [
      "> Running step f03a7595-2f44-4464-bd37-6a2ce6d29863. Step input: What is Salesforce's revenue for the first quarter of FY25?\n",
      "Added user message to memory: What is Salesforce's revenue for the first quarter of FY25?\n",
      "=== Calling Function ===\n",
      "Calling function: q1_fy25 with args: {\"input\": \"Salesforce revenue\"}\n",
      "=== Function Output ===\n",
      "The total revenues for the three months ended April 30, 2024 were $9,133 million. \n",
      "\n",
      "This represents a 11% increase compared to the same period in 2023 when the total revenues were $8,247 million.\n",
      "\n",
      "Subscription and support revenues accounted for approximately 94% of the total revenues for the three months ended April 30, 2024, with a 12% year-over-year growth rate. \n",
      "\n",
      "The decrease in professional services and other revenues was due primarily to less demand for larger, multi-year transformation engagements and, in some cases, delayed projects.\n",
      "> Running step cd079daa-597f-4508-a18f-6332520733a7. Step input: None\n",
      "=== LLM Response ===\n",
      "Salesforce's revenue for the first quarter of FY25 was $9,133 million, representing an 11% increase compared to the same period in 2023, when the revenue was $8,247 million. Subscription and support revenues accounted for approximately 94% of the total revenues, with a 12% year-over-year growth rate. The decrease in professional services and other revenues was primarily due to less demand for larger, multi-year transformation engagements and, in some cases, delayed projects.\n"
     ]
    }
   ],
   "source": [
    "response = gpt4_agent.chat(\"What is Salesforce's revenue for the first quarter of FY25?\")"
   ]
  }
 ],
 "metadata": {
  "kernelspec": {
   "display_name": ".venv",
   "language": "python",
   "name": "python3"
  },
  "language_info": {
   "codemirror_mode": {
    "name": "ipython",
    "version": 3
   },
   "file_extension": ".py",
   "mimetype": "text/x-python",
   "name": "python",
   "nbconvert_exporter": "python",
   "pygments_lexer": "ipython3",
   "version": "3.11.9"
  }
 },
 "nbformat": 4,
 "nbformat_minor": 2
}
