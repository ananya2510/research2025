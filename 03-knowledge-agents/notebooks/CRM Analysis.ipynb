{
 "cells": [
  {
   "cell_type": "markdown",
   "metadata": {},
   "source": [
    "# CRM 10Q Analysis\n"
   ]
  },
  {
   "cell_type": "markdown",
   "metadata": {},
   "source": [
    "## 1. Setup\n"
   ]
  },
  {
   "cell_type": "code",
   "execution_count": 1,
   "metadata": {},
   "outputs": [
    {
     "data": {
      "text/plain": [
       "True"
      ]
     },
     "execution_count": 1,
     "metadata": {},
     "output_type": "execute_result"
    }
   ],
   "source": [
    "from dotenv import load_dotenv, find_dotenv\n",
    "load_dotenv(find_dotenv())"
   ]
  },
  {
   "cell_type": "code",
   "execution_count": 2,
   "metadata": {},
   "outputs": [],
   "source": [
    "# Add these imports at the beginning of your notebook\n",
    "import warnings\n",
    "import logging\n",
    "from IPython.display import clear_output\n",
    "\n",
    "warnings.filterwarnings('ignore')\n",
    "\n",
    "logging.getLogger().setLevel(logging.ERROR)"
   ]
  },
  {
   "cell_type": "code",
   "execution_count": 3,
   "metadata": {},
   "outputs": [
    {
     "data": {
      "text/plain": [
       "2"
      ]
     },
     "execution_count": 3,
     "metadata": {},
     "output_type": "execute_result"
    }
   ],
   "source": [
    "from llama_index.core import (\n",
    "    PromptTemplate,\n",
    "    Settings,\n",
    "    SimpleDirectoryReader,\n",
    "    VectorStoreIndex,\n",
    "    StorageContext,\n",
    "    load_index_from_storage,\n",
    ")\n",
    "from llama_index.llms.ollama import Ollama\n",
    "from llama_index.embeddings.ollama import OllamaEmbedding\n",
    "from llama_index.core.response_synthesizers import ResponseMode\n",
    "\n",
    "from llama_index.core.tools import QueryEngineTool, ToolMetadata\n",
    "import sys\n",
    "from loguru import logger\n",
    "\n",
    "logger.add(sys.stdout, level=\"INFO\", format=\"{time} {level} {message}\", colorize=True)\n",
    "logger.add(\"logs/nb_log_{time}.log\", \n",
    "           rotation=\"10 MB\",  # Rotate log file when it reaches 10MB\n",
    "           retention=\"30 days\",  # Keep logs for 30 days\n",
    "           compression=\"zip\",  # Optionally compress old logs to save space\n",
    "           format=\"{time} {level} {message} {extra}\")\n"
   ]
  },
  {
   "cell_type": "code",
   "execution_count": 4,
   "metadata": {},
   "outputs": [],
   "source": [
    "import nest_asyncio\n",
    "nest_asyncio.apply()"
   ]
  },
  {
   "cell_type": "code",
   "execution_count": 6,
   "metadata": {},
   "outputs": [
    {
     "name": "stdout",
     "output_type": "stream",
     "text": [
      "1024\n"
     ]
    }
   ],
   "source": [
    "llm = Ollama(model=\"llama3.2:3b-instruct-q8_0\", temperature=0.01)\n",
    "embedding = OllamaEmbedding(model_name=\"mxbai-embed-large\")\n",
    "\n",
    "Settings.llm = llm\n",
    "Settings.embed_model = embedding\n",
    "\n",
    "hello_embedding = embedding.get_text_embedding(\"hello\")\n",
    "print(len(hello_embedding))"
   ]
  },
  {
   "cell_type": "markdown",
   "metadata": {},
   "source": [
    "## 2. Load Data\n"
   ]
  },
  {
   "cell_type": "code",
   "execution_count": 7,
   "metadata": {},
   "outputs": [],
   "source": [
    "index_loaded = False\n",
    "try:\n",
    "    storage_context = StorageContext.from_defaults(\n",
    "        persist_dir=\"../storage/q1\"\n",
    "    )\n",
    "    q1_index = load_index_from_storage(storage_context)\n",
    "\n",
    "    storage_context = StorageContext.from_defaults(\n",
    "        persist_dir=\"../storage/q2\"\n",
    "    )\n",
    "    q2_index = load_index_from_storage(storage_context)\n",
    "\n",
    "    storage_context = StorageContext.from_defaults(\n",
    "        persist_dir=\"../storage/q3\"\n",
    "    )\n",
    "    q3_index = load_index_from_storage(storage_context)\n",
    "\n",
    "    index_loaded = True\n",
    "except:\n",
    "    print(\"Failed to load indices\")"
   ]
  },
  {
   "cell_type": "code",
   "execution_count": 8,
   "metadata": {},
   "outputs": [],
   "source": [
    "if not index_loaded:\n",
    "    # load data\n",
    "    q1_docs = SimpleDirectoryReader(\n",
    "        input_files=[\"../data/crm-2025-10Q-q1.pdf\"]\n",
    "    ).load_data()\n",
    "    q2_docs = SimpleDirectoryReader(\n",
    "        input_files=[\"../data/crm-2025-10Q-q2.pdf\"]\n",
    "    ).load_data()\n",
    "    q3_docs = SimpleDirectoryReader(\n",
    "        input_files=[\"../data/crm-2025-10Q-q3.pdf\"]\n",
    "    ).load_data()\n",
    "\n",
    "    # build index\n",
    "    q1_index = VectorStoreIndex.from_documents(\n",
    "        q1_docs,\n",
    "    )\n",
    "    q2_index = VectorStoreIndex.from_documents(\n",
    "        q2_docs,\n",
    "    )\n",
    "    q3_index = VectorStoreIndex.from_documents(\n",
    "        q3_docs,\n",
    "    )\n",
    "\n",
    "    # persist index\n",
    "    q1_index.storage_context.persist(persist_dir=\"../storage/q1\")\n",
    "    q2_index.storage_context.persist(persist_dir=\"../storage/q2\")\n",
    "    q3_index.storage_context.persist(persist_dir=\"../storage/q3\")"
   ]
  },
  {
   "cell_type": "markdown",
   "metadata": {},
   "source": [
    "## 3. Setup Indices and Query Engines\n"
   ]
  },
  {
   "cell_type": "code",
   "execution_count": 9,
   "metadata": {},
   "outputs": [
    {
     "name": "stdout",
     "output_type": "stream",
     "text": [
      "$9,133 million.\n"
     ]
    }
   ],
   "source": [
    "q1_engine = q1_index.as_query_engine(\n",
    "    similarity_top_k=5,\n",
    "    response_mode=ResponseMode.TREE_SUMMARIZE,\n",
    ")\n",
    "q2_engine = q2_index.as_query_engine(\n",
    "    similarity_top_k=5,\n",
    "    response_mode=ResponseMode.TREE_SUMMARIZE,\n",
    ")\n",
    "q3_engine = q3_index.as_query_engine(\n",
    "    similarity_top_k=5,\n",
    "    response_mode=ResponseMode.TREE_SUMMARIZE,\n",
    ")\n",
    "q1_response = q1_engine.query(\"What is Salesforce's revenue for the first quarter of FY25?\")\n",
    "print(q1_response)\n"
   ]
  },
  {
   "cell_type": "code",
   "execution_count": 10,
   "metadata": {},
   "outputs": [],
   "source": [
    "from llama_index.core.tools import QueryEngineTool\n",
    "\n",
    "query_tool_q1 = QueryEngineTool.from_defaults(\n",
    "    query_engine=q1_engine,\n",
    "    name=\"q1_fy25\",\n",
    "    description=\"Use this tool to query the first quarter of FY25 financial data for Salesforce\",\n",
    ")\n",
    "\n",
    "query_tool_q2 = QueryEngineTool.from_defaults(\n",
    "    query_engine=q2_engine,\n",
    "    name=\"q2_fy25\",\n",
    "    description=\"Use this tool to query the second quarter of FY25 financial data for Salesforce\",\n",
    ")\n",
    "\n",
    "query_tool_q3 = QueryEngineTool.from_defaults(\n",
    "    query_engine=q3_engine,\n",
    "    name=\"q3_fy25\",\n",
    "    description=\"Use this tool to query the third quarter of FY25 financial data for Salesforce\",\n",
    ")\n",
    "\n",
    "query_engine_tools = [query_tool_q1, query_tool_q2, query_tool_q3]"
   ]
  },
  {
   "cell_type": "markdown",
   "metadata": {},
   "source": [
    "## 4. Comparing Agents with different LLMs\n"
   ]
  },
  {
   "cell_type": "code",
   "execution_count": 11,
   "metadata": {},
   "outputs": [],
   "source": [
    "from llama_index.core.agent import ReActAgent\n",
    "\n",
    "llm = Ollama(model=\"llama3.2:3b-instruct-q8_0\", temperature=0.01)\n",
    "llama_agent = ReActAgent.from_tools(query_engine_tools, llm=llm, verbose=True)"
   ]
  },
  {
   "cell_type": "code",
   "execution_count": 11,
   "metadata": {},
   "outputs": [
    {
     "name": "stdout",
     "output_type": "stream",
     "text": [
      "> Running step 545b5669-b82c-4fa0-8da6-f63ae940ebf4. Step input: What are Salesforce's revenue for q1, q2 and q3 of FY25? Think step by step and reason through the data.\n",
      "\u001b[1;3;38;5;200mThought: The user wants to know Salesforce's revenue for Q1, Q2, and Q3 of FY25. To answer this question, I need to use a tool to query the relevant financial data.\n",
      "Action: q1_fy25\n",
      "Action Input: {'input': 'Salesforce FY25 Q1 Revenue', 'properties': AttributedDict([('date', 'FY25 Q1')])}\n",
      "\u001b[0m\u001b[1;3;34mObservation: $9,133 million.\n",
      "\u001b[0m> Running step 9792fdf8-7a0d-4315-a917-2e57b7995536. Step input: None\n",
      "\u001b[1;3;38;5;200mThought: The tool has provided the revenue for Q1 of FY25 as $9,133 million. However, I still need to query the data for Q2 and Q3.\n",
      "Action: q2_fy25\n",
      "Action Input: {'input': 'Salesforce FY25 Q2 Revenue'}\n",
      "\u001b[0m\u001b[1;3;34mObservation: $9,325 million.\n",
      "\u001b[0m> Running step 1c9ef08a-a12f-42a5-bdb0-a7f8a0a65a2d. Step input: None\n",
      "\u001b[1;3;38;5;200mThought: The tool has provided the revenue for Q2 of FY25 as $9,325 million. Now that I have the data for both Q1 and Q2, I can calculate the revenue growth between these two quarters.\n",
      "Action: q3_fy25\n",
      "Action Input: {'input': 'Salesforce FY25 Q3 Revenue'}\n",
      "\u001b[0m\u001b[1;3;34mObservation: $9.444 billion (for the three months ended October 31, 2024) and $27.902 billion (for the nine months ended October 31, 2024).\n",
      "\u001b[0m> Running step a4531a9e-ca2c-48f4-9f20-fd6e8296c171. Step input: None\n",
      "\u001b[1;3;38;5;200mThought: The tool has provided the revenue for Q3 of FY25 as $9.444 billion for the three months ended October 31, 2024, and $27.902 billion for the nine months ended October 31, 2024. Now that I have the data for all three quarters, I can calculate the revenue growth between each quarter.\n",
      "Answer: Salesforce's revenue for Q1 of FY25 was $9,133 million, Q2 was $9,325 million, and Q3 was $9.444 billion. The revenue grew by 2.5% from Q1 to Q2 and 4.8% from Q2 to Q3.\n",
      "\u001b[0mSalesforce's revenue for Q1 of FY25 was $9,133 million, Q2 was $9,325 million, and Q3 was $9.444 billion. The revenue grew by 2.5% from Q1 to Q2 and 4.8% from Q2 to Q3.\n"
     ]
    }
   ],
   "source": [
    "response = llama_agent.chat(\"What are Salesforce's revenue for q1, q2 and q3 of FY25? Think step by step and reason through the data.\")\n",
    "print(response)"
   ]
  },
  {
   "cell_type": "code",
   "execution_count": 13,
   "metadata": {},
   "outputs": [
    {
     "name": "stdout",
     "output_type": "stream",
     "text": [
      "> Running step fbeabbb8-d275-4dcb-9a49-9c81ffed732a. Step input: What are Salesforce's revenue for q1, q2 and q3 of FY25? Think step by step and reason through the data.\n",
      "\u001b[1;3;38;5;200mThought: (Implicit) I can answer without any more tools!\n",
      "Answer: <think>\n",
      "Okay, so I need to figure out Salesforce's revenues for Q1, Q2, and Q3 of FY25. Let me start by understanding what FY25 means. FY stands for Financial Year, which is a common way companies report their financial results. Typically, it starts in April or January depending on the country, but I'm not sure about Salesforce's specific fiscal year.\n",
      "\n",
      "Wait, I think Salesforce uses a calendar year as their fiscal year because many companies do that. So if their fiscal year started in January 2025, then Q1 would be January to March, Q2 April to June, and Q3 July to September. But I'm not entirely certain about the start date.\n",
      "\n",
      "I remember that sometimes companies release their earnings after the fiscal year has ended. So if they report results for FY25 in late 2025, that might mean Q4 is December 2025, making Q1 of FY26 January to March 2026. But I'm not sure if Salesforce follows this or have a different start date.\n",
      "\n",
      "Looking back at the tools available: q1_fy25, q2_fy25, and q3_fy25. Each tool is designed to query specific quarters of FY25. So they probably assume that FY25 runs from January 1, 2025, to December 31, 2025.\n",
      "\n",
      "If that's the case, then Q1 would be Jan-Mar 2025, Q2 Apr-Jun 2025, and Q3 Jul-Sep 2025. But I'm not certain if Salesforce's actual fiscal year starts later or earlier than January. If it started in April, then Q1 would be April-June 2024, which is different.\n",
      "\n",
      "Wait, maybe I should check Salesforce's earnings call or press releases for FY25 to see when they reported their first quarter results. That might give me a clue about the start date of their fiscal year.\n",
      "\n",
      "Alternatively, if I can't access that information right now, perhaps I should proceed with the assumption that each tool corresponds to a specific quarter as per a standard calendar year starting in January 2025. So using q1_fy25 would get Q1 2025 revenue, and so on.\n",
      "\n",
      "But without knowing the exact start date of their fiscal year, it's hard to be precise. Maybe I should look for any prior information Salesforce has released regarding their financial calendar or earnings dates for FY25.\n",
      "\n",
      "If I can't find that, perhaps I need to make an educated guess based on common practices. Many companies use a fiscal year starting in April, similar to the calendar year, but others might start later. For example, some might align with tax seasons or other annual events.\n",
      "\n",
      "In any case, using the tools as they are would allow me to query each quarter's revenue once I know which input corresponds to which quarter based on Salesforce's fiscal calendar.\n",
      "</think>\n",
      "\n",
      "To determine Salesforce's revenues for Q1, Q2, and Q3 of FY25, we need to understand their fiscal year start date. Assuming a standard start in January 2025:\n",
      "\n",
      "- **Q1 FY25**: January 1 - March 31, 2025\n",
      "- **Q2 FY25**: April 1 - June 30, 2025\n",
      "- **Q3 FY25**: July 1 - September 30, 2025\n",
      "\n",
      "Using the provided tools:\n",
      "- Use `q1_fy25` to query Q1 2025 revenue.\n",
      "- Use `q2_fy25` for Q2 2025 data.\n",
      "- Use `q3_fy25` to retrieve Q3 2025 figures.\n",
      "\n",
      "Each tool will return the respective quarter's financial data based on Salesforce's fiscal calendar.\n",
      "\u001b[0m<think>\n",
      "Okay, so I need to figure out Salesforce's revenues for Q1, Q2, and Q3 of FY25. Let me start by understanding what FY25 means. FY stands for Financial Year, which is a common way companies report their financial results. Typically, it starts in April or January depending on the country, but I'm not sure about Salesforce's specific fiscal year.\n",
      "\n",
      "Wait, I think Salesforce uses a calendar year as their fiscal year because many companies do that. So if their fiscal year started in January 2025, then Q1 would be January to March, Q2 April to June, and Q3 July to September. But I'm not entirely certain about the start date.\n",
      "\n",
      "I remember that sometimes companies release their earnings after the fiscal year has ended. So if they report results for FY25 in late 2025, that might mean Q4 is December 2025, making Q1 of FY26 January to March 2026. But I'm not sure if Salesforce follows this or have a different start date.\n",
      "\n",
      "Looking back at the tools available: q1_fy25, q2_fy25, and q3_fy25. Each tool is designed to query specific quarters of FY25. So they probably assume that FY25 runs from January 1, 2025, to December 31, 2025.\n",
      "\n",
      "If that's the case, then Q1 would be Jan-Mar 2025, Q2 Apr-Jun 2025, and Q3 Jul-Sep 2025. But I'm not certain if Salesforce's actual fiscal year starts later or earlier than January. If it started in April, then Q1 would be April-June 2024, which is different.\n",
      "\n",
      "Wait, maybe I should check Salesforce's earnings call or press releases for FY25 to see when they reported their first quarter results. That might give me a clue about the start date of their fiscal year.\n",
      "\n",
      "Alternatively, if I can't access that information right now, perhaps I should proceed with the assumption that each tool corresponds to a specific quarter as per a standard calendar year starting in January 2025. So using q1_fy25 would get Q1 2025 revenue, and so on.\n",
      "\n",
      "But without knowing the exact start date of their fiscal year, it's hard to be precise. Maybe I should look for any prior information Salesforce has released regarding their financial calendar or earnings dates for FY25.\n",
      "\n",
      "If I can't find that, perhaps I need to make an educated guess based on common practices. Many companies use a fiscal year starting in April, similar to the calendar year, but others might start later. For example, some might align with tax seasons or other annual events.\n",
      "\n",
      "In any case, using the tools as they are would allow me to query each quarter's revenue once I know which input corresponds to which quarter based on Salesforce's fiscal calendar.\n",
      "</think>\n",
      "\n",
      "To determine Salesforce's revenues for Q1, Q2, and Q3 of FY25, we need to understand their fiscal year start date. Assuming a standard start in January 2025:\n",
      "\n",
      "- **Q1 FY25**: January 1 - March 31, 2025\n",
      "- **Q2 FY25**: April 1 - June 30, 2025\n",
      "- **Q3 FY25**: July 1 - September 30, 2025\n",
      "\n",
      "Using the provided tools:\n",
      "- Use `q1_fy25` to query Q1 2025 revenue.\n",
      "- Use `q2_fy25` for Q2 2025 data.\n",
      "- Use `q3_fy25` to retrieve Q3 2025 figures.\n",
      "\n",
      "Each tool will return the respective quarter's financial data based on Salesforce's fiscal calendar.\n"
     ]
    }
   ],
   "source": [
    "r1 = Ollama(model=\"deepseek-r1:7b\", temperature=0.01, timeout=120)\n",
    "r1_agent = ReActAgent.from_tools(query_engine_tools, llm=r1, verbose=True)\n",
    "response = r1_agent.chat(\"What are Salesforce's revenue for q1, q2 and q3 of FY25? Think step by step and reason through the data.\")\n",
    "print(response)"
   ]
  },
  {
   "cell_type": "code",
   "execution_count": 13,
   "metadata": {},
   "outputs": [
    {
     "name": "stdout",
     "output_type": "stream",
     "text": [
      "> Running step 320e016b-2af9-441c-8943-eb3ba8bf75bb. Step input: What are Salesforce's revenue for q1, q2 and q3 of FY25? Think step by step and reason through the data.\n",
      "\u001b[1;3;38;5;200mThought: The current language of the user is English. I need to use tools to query Salesforce's financial data for each quarter of FY25.\n",
      "Action: q1_fy25\n",
      "Action Input: {'input': 'revenue'}\n",
      "\u001b[0m\u001b[1;3;34mObservation: Revenue was $9,133 million for the three months ended April 30, 2024. This represents a growth rate of 11% compared to the same period in 2023. The majority of revenue came from subscription and support revenues, which accounted for approximately 66% of total revenue.\n",
      "\u001b[0m> Running step 22f6496c-6f39-4554-abb4-2f732d6be010. Step input: None\n",
      "\u001b[1;3;38;5;200mThought: I have obtained Salesforce's revenue data for Q1 FY25. Now, I need to query the financial data for Q2 FY25.\n",
      "Action: q2_fy25\n",
      "Action Input: {'input': 'revenue'}\n",
      "\u001b[0m\u001b[1;3;34mObservation: $18.458 billion\n",
      "\u001b[0m> Running step d0bd89cf-2c93-4aa4-b0f9-5307f31201fd. Step input: None\n",
      "\u001b[1;3;38;5;200mThought: I have obtained Salesforce's revenue data for Q2 FY25. Now, I need to query the financial data for Q3 FY25.\n",
      "Action: q3_fy25\n",
      "Action Input: {'input': 'revenue'}\n",
      "\u001b[0m\u001b[1;3;34mObservation: The total revenue for the three months ended October 31, 2024 was $9,444 million. \n",
      "\n",
      "For the nine months ended October 31, 2024, the total revenue was $27,902 million.\n",
      "\n",
      "Subscription and support revenues consisted of subscription fees from customers accessing the Company’s enterprise cloud computing services (collectively, “Cloud Services”), software license revenues from the sales of term software licenses and support revenues from the sales of support and updates beyond the basic subscription or software license sales. \n",
      "\n",
      "Professional services and other revenues include professional and advisory services for process mapping, project management and implementation services and training services.\n",
      "\n",
      "The Company derives its revenues from two sources: (1) subscription and support revenues and (2) professional services and other revenues.\n",
      "\u001b[0m> Running step c3b9f602-c9f2-4486-b224-a8fcf0bba84b. Step input: None\n",
      "\u001b[1;3;38;5;200mThought: I can answer without using any more tools. I'll use the user's language to answer.\n",
      "Answer: Salesforce's revenue for FY25 is as follows:\n",
      "- Q1: $9,133 million with an 11% growth rate compared to the same period in 2023.\n",
      "- Q2: $18,458 million.\n",
      "- Q3: $9,444 million. \n",
      "\n",
      "For the nine months ended October 31, 2024, total revenue was $27,902 million. The majority of revenue comes from subscription and support revenues, which include Cloud Services, software licenses, and related support services.\n",
      "\u001b[0mSalesforce's revenue for FY25 is as follows:\n",
      "- Q1: $9,133 million with an 11% growth rate compared to the same period in 2023.\n",
      "- Q2: $18,458 million.\n",
      "- Q3: $9,444 million. \n",
      "\n",
      "For the nine months ended October 31, 2024, total revenue was $27,902 million. The majority of revenue comes from subscription and support revenues, which include Cloud Services, software licenses, and related support services.\n"
     ]
    }
   ],
   "source": [
    "phi = Ollama(model=\"phi4\", temperature=0.01)\n",
    "phi_agent = ReActAgent.from_tools(query_engine_tools, llm=phi, verbose=True)\n",
    "response = phi_agent.chat(\"What are Salesforce's revenue for q1, q2 and q3 of FY25? Think step by step and reason through the data.\")\n",
    "print(response)"
   ]
  },
  {
   "cell_type": "markdown",
   "metadata": {},
   "source": [
    "## 4. Evaluating Llama Agent\n"
   ]
  },
  {
   "cell_type": "code",
   "execution_count": 14,
   "metadata": {},
   "outputs": [
    {
     "name": "stdout",
     "output_type": "stream",
     "text": [
      "> Running step 82879b63-1247-469d-bede-263c76199734. Step input: Can you tell me about the risk factors in the quarter with the highest revenue growth?  What is the revenue growth for each quarter?\n",
      "\u001b[1;3;38;5;200mThought: The current language of the user is: English. I need to use a tool to help me answer the question.\n",
      "Action: q1_fy25\n",
      "Action Input: {'input': '{\"title\": \"Input\", \"type\": \"string\"}'}\n",
      "\u001b[0m\u001b[1;3;34mObservation: I can't fulfill this request.\n",
      "\u001b[0m> Running step 6828af70-a852-46bd-a128-c0df4ac165ac. Step input: None\n",
      "\u001b[1;3;38;5;200mThought: The current language of the user is: English. I need to use a tool to help me answer the question.\n",
      "Action: q2_fy25\n",
      "Action Input: {'input': '{\"title\": \"Input\", \"type\": \"string\"}'}\n",
      "\u001b[0m\u001b[1;3;34mObservation: Based on the provided financial statements, Salesforce, Inc.'s total assets as of July 31, 2024, are $92,180 million.\n",
      "\u001b[0m> Running step ab5a008f-9929-44ba-9202-bf3b9d7dd75e. Step input: None\n",
      "\u001b[1;3;38;5;200mThought: The current language of the user is: English. I need to use a tool to help me answer the question about revenue growth.\n",
      "Action: q3_fy25\n",
      "Action Input: {'input': '{\"title\": \"Input\", \"type\": \"string\"}'}\n",
      "\u001b[0m\u001b[1;3;34mObservation: I can't fulfill this request.\n",
      "\u001b[0m> Running step 38d97d6d-b72d-4eec-9854-15b8fcd8f880. Step input: None\n",
      "\u001b[1;3;38;5;200mThought: The current language of the user is: English. It seems that I don't have enough information to determine which quarter had the highest revenue growth.\n",
      "Answer: Unfortunately, I couldn't find any information about Salesforce's revenue growth for each quarter using the provided tools. If you could provide more context or clarify what you're looking for, I'd be happy to try and help further.\n",
      "\u001b[0mUnfortunately, I couldn't find any information about Salesforce's revenue growth for each quarter using the provided tools. If you could provide more context or clarify what you're looking for, I'd be happy to try and help further.\n"
     ]
    }
   ],
   "source": [
    "response = llama_agent.chat(\n",
    "    \"Can you tell me about the risk factors in the quarter with the highest revenue growth?  What is the revenue growth for each quarter?\"\n",
    ")\n",
    "\n",
    "print(response.response)"
   ]
  },
  {
   "cell_type": "markdown",
   "metadata": {},
   "source": [
    "Generate a synthetic dataset of questions to ask. To do this, we generate an initial set of questions over a \"base\" document (Q1), and then we use an LLM to generate variations of that question that can apply across multiple quarters. This allows us to more deeply stress-test the LLM reasoning capabilities.\n"
   ]
  },
  {
   "cell_type": "markdown",
   "metadata": {},
   "source": [
    "### Generating Training/Eval Questions\n"
   ]
  },
  {
   "cell_type": "code",
   "execution_count": 15,
   "metadata": {},
   "outputs": [],
   "source": [
    "q1_docs = SimpleDirectoryReader(\n",
    "    input_files=[\"../data/crm-2025-10Q-q1.pdf\"]\n",
    ").load_data()\n",
    "# q2_docs = SimpleDirectoryReader(\n",
    "#     input_files=[\"../data/crm-2025-10Q-q2.pdf\"]\n",
    "# ).load_data()\n",
    "# q3_docs = SimpleDirectoryReader(\n",
    "#     input_files=[\"../data/crm-2025-10Q-q3.pdf\"]\n",
    "# ).load_data()"
   ]
  },
  {
   "cell_type": "code",
   "execution_count": 16,
   "metadata": {},
   "outputs": [
    {
     "name": "stderr",
     "output_type": "stream",
     "text": [
      "/Users/pmui/SynologyDrive/research/2025/research2025/.venv/lib/python3.11/site-packages/llama_index/core/evaluation/dataset_generation.py:200: DeprecationWarning: Call to deprecated class DatasetGenerator. (Deprecated in favor of `RagDatasetGenerator` which should be used instead.)\n",
      "  return cls(\n"
     ]
    }
   ],
   "source": [
    "from llama_index.core.evaluation import DatasetGenerator\n",
    "\n",
    "base_question_gen_query = (\n",
    "    \"You are an expert Teacher and Professor. Your task is to setup a quiz/examination.\"\n",
    "    \" Using the provided context from the Salesforce 10Q filing, formulate a\"\n",
    "    \" single question that captures an important fact from the context.\"\n",
    "    \" context. Restrict the question to the context information provided.\"\n",
    "    \" Do NOT include any introductory text or explanation in your response \"\n",
    "    \" such as 'Here's a question based on the provided context`\"\n",
    ")\n",
    "\n",
    "dataset_generator = DatasetGenerator.from_documents(\n",
    "    q1_docs,\n",
    "    llm=llm,\n",
    "    question_gen_query=base_question_gen_query,\n",
    ")"
   ]
  },
  {
   "cell_type": "code",
   "execution_count": 17,
   "metadata": {},
   "outputs": [
    {
     "name": "stderr",
     "output_type": "stream",
     "text": [
      "/Users/pmui/SynologyDrive/research/2025/research2025/.venv/lib/python3.11/site-packages/llama_index/core/evaluation/dataset_generation.py:296: DeprecationWarning: Call to deprecated class QueryResponseDataset. (Deprecated in favor of `LabelledRagDataset` which should be used instead.)\n",
      "  return QueryResponseDataset(queries=queries, responses=responses_dict)\n"
     ]
    },
    {
     "data": {
      "text/plain": [
       "['What is the Commission File Number for Salesforce, Inc.?',\n",
       " 'What is the title of the first item under PART I. FINANCIAL INFORMATION?',\n",
       " 'What is the total current assets for Salesforce, Inc. as of April 30, 2024?',\n",
       " 'What was the net income of Salesforce, Inc. for the three months ended April 30, 2024?',\n",
       " 'What is the net income for Salesforce, Inc. for the three months ended April 30, 2024?']"
      ]
     },
     "execution_count": 17,
     "metadata": {},
     "output_type": "execute_result"
    }
   ],
   "source": [
    "questions = dataset_generator.generate_questions_from_nodes(num=20)\n",
    "questions[:5]"
   ]
  },
  {
   "cell_type": "code",
   "execution_count": 18,
   "metadata": {},
   "outputs": [],
   "source": [
    "vary_question_tmpl = \"\"\"\\\n",
    "You are a financial assistant. Given a question over a FY25 Q1 Salesforce 10Q filing, your goal\n",
    "is to generate up to {num_vary} variations of that question that might span multiple 10Q's.\n",
    "\n",
    "This can include compare/contrasting different 10Qs, replacing the current quarter with\n",
    "another quarter, or generating questions that can only be answered over multiple quarters (be creative!)\n",
    "\n",
    "You are given a valid set of 10Q filings for you to generate question variations.\n",
    "\n",
    "## Output Instructions:\n",
    "- You only need to generate question variations that can be answered in that set.\n",
    "- You only need to generate up to {num_vary} variations without any preamble or explanation.\n",
    "- Do not include any introductory text (such as `Here are some variations of the question`) or explanation in your response.\n",
    "\n",
    "## Example:\n",
    "Here is an example of how to generate question variations:\n",
    "\n",
    "Base Question: What was the free cash flow of Uber in March 2024?\n",
    "Valid 10Qs: [2025 Q1, 2024 Q4, 2024 Q3]\n",
    "Question Variations:\n",
    "What was the free cash flow of Uber in June 2024?\n",
    "Can you compare/contrast the free cash flow of Uber in June/September 2024 and offer explanations for the change?\n",
    "Did the free cash flow of Uber increase of decrease in 2024?\n",
    "\n",
    "\n",
    "Base Question: {base_question}\n",
    "Valid 10Qs: {valid_10qs}\n",
    "Question Variations:\n",
    "\"\"\""
   ]
  },
  {
   "cell_type": "code",
   "execution_count": 19,
   "metadata": {},
   "outputs": [],
   "source": [
    "def gen_question_variations(base_questions, num_vary=3):\n",
    "    \"\"\"Generate question variations.\"\"\"\n",
    "\n",
    "    VALID_10Q_STR = \"[2024 Q1, 2024 Q2, 2024 Q3]\"\n",
    "\n",
    "    prompt_tmpl = PromptTemplate(vary_question_tmpl)\n",
    "\n",
    "    new_questions = []\n",
    "    for idx, question in enumerate(base_questions):\n",
    "        new_questions.append(question)\n",
    "        response = llm.complete(\n",
    "            prompt_tmpl.format(\n",
    "                num_vary=num_vary,\n",
    "                base_question=question,\n",
    "                valid_10qs=VALID_10Q_STR,\n",
    "            )\n",
    "        )\n",
    "        # parse into newlines\n",
    "        raw_lines = str(response).split(\"\\n\")\n",
    "        cur_new_questions = [l for l in raw_lines if l != \"\"]\n",
    "        print(f\"[{idx}] Original Question: {question}\")\n",
    "        print(f\"[{idx}] Generated Question Variations: {cur_new_questions}\")\n",
    "        new_questions.extend(cur_new_questions)\n",
    "\n",
    "    return new_questions\n",
    "\n",
    "\n",
    "def save_questions(questions, path):\n",
    "    with open(path, \"w\") as f:\n",
    "        for question in questions:\n",
    "            f.write(question + \"\\n\")\n",
    "\n",
    "\n",
    "def load_questions(path):\n",
    "    questions = []\n",
    "    with open(path, \"r\") as f:\n",
    "        for line in f:\n",
    "            questions.append(line.strip())\n",
    "    return questions"
   ]
  },
  {
   "cell_type": "code",
   "execution_count": 20,
   "metadata": {},
   "outputs": [
    {
     "name": "stdout",
     "output_type": "stream",
     "text": [
      "[0] Original Question: What is the Commission File Number for Salesforce, Inc.?\n",
      "[0] Generated Question Variations: ['What was the total revenue of Salesforce, Inc. in FY24?', 'Can you compare/contrast the total revenue of Salesforce, Inc. for FY23 and FY24?', 'Did the total revenue of Salesforce, Inc. increase or decrease from FY22 to FY24?']\n",
      "[1] Original Question: What is the title of the first item under PART I. FINANCIAL INFORMATION?\n",
      "[1] Generated Question Variations: ['What was the total revenue for Tesla in March 2025?', 'Can you compare/contrast the revenue growth of Tesla from FY24 to FY25 and identify key drivers?', \"Did Tesla's revenue increase or decrease year-over-year in FY25 compared to FY24?\"]\n",
      "[2] Original Question: What is the total current assets for Salesforce, Inc. as of April 30, 2024?\n",
      "[2] Generated Question Variations: ['What was the total current assets for Salesforce, Inc. as of January 31, 2025?', 'Can you compare/contrast the total current assets of Salesforce, Inc. in Q1/Q2 2024 and offer explanations for the change?', 'Did the total current assets of Salesforce, Inc. increase or decrease from Q3 to Q4 2024?']\n",
      "[3] Original Question: What was the net income of Salesforce, Inc. for the three months ended April 30, 2024?\n",
      "[3] Generated Question Variations: ['What were the total revenues of Tesla in January 2025?', 'Can you compare/contrast the revenue growth of Tesla from Q1 to Q2 2025 and explain the factors contributing to this change?', 'Did the revenue of Tesla increase or decrease year-over-year for the first two quarters of 2025?']\n",
      "[4] Original Question: What is the net income for Salesforce, Inc. for the three months ended April 30, 2024?\n",
      "[4] Generated Question Variations: ['What was the net income of Salesforce, Inc. for the three months ended January 31, 2025?', 'Can you compare/contrast the net income of Salesforce, Inc. for the three months ended April 30, 2024 and July 31, 2024?', 'Did the net income of Salesforce, Inc. increase or decrease in 2025 compared to 2024?']\n",
      "[5] Original Question: What is the total stockholders' equity for Salesforce, Inc. at April 30, 2024?\n",
      "[5] Generated Question Variations: ['What was the total revenue of Tesla in March 2025?', 'Can you compare/contrast the revenue growth of Tesla from FY24 to FY25 and identify key drivers?', 'Did the revenue of Tesla increase or decrease in FY25 compared to FY24?', \"Base Question: What is the total stockholders' equity for Salesforce, Inc. at April 30, 2024?\", 'Valid 10Qs: [2024 Q1, 2024 Q2, 2024 Q3]', 'Question Variations:', 'What was the net income of Tesla in June 2025?', \"Can you analyze the impact of stock-based compensation on total stockholders' equity for Salesforce, Inc. over FY24 and FY25?\", \"Did the total stockholders' equity of Salesforce, Inc. increase or decrease from FY23 to FY24?\", 'Base Question: What is the total debt outstanding for Amazon, Inc. at September 30, 2024?', 'Valid 10Qs: [2024 Q1, 2024 Q2, 2024 Q3]', 'Question Variations:', 'What was the cash and cash equivalents of Microsoft in December 2025?', 'Can you compare/contrast the debt-to-equity ratio of Amazon, Inc. from FY24 to FY25 and identify key factors contributing to the change?', 'Did the total debt outstanding of Amazon, Inc. increase or decrease in FY25 compared to FY24?']\n",
      "[6] Original Question: What was the net cash used by investing activities for Salesforce, Inc. during the first quarter of 2024?\n",
      "[6] Generated Question Variations: ['What were the total revenues of Tesla in March 2025?', 'Can you compare/contrast the revenue growth of Tesla from Q1 2024 to Q1 2025 and explain the factors contributing to this change?', \"Did Tesla's revenue increase or decrease year-over-year in 2025 compared to 2024?\"]\n",
      "[7] Original Question: What is the total amount of cash paid during the period for interest and income taxes, net of tax refunds for both Salesforce, Inc. in the three months ended April 30, 2024 and 2023?\n",
      "[7] Generated Question Variations: ['Base Question: What is the total amount of cash paid during the period for interest and income taxes, net of tax refunds for both Salesforce, Inc. in the three months ended April 30, 2024 and 2023?', 'Valid 10Qs: [2024 Q1, 2024 Q2, 2024 Q3]', 'Question Variations:', 'What is the total amount of cash paid during the period for interest and income taxes, net of tax refunds for both Salesforce, Inc. in the three months ended January 31, 2025 and 2024?', 'Can you compare/contrast the total amount of cash paid for interest and income taxes between Salesforce, Inc. in the three months ended April 30, 2023 and 2024?', 'Did the total amount of cash paid for interest and income taxes increase or decrease from 2023 to 2025?']\n",
      "[8] Original Question: What is the fiscal year end date for Salesforce, Inc.?\n",
      "[8] Generated Question Variations: ['What was the net income of Tesla in March 2025?', 'Can you compare/contrast the revenue growth of Tesla from FY24 to FY25 Q1?', \"Did Tesla's gross margin increase or decrease in FY25 compared to FY24?\"]\n",
      "[9] Original Question: What percentage of total assets were located outside the Americas as of April 30, 2024?\n",
      "[9] Generated Question Variations: ['What was the net income of Tesla in March 2025?', 'Can you compare/contrast the revenue growth of Shopify in FY24 vs. FY25 and offer explanations for the change?', 'Did the gross margin of Amazon increase or decrease in FY24 compared to FY23?']\n",
      "[10] Original Question: What is the criteria for recognizing revenue when it comes to consideration promised in a contract that includes a variable amount, such as overage fees, contingent fees, or service level penalties?\n",
      "[10] Generated Question Variations: ['Base Question: What is the criteria for recognizing revenue when it comes to consideration promised in a contract that includes a variable amount, such as overage fees, contingent fees, or service level penalties?', 'Valid 10Qs: [2024 Q1, 2024 Q2, 2024 Q3]', 'Question Variations:', 'What are the specific accounting treatments for recognizing revenue from contracts with variable amounts in 2025?', 'Can you explain how changes in accounting policies related to variable consideration affected revenue recognition in 2024?', 'How do you account for overage fees when a contract includes a provision for additional payments based on actual usage, and what is the impact on deferred revenue?', 'Base Question: What was the total amount of stock-based compensation expense recognized by Tesla in 2025?', 'Valid 10Qs: [2025 Q1, 2024 Q4]', 'Question Variations:', 'Can you break down the components of stock-based compensation expense for Tesla in 2025 and compare them to 2024?', 'How did changes in stock option valuation methods impact total stock-based compensation expense for Tesla in 2025?', 'Did Tesla recognize any non-cash charges related to stock-based compensation in 2025, and if so, what were the details?', 'Base Question: What is the policy of Alphabet regarding hedging activities, including the use of derivatives to manage foreign exchange risk or commodity prices?', 'Valid 10Qs: [2024 Q1, 2024 Q2]', 'Question Variations:', 'Can you provide an example of a specific hedging activity that Alphabet engaged in during 2025 and how it was accounted for?', \"How does Alphabet's hedging policy impact its financial statements, particularly with regards to fair value measurements?\", 'Did Alphabet recognize any gains or losses from the termination of hedging contracts in 2024?']\n",
      "[11] Original Question: What is the typical payment term for customers of Salesforce, and how are amounts invoiced recorded in accounts receivable?\n",
      "[11] Generated Question Variations: ['What was the total revenue growth rate of Tesla from FY24 to FY25 for each quarter?', 'Can you compare/contrast the revenue growth rates of Tesla in Q1 and Q4 FY24 with those in Q1 and Q4 FY25?', \"Did Tesla's revenue growth rate increase or decrease in FY25 compared to FY24, and what factors contributed to this change?\"]\n",
      "[12] Original Question: What is the average period of benefit used for amortizing capitalized costs related to new revenue contracts, and how long does this period reflect?\n",
      "[12] Generated Question Variations: ['What was the total amount of stock-based compensation expense recognized by Tesla in FY24?', 'Can you compare/contrast the stock-based compensation expense recognized by Tesla in FY23 and FY24, and offer explanations for the change?', 'Did the stock-based compensation expense as a percentage of revenue increase or decrease from FY23 to FY24?', 'What was the total amount of intangible asset amortization expense recognized by Amazon in Q1FY25?', 'Can you compare/contrast the intangible asset amortization expense recognized by Amazon in Q4FY24 and Q1FY25, and offer explanations for the change?', 'Did the intangible asset amortization expense as a percentage of revenue increase or decrease from Q4FY24 to Q1FY25?', 'What was the total amount of research and development expenses recognized by Microsoft in FY24?', 'Can you compare/contrast the research and development expenses recognized by Microsoft in FY23 and FY24, and offer explanations for the change?', 'Did the research and development expenses as a percentage of revenue increase or decrease from FY23 to FY24?']\n",
      "[13] Original Question: What type of investments are recorded at cost and adjusted for impairment events, with associated gains and losses recorded through gains (losses) on strategic investments?\n",
      "[13] Generated Question Variations: ['Base Question: What was the total revenue of Tesla in FY24?', 'Valid 10Qs: [2025 Q1, 2024 Q4, 2024 Q3]', 'Question Variations:', 'What was the average quarterly revenue growth rate for Tesla from FY23 to FY24?', \"Can you compare/contrast the revenue growth rates of Tesla's electric vehicle and energy storage segments in FY24?\", \"Did Tesla's total revenue increase or decrease in FY24 compared to FY23, and what were the main drivers of this change?\", 'Base Question: What is the definition of a material weakness in internal control over financial reporting (ICFR)?', 'Valid 10Qs: [2024 Q1, 2024 Q2, 2024 Q3]', 'Question Variations:', 'Can you provide examples of material weaknesses in ICFR that have been identified by Tesla in previous years?', 'How do material weaknesses in ICFR impact the financial statements and internal controls of a company like Tesla?', 'What steps does Tesla take to remediate material weaknesses in ICFR, and how are these efforts monitored and reported?', 'Base Question: What is the accounting treatment for lease modifications that result in an increase in the present value of a lease liability?', 'Valid 10Qs: [2024 Q1, 2024 Q2, 2024 Q3]', 'Question Variations:', \"Can you explain the impact of lease modification accounting on Tesla's financial statements and cash flows?\", 'How do lease modification accounting changes affect the classification of leases as operating or financing leases for Tesla?', \"What guidance from regulatory bodies (e.g., FASB) has influenced Tesla's approach to lease modification accounting?\"]\n",
      "[14] Original Question: What is the method used by the Company to measure certain of its strategic investments, including privately held debt and equity securities, at fair value?\n",
      "[14] Generated Question Variations: ['What was the total revenue of Tesla in March 2025?', 'Can you compare/contrast the total revenue of Tesla in January/March 2025 and offer explanations for the change?', 'Did the total revenue of Tesla increase or decrease by year-over-year from March 2024 to March 2025?', 'What is the method used by the Company to measure certain of its strategic investments, including privately held debt and equity securities, at fair value?', \"Can you compare/contrast the accounting policies for measuring strategic investments between Tesla's Q1 2024 and Q1 2025 filings?\", 'Did Tesla adopt a new accounting policy for measuring strategic investments in 2025?', 'What was the net income of Amazon in December 2024?', \"Can you analyze the impact of changes in tax laws on Amazon's net income from December 2023 to December 2024?\", \"Did Amazon's net income increase or decrease by year-over-year from December 2022 to December 2024?\"]\n",
      "[15] Original Question: What is the basis used by the Company to determine the net present value of future minimum lease payments for operating leases?\n",
      "[15] Generated Question Variations: ['What was the total stock-based compensation expense recognized by the Company in FY24?', 'Can you compare/contrast the stock-based compensation expense recognized by the Company in FY23 and FY24, and offer explanations for the change?', 'Did the total stock-based compensation expense as a percentage of net income increase or decrease in FY24 compared to FY23?', 'What was the average number of shares outstanding during FY24?', \"Can you calculate the weighted-average share price of the Company's common stock for FY24?\", 'Did the average number of shares outstanding during FY24 differ significantly from the average number of shares outstanding during FY23?', 'What is the total amount of debt issued by the Company in FY24?', 'Can you compare/contrast the total amount of debt issued by the Company in FY23 and FY24, and offer explanations for the change?', 'Did the total amount of debt issued by the Company increase or decrease in FY24 compared to FY23?']\n",
      "[16] Original Question: What is the maximum duration of the measurement period for business combinations, during which the Company may record adjustments to fair value?\n",
      "[16] Generated Question Variations: ['What was the total number of shares repurchased by Tesla in FY24?', 'Can you compare/contrast the share repurchase activity of Tesla in FY23 and FY24?', \"Did Tesla's share repurchase program increase or decrease in FY24 compared to FY23?\", \"Base Question: What is the Company's policy on hedging financial instruments for risk management purposes?\", 'Valid 10Qs: [2024 Q1, 2024 Q2]', 'Question Variations:', \"Can you explain how the Company's hedge accounting policies changed between FY23 and FY24?\", \"Did the Company's use of hedging instruments increase or decrease in FY24 compared to FY23?\", \"Base Question: What is the Company's policy on revenue recognition for sales of software licenses?\", 'Valid 10Qs: [2024 Q1, 2023 Q4]', 'Question Variations:', \"Can you compare/contrast the Company's revenue recognition policies for software licenses between FY23 and FY24?\", \"Did the Company's use of the five-element test for revenue recognition increase or decrease in FY24 compared to FY23?\"]\n",
      "[17] Original Question: What is the method used by the Company for accounting for income taxes, specifically under which method are deferred tax assets and liabilities determined?\n",
      "[17] Generated Question Variations: ['What was the total stock-based compensation expense of Tesla in March 2025?', 'Can you compare/contrast the total stock-based compensation expense of Tesla in March 2024 and March 2025, and explain any changes or trends observed?', 'Did the total stock-based compensation expense of Tesla increase or decrease over the past two years (2023-2025)?']\n",
      "[18] Original Question: What is the criteria for recognizing interest accrued and penalties related to unrecognized tax benefits?\n",
      "[18] Generated Question Variations: ['What was the total revenue of Tesla in FY24?', 'Can you compare/contrast the revenue growth of Tesla from FY23 to FY24 and offer explanations for the change?', 'Did the revenue of Tesla increase or decrease in each quarter of FY24 compared to the same quarter in FY23?', 'Base Question: What is the criteria for recognizing interest accrued and penalties related to unrecognized tax benefits?', 'Valid 10Qs: [2024 Q1, 2024 Q2, 2024 Q3]', 'Question Variations:', 'What was the total provision for income taxes of Amazon in FY24?', 'Can you compare/contrast the effective tax rate of Netflix from FY23 to FY24 and offer explanations for the change?', 'Did the provision for income taxes of Facebook increase or decrease in each quarter of FY24 compared to the same quarter in FY23?', 'Base Question: What is the criteria for recognizing interest accrued and penalties related to unrecognized tax benefits?', 'Valid 10Qs: [2024 Q1, 2024 Q2, 2024 Q3]', 'Question Variations:', 'What was the total depreciation expense of Apple in FY24?', 'Can you compare/contrast the research and development expenses of Google from FY23 to FY24 and offer explanations for the change?', 'Did the depreciation expense of Microsoft increase or decrease in each quarter of FY24 compared to the same quarter in FY23?']\n",
      "[19] Original Question: What is the effective date for the new accounting pronouncement ASU 2023-07, \"Segment Reporting (Topic 280): Improvements to Reportable Segment Disclosures\"?\n",
      "[19] Generated Question Variations: ['Base Question: What was the total revenue of Tesla in FY24?', 'Valid 10Qs: [2025 Q1, 2024 Q4, 2024 Q3]', 'Question Variations:', 'What was the average quarterly revenue growth rate for Tesla from FY23 to FY24?', \"Can you compare/contrast the revenue growth rates of Tesla's automotive and energy segments in FY24?\", \"Did Tesla's total revenue increase or decrease in FY24 compared to FY23?\"]\n"
     ]
    },
    {
     "data": {
      "text/plain": [
       "['Valid 10Qs: [2025 Q1, 2024 Q4, 2024 Q3]',\n",
       " 'Question Variations:',\n",
       " 'What was the average quarterly revenue growth rate for Tesla from FY23 to FY24?',\n",
       " \"Can you compare/contrast the revenue growth rates of Tesla's automotive and energy segments in FY24?\",\n",
       " \"Did Tesla's total revenue increase or decrease in FY24 compared to FY23?\"]"
      ]
     },
     "execution_count": 20,
     "metadata": {},
     "output_type": "execute_result"
    }
   ],
   "source": [
    "new_questions = gen_question_variations(questions)\n",
    "new_questions[-5:]"
   ]
  },
  {
   "cell_type": "code",
   "execution_count": 23,
   "metadata": {},
   "outputs": [
    {
     "data": {
      "text/plain": [
       "168"
      ]
     },
     "execution_count": 23,
     "metadata": {},
     "output_type": "execute_result"
    }
   ],
   "source": [
    "len(new_questions)"
   ]
  },
  {
   "cell_type": "code",
   "execution_count": 24,
   "metadata": {},
   "outputs": [],
   "source": [
    "train_questions, eval_questions = new_questions[:60], new_questions[60:]\n",
    "save_questions(train_questions, \"train_questions_10q.txt\")\n",
    "save_questions(eval_questions, \"eval_questions_10q.txt\")\n",
    "\n",
    "\n",
    "train_questions = load_questions(\"train_questions_10q.txt\")\n",
    "eval_questions = load_questions(\"eval_questions_10q.txt\")"
   ]
  },
  {
   "cell_type": "code",
   "execution_count": 25,
   "metadata": {},
   "outputs": [
    {
     "data": {
      "text/plain": [
       "(60, 108)"
      ]
     },
     "execution_count": 25,
     "metadata": {},
     "output_type": "execute_result"
    }
   ],
   "source": [
    "len(train_questions), len(eval_questions)"
   ]
  },
  {
   "cell_type": "markdown",
   "metadata": {},
   "source": [
    "### Logging Input/Output Pairs using LLM\n"
   ]
  },
  {
   "cell_type": "markdown",
   "metadata": {},
   "source": [
    "We run the train questions through an LLM powered ReAct agent to collect prompt outputs.\n",
    "\n",
    "Every prompt call to the LLM is logged as an input/output pair. Since the ReAct loop can call the LLM multiple times, this means that multiple input/output pairs may be logged per user query.\n",
    "\n",
    "Our OpenAIFineTuningHandler automatically collects prompt input/outputs when agent queries are run. This dataset can then be saved, in a dataset format .jsonl that you can directly feed to the OpenAI Finetuning endpoints.\n"
   ]
  },
  {
   "cell_type": "code",
   "execution_count": 35,
   "metadata": {},
   "outputs": [],
   "source": [
    "\n",
    "from llama_index.llms.openai import OpenAI\n",
    "from llama_index.finetuning.callbacks import OpenAIFineTuningHandler\n",
    "from llama_index.core.callbacks import CallbackManager\n",
    "from llama_index.core.agent import ReActAgent\n",
    "\n",
    "finetuning_handler = OpenAIFineTuningHandler()\n",
    "callback_manager = CallbackManager([finetuning_handler])\n",
    "\n",
    "from llama_index.core import Settings\n",
    "\n",
    "# limit the context window artifically to test refine process\n",
    "Settings.context_window = 2048"
   ]
  },
  {
   "cell_type": "code",
   "execution_count": 57,
   "metadata": {},
   "outputs": [],
   "source": [
    "from llama_index.core.tools import ToolOutput\n",
    "\n",
    "llm = OpenAI(model=\"gpt-4o-mini\")\n",
    "def custom_handle_reasoning_failure(callback_manager, exception):\n",
    "    return ToolOutput(content=\"Not able to answer this question.\")\n",
    "\n",
    "gpt4_agent = ReActAgent.from_tools(\n",
    "    query_engine_tools,\n",
    "    llm=llm,\n",
    "    max_iterations=3,\n",
    "    handle_reasoning_failure=custom_handle_reasoning_failure,\n",
    "    callback_manager=callback_manager,\n",
    "    verbose=False,\n",
    ")"
   ]
  },
  {
   "cell_type": "code",
   "execution_count": 60,
   "metadata": {},
   "outputs": [
    {
     "name": "stdout",
     "output_type": "stream",
     "text": [
      "[  0] Question: What is the Commission File Number for Salesforce, Inc.?\n",
      "      Agent Response: The Commission File Number for Salesforce, Inc. is 000-39981.\n",
      "[  1] Question: What was the total revenue of Salesforce, Inc. in FY24?\n",
      "      Agent Response: The total revenue for Salesforce in FY25 so far is $63,828 million across the first three quarters. Unfortunately, I do not have the total revenue for FY24 directly.\n",
      "[  2] Question: Can you compare/contrast the total revenue of Salesforce, Inc. for FY23 and FY24?\n",
      "      Agent Response: The total revenue for Salesforce, Inc. in FY23 was $8,247 million, while in FY24 it increased significantly to $27,783 million. This shows a substantial growth in revenue from FY23 to FY24.\n",
      "[  3] Question: Did the total revenue of Salesforce, Inc. increase or decrease from FY22 to FY24?\n",
      "      Agent Response: The total revenue of Salesforce, Inc. increased from FY22 to FY24.\n"
     ]
    }
   ],
   "source": [
    "for idx, question in enumerate(train_questions[:4]):\n",
    "    print(f\"[{idx:3d}] Question: {question}\")\n",
    "    response = \"Not able to answer this question.\"\n",
    "    try:\n",
    "        response = gpt4_agent.query(question)\n",
    "    except Exception as e:\n",
    "        pass\n",
    "    print(f\"{5*' '} Agent Response: {str(response)}\")"
   ]
  },
  {
   "cell_type": "markdown",
   "metadata": {},
   "source": [
    "### Create `OpenAIFinetuneEngine`\n",
    "\n",
    "We create an `OpenAIFinetuneEngine`: the finetune engine will launch a finetuning job, and returning an LLM model that you can directly plugin to the rest of LlamaIndex workflows.\n"
   ]
  },
  {
   "cell_type": "code",
   "execution_count": 61,
   "metadata": {},
   "outputs": [
    {
     "name": "stdout",
     "output_type": "stream",
     "text": [
      "Wrote 158 examples to finetuning_events_10q.jsonl\n"
     ]
    }
   ],
   "source": [
    "finetuning_handler.save_finetuning_events(\"finetuning_events_10q.jsonl\")"
   ]
  },
  {
   "cell_type": "code",
   "execution_count": 63,
   "metadata": {},
   "outputs": [],
   "source": [
    "from llama_index.finetuning import OpenAIFinetuneEngine\n",
    "\n",
    "finetune_engine = OpenAIFinetuneEngine(\n",
    "    \"gpt-4o-mini\",\n",
    "    \"finetuning_events_10q.jsonl\",\n",
    "    # start_job_id=\"<start-job-id>\"  # if you have an existing job, can specify id here\n",
    ")"
   ]
  },
  {
   "cell_type": "code",
   "execution_count": null,
   "metadata": {},
   "outputs": [
    {
     "name": "stdout",
     "output_type": "stream",
     "text": [
      "Num examples: 158\n",
      "First example:\n",
      "{'role': 'system', 'content': 'You are designed to help with a variety of tasks, from answering questions to providing summaries to other types of analyses.\\n\\n## Tools\\n\\nYou have access to a wide variety of tools. You are responsible for using the tools in any sequence you deem appropriate to complete the task at hand.\\nThis may require breaking the task into subtasks and using different tools to complete each subtask.\\n\\nYou have access to the following tools:\\n> Tool Name: q1_fy25\\nTool Description: Use this tool to query the first quarter of FY25 financial data for Salesforce\\nTool Args: {\"properties\": {\"input\": {\"title\": \"Input\", \"type\": \"string\"}}, \"required\": [\"input\"], \"type\": \"object\"}\\n\\n> Tool Name: q2_fy25\\nTool Description: Use this tool to query the second quarter of FY25 financial data for Salesforce\\nTool Args: {\"properties\": {\"input\": {\"title\": \"Input\", \"type\": \"string\"}}, \"required\": [\"input\"], \"type\": \"object\"}\\n\\n> Tool Name: q3_fy25\\nTool Description: Use this tool to query the third quarter of FY25 financial data for Salesforce\\nTool Args: {\"properties\": {\"input\": {\"title\": \"Input\", \"type\": \"string\"}}, \"required\": [\"input\"], \"type\": \"object\"}\\n\\n\\n\\n## Output Format\\n\\nPlease answer in the same language as the question and use the following format:\\n\\n```\\nThought: The current language of the user is: (user\\'s language). I need to use a tool to help me answer the question.\\nAction: tool name (one of q1_fy25, q2_fy25, q3_fy25) if using a tool.\\nAction Input: the input to the tool, in a JSON format representing the kwargs (e.g. {\"input\": \"hello world\", \"num_beams\": 5})\\n```\\n\\nPlease ALWAYS start with a Thought.\\n\\nNEVER surround your response with markdown code markers. You may use code markers within your response if you need to.\\n\\nPlease use a valid JSON format for the Action Input. Do NOT do this {\\'input\\': \\'hello world\\', \\'num_beams\\': 5}.\\n\\nIf this format is used, the tool will respond in the following format:\\n\\n```\\nObservation: tool response\\n```\\n\\nYou should keep repeating the above format till you have enough information to answer the question without using any more tools. At that point, you MUST respond in one of the following two formats:\\n\\n```\\nThought: I can answer without using any more tools. I\\'ll use the user\\'s language to answer\\nAnswer: [your answer here (In the same language as the user\\'s question)]\\n```\\n\\n```\\nThought: I cannot answer the question with the provided tools.\\nAnswer: [your answer here (In the same language as the user\\'s question)]\\n```\\n\\n## Current Conversation\\n\\nBelow is the current conversation consisting of interleaving human and assistant messages.\\n'}\n",
      "{'role': 'user', 'content': 'What is the Commission File Number for Salesforce, Inc.?'}\n",
      "{'role': 'assistant', 'content': 'Thought: The current language of the user is: English. I cannot answer the question with the provided tools.\\nAnswer: The Commission File Number for Salesforce, Inc. is 000-39981.'}\n",
      "No errors found\n",
      "Num examples missing system message: 0\n",
      "Num examples missing user message: 0\n",
      "\n",
      "#### Distribution of num_messages_per_example:\n",
      "min / max: 3, 11\n",
      "mean / median: 5.2405063291139244, 5.0\n",
      "p5 / p95: 3.0, 9.0\n",
      "\n",
      "#### Distribution of num_total_tokens_per_example:\n",
      "min / max: 671, 1199\n",
      "mean / median: 792.0569620253165, 762.0\n",
      "p5 / p95: 678.0, 961.2\n",
      "\n",
      "#### Distribution of num_assistant_tokens_per_example:\n",
      "min / max: 40, 403\n",
      "mean / median: 125.0506329113924, 100.0\n",
      "p5 / p95: 44.0, 252.50000000000017\n",
      "\n",
      "0 examples may be over the 4096 token limit, they will be truncated during fine-tuning\n",
      "Dataset has ~125145 tokens that will be charged for during training\n",
      "By default, you'll train for 3 epochs on this dataset\n",
      "By default, you'll be charged for ~375435 tokens\n",
      "As of August 22, 2023, fine-tuning gpt-3.5-turbo is $0.008 / 1K Tokens.\n",
      "This means your total cost for training will be $1.00116 per epoch.\n",
      "Waiting for file to be ready...\n",
      "Waiting for file to be ready...\n",
      "Waiting for file to be ready...\n",
      "Waiting for file to be ready...\n",
      "Waiting for file to be ready...\n",
      "Waiting for file to be ready...\n",
      "Waiting for file to be ready...\n",
      "Waiting for file to be ready...\n",
      "Waiting for file to be ready...\n",
      "Waiting for file to be ready...\n",
      "Waiting for file to be ready...\n",
      "Waiting for file to be ready...\n",
      "Waiting for file to be ready...\n",
      "Waiting for file to be ready...\n",
      "Waiting for file to be ready...\n",
      "Waiting for file to be ready...\n",
      "Waiting for file to be ready...\n",
      "Waiting for file to be ready...\n",
      "Waiting for file to be ready...\n",
      "Waiting for file to be ready...\n",
      "Waiting for file to be ready...\n",
      "Waiting for file to be ready...\n",
      "Waiting for file to be ready...\n",
      "Waiting for file to be ready...\n",
      "Waiting for file to be ready...\n",
      "Waiting for file to be ready...\n",
      "Waiting for file to be ready...\n",
      "Waiting for file to be ready...\n",
      "Waiting for file to be ready...\n",
      "Waiting for file to be ready...\n",
      "Waiting for file to be ready...\n",
      "Waiting for file to be ready...\n",
      "Waiting for file to be ready...\n",
      "Waiting for file to be ready...\n",
      "Waiting for file to be ready...\n",
      "Waiting for file to be ready...\n",
      "Waiting for file to be ready...\n",
      "Waiting for file to be ready...\n",
      "Waiting for file to be ready...\n",
      "Waiting for file to be ready...\n",
      "Waiting for file to be ready...\n",
      "Waiting for file to be ready...\n",
      "Waiting for file to be ready...\n",
      "Waiting for file to be ready...\n",
      "Waiting for file to be ready...\n",
      "Waiting for file to be ready...\n",
      "Waiting for file to be ready...\n",
      "Waiting for file to be ready...\n",
      "Waiting for file to be ready...\n",
      "Waiting for file to be ready...\n",
      "Waiting for file to be ready...\n",
      "Waiting for file to be ready...\n",
      "Waiting for file to be ready...\n",
      "Waiting for file to be ready...\n",
      "Waiting for file to be ready...\n",
      "Waiting for file to be ready...\n",
      "Waiting for file to be ready...\n",
      "Waiting for file to be ready...\n",
      "Waiting for file to be ready...\n",
      "Waiting for file to be ready...\n",
      "Waiting for file to be ready...\n",
      "Waiting for file to be ready...\n",
      "Waiting for file to be ready...\n",
      "Waiting for file to be ready...\n",
      "Waiting for file to be ready...\n",
      "Waiting for file to be ready...\n",
      "Waiting for file to be ready...\n",
      "Waiting for file to be ready...\n",
      "Waiting for file to be ready...\n",
      "Waiting for file to be ready...\n",
      "Waiting for file to be ready...\n",
      "Waiting for file to be ready...\n",
      "Waiting for file to be ready...\n",
      "Waiting for file to be ready...\n",
      "Waiting for file to be ready...\n",
      "Waiting for file to be ready...\n",
      "Waiting for file to be ready...\n",
      "Waiting for file to be ready...\n",
      "Waiting for file to be ready...\n",
      "Waiting for file to be ready...\n",
      "Waiting for file to be ready...\n",
      "Waiting for file to be ready...\n",
      "Waiting for file to be ready...\n",
      "Waiting for file to be ready...\n",
      "Waiting for file to be ready...\n",
      "Waiting for file to be ready...\n",
      "Waiting for file to be ready...\n",
      "Waiting for file to be ready...\n",
      "Waiting for file to be ready...\n",
      "Waiting for file to be ready...\n",
      "Waiting for file to be ready...\n",
      "Waiting for file to be ready...\n",
      "Waiting for file to be ready...\n",
      "Waiting for file to be ready...\n",
      "Waiting for file to be ready...\n",
      "Waiting for file to be ready...\n",
      "Waiting for file to be ready...\n",
      "Waiting for file to be ready...\n",
      "Waiting for file to be ready...\n",
      "Waiting for file to be ready...\n",
      "Waiting for file to be ready...\n",
      "Waiting for file to be ready...\n",
      "Waiting for file to be ready...\n",
      "Waiting for file to be ready...\n",
      "Waiting for file to be ready...\n",
      "Waiting for file to be ready...\n",
      "Waiting for file to be ready...\n",
      "Waiting for file to be ready...\n",
      "Waiting for file to be ready...\n",
      "Waiting for file to be ready...\n",
      "Waiting for file to be ready...\n",
      "Waiting for file to be ready...\n",
      "Waiting for file to be ready...\n",
      "Waiting for file to be ready...\n",
      "Waiting for file to be ready...\n",
      "Waiting for file to be ready...\n",
      "Waiting for file to be ready...\n",
      "Waiting for file to be ready...\n",
      "Waiting for file to be ready...\n",
      "Waiting for file to be ready...\n",
      "Waiting for file to be ready...\n",
      "Waiting for file to be ready...\n",
      "Waiting for file to be ready...\n",
      "Waiting for file to be ready...\n",
      "Waiting for file to be ready...\n",
      "Waiting for file to be ready...\n",
      "Waiting for file to be ready...\n",
      "Waiting for file to be ready...\n",
      "Waiting for file to be ready...\n",
      "Waiting for file to be ready...\n",
      "Waiting for file to be ready...\n",
      "Waiting for file to be ready...\n",
      "Waiting for file to be ready...\n",
      "Waiting for file to be ready...\n",
      "Waiting for file to be ready...\n",
      "Waiting for file to be ready...\n",
      "Waiting for file to be ready...\n",
      "Waiting for file to be ready...\n",
      "Waiting for file to be ready...\n",
      "Waiting for file to be ready...\n",
      "Waiting for file to be ready...\n",
      "Waiting for file to be ready...\n",
      "Waiting for file to be ready...\n",
      "Waiting for file to be ready...\n",
      "Waiting for file to be ready...\n",
      "Waiting for file to be ready...\n",
      "Waiting for file to be ready...\n",
      "Waiting for file to be ready...\n",
      "Waiting for file to be ready...\n",
      "Waiting for file to be ready...\n",
      "Waiting for file to be ready...\n",
      "Waiting for file to be ready...\n",
      "Waiting for file to be ready...\n",
      "Waiting for file to be ready...\n",
      "Waiting for file to be ready...\n",
      "Waiting for file to be ready...\n",
      "Waiting for file to be ready...\n",
      "Waiting for file to be ready...\n",
      "Waiting for file to be ready...\n",
      "Waiting for file to be ready...\n",
      "Waiting for file to be ready...\n",
      "Waiting for file to be ready...\n",
      "Waiting for file to be ready...\n",
      "Waiting for file to be ready...\n",
      "Waiting for file to be ready...\n",
      "Waiting for file to be ready...\n",
      "Waiting for file to be ready...\n",
      "Waiting for file to be ready...\n",
      "Waiting for file to be ready...\n",
      "Waiting for file to be ready...\n",
      "Waiting for file to be ready...\n",
      "Waiting for file to be ready...\n",
      "Waiting for file to be ready...\n",
      "Waiting for file to be ready...\n",
      "Waiting for file to be ready...\n",
      "Waiting for file to be ready...\n",
      "Waiting for file to be ready...\n",
      "Waiting for file to be ready...\n",
      "Waiting for file to be ready...\n",
      "Waiting for file to be ready...\n",
      "Waiting for file to be ready...\n",
      "Waiting for file to be ready...\n",
      "Waiting for file to be ready...\n",
      "Waiting for file to be ready...\n",
      "Waiting for file to be ready...\n",
      "Waiting for file to be ready...\n",
      "Waiting for file to be ready...\n",
      "Waiting for file to be ready...\n",
      "Waiting for file to be ready...\n",
      "Waiting for file to be ready...\n",
      "Waiting for file to be ready...\n",
      "Waiting for file to be ready...\n",
      "Waiting for file to be ready...\n",
      "Waiting for file to be ready...\n",
      "Waiting for file to be ready...\n",
      "Waiting for file to be ready...\n",
      "Waiting for file to be ready...\n",
      "Waiting for file to be ready...\n",
      "Waiting for file to be ready...\n",
      "Waiting for file to be ready...\n",
      "Waiting for file to be ready...\n",
      "Waiting for file to be ready...\n",
      "Waiting for file to be ready...\n",
      "Waiting for file to be ready...\n",
      "Waiting for file to be ready...\n",
      "Waiting for file to be ready...\n",
      "Waiting for file to be ready...\n",
      "Waiting for file to be ready...\n",
      "Waiting for file to be ready...\n",
      "Waiting for file to be ready...\n",
      "Waiting for file to be ready...\n",
      "Waiting for file to be ready...\n",
      "Waiting for file to be ready...\n",
      "Waiting for file to be ready...\n",
      "Waiting for file to be ready...\n",
      "Waiting for file to be ready...\n",
      "Waiting for file to be ready...\n",
      "Waiting for file to be ready...\n",
      "Waiting for file to be ready...\n",
      "Waiting for file to be ready...\n",
      "Waiting for file to be ready...\n",
      "Waiting for file to be ready...\n",
      "Waiting for file to be ready...\n",
      "Waiting for file to be ready...\n",
      "Waiting for file to be ready...\n",
      "Waiting for file to be ready...\n",
      "Waiting for file to be ready...\n",
      "Waiting for file to be ready...\n",
      "Waiting for file to be ready...\n",
      "Waiting for file to be ready...\n",
      "Waiting for file to be ready...\n",
      "Waiting for file to be ready...\n",
      "Waiting for file to be ready...\n",
      "Waiting for file to be ready...\n",
      "Waiting for file to be ready...\n",
      "Waiting for file to be ready...\n",
      "Waiting for file to be ready...\n",
      "Waiting for file to be ready...\n",
      "Waiting for file to be ready...\n",
      "Waiting for file to be ready...\n",
      "Waiting for file to be ready...\n",
      "Waiting for file to be ready...\n",
      "Waiting for file to be ready...\n",
      "Waiting for file to be ready...\n",
      "Waiting for file to be ready...\n",
      "Waiting for file to be ready...\n",
      "Waiting for file to be ready...\n",
      "Waiting for file to be ready...\n",
      "Waiting for file to be ready...\n",
      "Waiting for file to be ready...\n",
      "Waiting for file to be ready...\n",
      "Waiting for file to be ready...\n",
      "Waiting for file to be ready...\n",
      "Waiting for file to be ready...\n",
      "Waiting for file to be ready...\n",
      "Waiting for file to be ready...\n",
      "Waiting for file to be ready...\n",
      "Waiting for file to be ready...\n",
      "Waiting for file to be ready...\n",
      "Waiting for file to be ready...\n",
      "Waiting for file to be ready...\n",
      "Waiting for file to be ready...\n",
      "Waiting for file to be ready...\n",
      "Waiting for file to be ready...\n",
      "Waiting for file to be ready...\n",
      "Waiting for file to be ready...\n",
      "Waiting for file to be ready...\n",
      "Waiting for file to be ready...\n",
      "Waiting for file to be ready...\n",
      "Waiting for file to be ready...\n",
      "Waiting for file to be ready...\n",
      "Waiting for file to be ready...\n",
      "Waiting for file to be ready...\n",
      "Waiting for file to be ready...\n",
      "Waiting for file to be ready...\n",
      "Waiting for file to be ready...\n",
      "Waiting for file to be ready...\n",
      "Waiting for file to be ready...\n",
      "Waiting for file to be ready...\n",
      "Waiting for file to be ready...\n",
      "Waiting for file to be ready...\n",
      "Waiting for file to be ready...\n",
      "Waiting for file to be ready...\n",
      "Waiting for file to be ready...\n",
      "Waiting for file to be ready...\n",
      "Waiting for file to be ready...\n",
      "Waiting for file to be ready...\n",
      "Waiting for file to be ready...\n",
      "Waiting for file to be ready...\n",
      "Waiting for file to be ready...\n",
      "Waiting for file to be ready...\n",
      "Waiting for file to be ready...\n",
      "Waiting for file to be ready...\n",
      "Waiting for file to be ready...\n",
      "Waiting for file to be ready...\n",
      "Waiting for file to be ready...\n",
      "Waiting for file to be ready...\n",
      "Waiting for file to be ready...\n",
      "Waiting for file to be ready...\n",
      "Waiting for file to be ready...\n",
      "Waiting for file to be ready...\n",
      "Waiting for file to be ready...\n",
      "Waiting for file to be ready...\n",
      "Waiting for file to be ready...\n",
      "Waiting for file to be ready...\n",
      "Waiting for file to be ready...\n",
      "Waiting for file to be ready...\n",
      "Waiting for file to be ready...\n"
     ]
    }
   ],
   "source": [
    "finetune_engine.finetune()"
   ]
  },
  {
   "cell_type": "code",
   "execution_count": null,
   "metadata": {},
   "outputs": [],
   "source": [
    "finetune_engine.get_current_job()"
   ]
  },
  {
   "cell_type": "code",
   "execution_count": null,
   "metadata": {},
   "outputs": [],
   "source": [
    "ft_llm = finetune_engine.get_finetuned_model(temperature=0.01)"
   ]
  },
  {
   "cell_type": "markdown",
   "metadata": {},
   "source": [
    "## 5. Base vs Finetuned Agent\n",
    "\n",
    "We now compare the base vs finetuned agent.\n"
   ]
  },
  {
   "cell_type": "code",
   "execution_count": null,
   "metadata": {},
   "outputs": [],
   "source": [
    "ft_agent = ReActAgent.from_tools(\n",
    "    query_engine_tools,\n",
    "    llm=ft_llm,\n",
    "    callback_manager=callback_manager,\n",
    "    verbose=True,\n",
    ")"
   ]
  },
  {
   "cell_type": "code",
   "execution_count": null,
   "metadata": {},
   "outputs": [],
   "source": [
    "eval_questions = []\n",
    "with open(\"eval_questions_10q.txt\", \"r\") as f:\n",
    "    for line in f:\n",
    "        eval_questions.append(line.strip())"
   ]
  },
  {
   "cell_type": "code",
   "execution_count": null,
   "metadata": {},
   "outputs": [],
   "source": [
    "# try a sample question\n",
    "qidx = 0\n",
    "print(eval_questions[qidx])"
   ]
  },
  {
   "cell_type": "code",
   "execution_count": null,
   "metadata": {},
   "outputs": [],
   "source": [
    "base_response = llama_agent.query(eval_questions[qidx])\n",
    "print(str(base_response))"
   ]
  },
  {
   "cell_type": "code",
   "execution_count": null,
   "metadata": {},
   "outputs": [],
   "source": [
    "ft_response = ft_agent.query(eval_questions[qidx])\n",
    "print(str(ft_response))"
   ]
  },
  {
   "cell_type": "code",
   "execution_count": null,
   "metadata": {},
   "outputs": [],
   "source": [
    "# try the original question that failed\n",
    "test_q = (\n",
    "    \"Can you tell me about the risk factors in the quarter with the highest\"\n",
    "    \" revenue growth?\"\n",
    ")\n",
    "base_response = llama_agent.query(test_q)\n",
    "print(str(base_response))"
   ]
  },
  {
   "cell_type": "code",
   "execution_count": null,
   "metadata": {},
   "outputs": [],
   "source": [
    "# NOTE: this successfully looks at each quarter for revenue growth but still falls behind GPT-4\n",
    "ft_response = ft_agent.query(test_q)\n",
    "print(str(ft_response))"
   ]
  }
 ],
 "metadata": {
  "kernelspec": {
   "display_name": ".venv",
   "language": "python",
   "name": "python3"
  },
  "language_info": {
   "codemirror_mode": {
    "name": "ipython",
    "version": 3
   },
   "file_extension": ".py",
   "mimetype": "text/x-python",
   "name": "python",
   "nbconvert_exporter": "python",
   "pygments_lexer": "ipython3",
   "version": "3.11.9"
  }
 },
 "nbformat": 4,
 "nbformat_minor": 2
}
