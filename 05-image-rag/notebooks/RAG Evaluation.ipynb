{
 "cells": [
  {
   "cell_type": "markdown",
   "metadata": {},
   "source": [
    "# RAG Evaluations\n"
   ]
  },
  {
   "cell_type": "code",
   "execution_count": 5,
   "metadata": {},
   "outputs": [
    {
     "data": {
      "text/plain": [
       "12"
      ]
     },
     "execution_count": 5,
     "metadata": {},
     "output_type": "execute_result"
    }
   ],
   "source": [
    "from llama_index.core import SimpleDirectoryReader\n",
    "path = \"../data/samples/\"\n",
    "docs = SimpleDirectoryReader(\n",
    "    input_dir=path\n",
    ").load_data()\n",
    "len(docs)"
   ]
  },
  {
   "cell_type": "code",
   "execution_count": 7,
   "metadata": {},
   "outputs": [
    {
     "data": {
      "text/plain": [
       "'---\\ntitle: \"Being Inclusive\"\\ndescription: \"We are all responsible for creating and maintaining an inclusive environment at GitLab.\"\\n---\\n\\n## What is fundamental for a successful inclusive environment\\n\\nWe are **all responsible** for creating and maintaining an inclusive environment at GitLab.\\n\\nWe all need to feel **empowered** to contribute and collaborate.\\n\\n## Diversity, Inclusion & Belonging at GitLab\\n\\nDiversity includes all the differences we each have, whether it be where we grew up, where we went to school, experiences, how we react, age, race, gender, national origin, things we can and can not see, the list goes on.\\n\\nInclusion is understanding or recognizing all these differences and inviting someone to be a part of things and collaborate, etc.\\n\\nBelonging is when you feel your insights and contributions are valued. It goes back to team members feeling they can bring their full selves to work.\\n\\nSee the [Diversity, Inclusion, and Belonging page]({{< ref \"inclusion\" >}}) page for more information.\\n\\n## What inclusive behaviors look like\\n\\n1. Include and seek input from team members across a wide variety of backgrounds.\\n1. Active listening - listen carefully to the person speaking and playback what they have said in an effort to show understanding.\\n1. Make a habit of asking questions.\\n1. If you have a strong reaction to someone, ask yourself why. Look inward.\\n1. Address misunderstandings and quickly resolve disagreements.\\n1. Make a point to understand each team member\\'s contribution efforts and leverage them as much as possible.\\n1. Ensure all voices are heard. Include everyone as much as possible in discussions.\\n1. Assume positive intent and examine your assumptions/judgements.\\n\\nSee our values page for futher information on [inclusive language]({{< ref \"values#inclusive-language--pronouns\" >}}).\\n\\n## Inclusion Training\\n\\nIn December 2019, we held 3 sessions on Inclusion Training. Below you can find a recorded session that follows along with the [slide deck](https://docs.google.com/presentation/d/1WujXXxNDorIXB3NJeEnneC0dnOoqdFtcL6OhM-zWt4s/edit?usp=sharing) and [agenda](https://docs.google.com/document/d/1za96EEONFnOp-cI1kflIstE-MIAKSlsYZbivjnhr6ys/edit?usp=sharing).\\n\\n{{< youtube \"gsQ2OsmgqVM\" >}}\\n\\n## Inclusion Knowledge Assessment\\n\\nAnyone can earn a GitLab Inclusion Certification. To obtain certification, you will need to complete the **[Inclusion Knowledge Assessment Quiz](https://docs.google.com/forms/d/e/1FAIpQLSet0MW_GSOJUQkD3EMBLrSm3POKU6Y4opk_zFq31rFLCcWzwQ/viewform)** and earn at least an 80%. Once the quiz has been passed, you will receive an email with your certification that you can share on your personal LinkedIn or Twitter pages. If you have questions, please reach out to our L&D team at `learning@gitlab.com`.\\n'"
      ]
     },
     "execution_count": 7,
     "metadata": {},
     "output_type": "execute_result"
    }
   ],
   "source": [
    "docs[3].text"
   ]
  },
  {
   "cell_type": "markdown",
   "metadata": {},
   "source": [
    "### Construct a RAG retriever\n"
   ]
  },
  {
   "cell_type": "code",
   "execution_count": 8,
   "metadata": {},
   "outputs": [],
   "source": [
    "from llama_index.core import VectorStoreIndex\n",
    "\n",
    "index = VectorStoreIndex.from_documents(docs)\n",
    "query_engine = index.as_query_engine()"
   ]
  },
  {
   "cell_type": "code",
   "execution_count": 9,
   "metadata": {},
   "outputs": [
    {
     "name": "stdout",
     "output_type": "stream",
     "text": [
      "Being inclusive at GitLab means creating and maintaining an environment where all team members feel empowered to contribute and collaborate. It involves recognizing and valuing the differences among individuals, inviting everyone to participate, ensuring that all voices are heard, and making efforts to understand and leverage each team member's contributions. Inclusive behaviors include seeking input from diverse backgrounds, active listening, asking questions, addressing misunderstandings, assuming positive intent, and avoiding making assumptions based on personal characteristics. GitLab emphasizes the importance of holding each other accountable for using inclusive language, avoiding identity assumption statements, and uncovering unconscious biases to create a supportive and welcoming work environment for all team members.\n"
     ]
    }
   ],
   "source": [
    "response = query_engine.query(\"What does it mean to be inclusive in Gitlab?\")\n",
    "print(response.response)"
   ]
  },
  {
   "cell_type": "markdown",
   "metadata": {},
   "source": [
    "## Create an Evaluation Data Set\n"
   ]
  },
  {
   "cell_type": "code",
   "execution_count": 10,
   "metadata": {},
   "outputs": [
    {
     "data": {
      "application/vnd.jupyter.widget-view+json": {
       "model_id": "90ef053cdc69462b8d4e4f1ac38aaa56",
       "version_major": 2,
       "version_minor": 0
      },
      "text/plain": [
       "Applying HeadlinesExtractor:   0%|          | 0/8 [00:00<?, ?it/s]"
      ]
     },
     "metadata": {},
     "output_type": "display_data"
    },
    {
     "data": {
      "application/vnd.jupyter.widget-view+json": {
       "model_id": "ea1c5ac102834bd8a7035c1f3405adcd",
       "version_major": 2,
       "version_minor": 0
      },
      "text/plain": [
       "Applying HeadlineSplitter:   0%|          | 0/12 [00:00<?, ?it/s]"
      ]
     },
     "metadata": {},
     "output_type": "display_data"
    },
    {
     "name": "stderr",
     "output_type": "stream",
     "text": [
      "unable to apply transformation: 'headlines' property not found in this node\n",
      "unable to apply transformation: 'headlines' property not found in this node\n",
      "unable to apply transformation: 'headlines' property not found in this node\n",
      "unable to apply transformation: 'headlines' property not found in this node\n"
     ]
    },
    {
     "data": {
      "application/vnd.jupyter.widget-view+json": {
       "model_id": "b1ebf652b5ea478dbbcc1d119b4dba71",
       "version_major": 2,
       "version_minor": 0
      },
      "text/plain": [
       "Applying SummaryExtractor:   0%|          | 0/11 [00:00<?, ?it/s]"
      ]
     },
     "metadata": {},
     "output_type": "display_data"
    },
    {
     "name": "stderr",
     "output_type": "stream",
     "text": [
      "Property 'summary' already exists in node '52111d'. Skipping!\n",
      "Property 'summary' already exists in node 'ed5a3c'. Skipping!\n",
      "Property 'summary' already exists in node '26531b'. Skipping!\n"
     ]
    },
    {
     "data": {
      "application/vnd.jupyter.widget-view+json": {
       "model_id": "441304deea70419eae4ea72f7aa07a47",
       "version_major": 2,
       "version_minor": 0
      },
      "text/plain": [
       "Applying CustomNodeFilter:   0%|          | 0/14 [00:00<?, ?it/s]"
      ]
     },
     "metadata": {},
     "output_type": "display_data"
    },
    {
     "data": {
      "application/vnd.jupyter.widget-view+json": {
       "model_id": "f41a58a6212948ef87e5d98d7b6f1984",
       "version_major": 2,
       "version_minor": 0
      },
      "text/plain": [
       "Applying [EmbeddingExtractor, ThemesExtractor, NERExtractor]:   0%|          | 0/39 [00:00<?, ?it/s]"
      ]
     },
     "metadata": {},
     "output_type": "display_data"
    },
    {
     "name": "stderr",
     "output_type": "stream",
     "text": [
      "Property 'summary_embedding' already exists in node 'ed5a3c'. Skipping!\n",
      "Property 'summary_embedding' already exists in node '26531b'. Skipping!\n",
      "Property 'summary_embedding' already exists in node '52111d'. Skipping!\n"
     ]
    },
    {
     "data": {
      "application/vnd.jupyter.widget-view+json": {
       "model_id": "2227ad954552426a844f2545c8f791fe",
       "version_major": 2,
       "version_minor": 0
      },
      "text/plain": [
       "Applying [CosineSimilarityBuilder, OverlapScoreBuilder]:   0%|          | 0/2 [00:00<?, ?it/s]"
      ]
     },
     "metadata": {},
     "output_type": "display_data"
    },
    {
     "data": {
      "application/vnd.jupyter.widget-view+json": {
       "model_id": "c46668fb4d124ef1a57af34a573232fa",
       "version_major": 2,
       "version_minor": 0
      },
      "text/plain": [
       "Generating personas:   0%|          | 0/3 [00:00<?, ?it/s]"
      ]
     },
     "metadata": {},
     "output_type": "display_data"
    },
    {
     "data": {
      "application/vnd.jupyter.widget-view+json": {
       "model_id": "67673defde0947738be94055918cfac1",
       "version_major": 2,
       "version_minor": 0
      },
      "text/plain": [
       "Generating Scenarios:   0%|          | 0/3 [00:00<?, ?it/s]"
      ]
     },
     "metadata": {},
     "output_type": "display_data"
    },
    {
     "data": {
      "application/vnd.jupyter.widget-view+json": {
       "model_id": "2b8e840e9684476ea9f143c34f36c2a4",
       "version_major": 2,
       "version_minor": 0
      },
      "text/plain": [
       "Generating Samples:   0%|          | 0/12 [00:00<?, ?it/s]"
      ]
     },
     "metadata": {},
     "output_type": "display_data"
    },
    {
     "data": {
      "text/html": [
       "<div>\n",
       "<style scoped>\n",
       "    .dataframe tbody tr th:only-of-type {\n",
       "        vertical-align: middle;\n",
       "    }\n",
       "\n",
       "    .dataframe tbody tr th {\n",
       "        vertical-align: top;\n",
       "    }\n",
       "\n",
       "    .dataframe thead th {\n",
       "        text-align: right;\n",
       "    }\n",
       "</style>\n",
       "<table border=\"1\" class=\"dataframe\">\n",
       "  <thead>\n",
       "    <tr style=\"text-align: right;\">\n",
       "      <th></th>\n",
       "      <th>user_input</th>\n",
       "      <th>reference_contexts</th>\n",
       "      <th>reference</th>\n",
       "      <th>synthesizer_name</th>\n",
       "    </tr>\n",
       "  </thead>\n",
       "  <tbody>\n",
       "    <tr>\n",
       "      <th>0</th>\n",
       "      <td>Wht is GitLab's role in suporting allys?</td>\n",
       "      <td>[--- title: \"The Ally Lab\" description: Learn ...</td>\n",
       "      <td>GitLab provides tools, resources, and learning...</td>\n",
       "      <td>single_hop_specifc_query_synthesizer</td>\n",
       "    </tr>\n",
       "    <tr>\n",
       "      <th>1</th>\n",
       "      <td>How can Zoom be utilized to address feedback i...</td>\n",
       "      <td>[Skills and Behaviors of allies To be an effec...</td>\n",
       "      <td>After a meeting, someone from the group can ju...</td>\n",
       "      <td>single_hop_specifc_query_synthesizer</td>\n",
       "    </tr>\n",
       "    <tr>\n",
       "      <th>2</th>\n",
       "      <td>What does an ALLG Facilitator do in the contex...</td>\n",
       "      <td>[Concepts &amp; Terms 1. Privilege: an unearned ad...</td>\n",
       "      <td>An ALLG Facilitator leads a group of 5-10 team...</td>\n",
       "      <td>single_hop_specifc_query_synthesizer</td>\n",
       "    </tr>\n",
       "    <tr>\n",
       "      <th>3</th>\n",
       "      <td>what equality ally strategies?</td>\n",
       "      <td>[What it means to be an ally - Take on the str...</td>\n",
       "      <td>Equality Ally Strategies are part of the essen...</td>\n",
       "      <td>single_hop_specifc_query_synthesizer</td>\n",
       "    </tr>\n",
       "    <tr>\n",
       "      <th>4</th>\n",
       "      <td>How can empathy and active listening enhance a...</td>\n",
       "      <td>[&lt;1-hop&gt;\\n\\n--- title: \"The Ally Lab\" descript...</td>\n",
       "      <td>Empathy and active listening are crucial skill...</td>\n",
       "      <td>multi_hop_abstract_query_synthesizer</td>\n",
       "    </tr>\n",
       "  </tbody>\n",
       "</table>\n",
       "</div>"
      ],
      "text/plain": [
       "                                          user_input  \\\n",
       "0           Wht is GitLab's role in suporting allys?   \n",
       "1  How can Zoom be utilized to address feedback i...   \n",
       "2  What does an ALLG Facilitator do in the contex...   \n",
       "3                     what equality ally strategies?   \n",
       "4  How can empathy and active listening enhance a...   \n",
       "\n",
       "                                  reference_contexts  \\\n",
       "0  [--- title: \"The Ally Lab\" description: Learn ...   \n",
       "1  [Skills and Behaviors of allies To be an effec...   \n",
       "2  [Concepts & Terms 1. Privilege: an unearned ad...   \n",
       "3  [What it means to be an ally - Take on the str...   \n",
       "4  [<1-hop>\\n\\n--- title: \"The Ally Lab\" descript...   \n",
       "\n",
       "                                           reference  \\\n",
       "0  GitLab provides tools, resources, and learning...   \n",
       "1  After a meeting, someone from the group can ju...   \n",
       "2  An ALLG Facilitator leads a group of 5-10 team...   \n",
       "3  Equality Ally Strategies are part of the essen...   \n",
       "4  Empathy and active listening are crucial skill...   \n",
       "\n",
       "                       synthesizer_name  \n",
       "0  single_hop_specifc_query_synthesizer  \n",
       "1  single_hop_specifc_query_synthesizer  \n",
       "2  single_hop_specifc_query_synthesizer  \n",
       "3  single_hop_specifc_query_synthesizer  \n",
       "4  multi_hop_abstract_query_synthesizer  "
      ]
     },
     "execution_count": 10,
     "metadata": {},
     "output_type": "execute_result"
    }
   ],
   "source": [
    "from ragas.embeddings import LangchainEmbeddingsWrapper, LlamaIndexEmbeddingsWrapper\n",
    "from ragas.llms import LangchainLLMWrapper, LlamaIndexLLMWrapper\n",
    "from ragas.testset import TestsetGenerator\n",
    "from llama_index.llms.openai import OpenAI\n",
    "from llama_index.embeddings.openai import OpenAIEmbedding\n",
    "\n",
    "llama_index_llm = LlamaIndexLLMWrapper(OpenAI(model=\"gpt-4o\"))\n",
    "llama_index_embeddings = LlamaIndexEmbeddingsWrapper(OpenAIEmbedding())\n",
    "\n",
    "generator = TestsetGenerator(llm=llama_index_llm, embedding_model=llama_index_embeddings)\n",
    "dataset = generator.generate_with_llamaindex_docs(docs, testset_size=10)\n",
    "\n",
    "df = dataset.to_pandas()\n",
    "df.head()"
   ]
  },
  {
   "cell_type": "code",
   "execution_count": 13,
   "metadata": {},
   "outputs": [
    {
     "data": {
      "text/plain": [
       "'How can Zoom be utilized to address feedback in a non-defensive manner?'"
      ]
     },
     "execution_count": 13,
     "metadata": {},
     "output_type": "execute_result"
    }
   ],
   "source": [
    "df.iloc[1][\"user_input\"]"
   ]
  },
  {
   "cell_type": "code",
   "execution_count": 16,
   "metadata": {},
   "outputs": [
    {
     "name": "stdout",
     "output_type": "stream",
     "text": [
      "After a meeting, someone from the group can jump on a Zoom meeting with you to explain how your actions, such as talking over someone, affected the group. This allows you to apologize, take on the feedback, and ask for tips on how to improve, demonstrating humility and a willingness to learn.\n"
     ]
    }
   ],
   "source": [
    "print(df.iloc[1][\"reference\"])"
   ]
  },
  {
   "cell_type": "code",
   "execution_count": 15,
   "metadata": {},
   "outputs": [
    {
     "name": "stdout",
     "output_type": "stream",
     "text": [
      "Zoom can be utilized to address feedback in a non-defensive manner by actively listening to the feedback provided without interrupting or becoming defensive. It is important to maintain an open and receptive attitude during the conversation, allowing the person giving feedback to express their thoughts fully. Additionally, using Zoom's video feature can help convey non-verbal cues such as nodding and maintaining eye contact to show that you are engaged and taking the feedback seriously. Finally, summarizing the feedback received and asking clarifying questions can demonstrate that you value the input and are committed to understanding and addressing any concerns raised.\n"
     ]
    }
   ],
   "source": [
    "response = query_engine.query(df.iloc[1][\"user_input\"])\n",
    "print(response.response)\n"
   ]
  }
 ],
 "metadata": {
  "kernelspec": {
   "display_name": ".venv",
   "language": "python",
   "name": "python3"
  },
  "language_info": {
   "codemirror_mode": {
    "name": "ipython",
    "version": 3
   },
   "file_extension": ".py",
   "mimetype": "text/x-python",
   "name": "python",
   "nbconvert_exporter": "python",
   "pygments_lexer": "ipython3",
   "version": "3.11.9"
  }
 },
 "nbformat": 4,
 "nbformat_minor": 2
}
