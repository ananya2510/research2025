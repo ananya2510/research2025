{
 "cells": [
  {
   "cell_type": "markdown",
   "metadata": {},
   "source": [
    "# Hierarchical Queries\n"
   ]
  },
  {
   "cell_type": "code",
   "execution_count": 1,
   "metadata": {},
   "outputs": [],
   "source": [
    "from dotenv import load_dotenv, find_dotenv\n",
    "\n",
    "load_dotenv(find_dotenv())\n",
    "import nest_asyncio\n",
    "nest_asyncio.apply()\n",
    "from loguru import logger"
   ]
  },
  {
   "cell_type": "code",
   "execution_count": 2,
   "metadata": {},
   "outputs": [],
   "source": [
    "from llama_index.core import SimpleDirectoryReader, get_response_synthesizer\n",
    "from llama_index.core import DocumentSummaryIndex\n",
    "from llama_index.llms.openai import OpenAI\n",
    "from llama_index.core.node_parser import SentenceSplitter"
   ]
  },
  {
   "cell_type": "markdown",
   "metadata": {},
   "source": [
    "## Loading Wikipedia Data\n"
   ]
  },
  {
   "cell_type": "code",
   "execution_count": 3,
   "metadata": {},
   "outputs": [],
   "source": [
    "wiki_titles = [\"San Francisco\", \"Seattle\", \"Chicago\", \"Boston\", \"Dallas\"]\n",
    "\n",
    "from pathlib import Path\n",
    "\n",
    "import requests\n",
    "\n",
    "for title in wiki_titles:\n",
    "    response = requests.get(\n",
    "        \"https://en.wikipedia.org/w/api.php\",\n",
    "        params={\n",
    "            \"action\": \"query\",\n",
    "            \"format\": \"json\",\n",
    "            \"titles\": title,\n",
    "            \"prop\": \"extracts\",\n",
    "            # 'exintro': True,\n",
    "            \"explaintext\": True,\n",
    "        },\n",
    "    ).json()\n",
    "    page = next(iter(response[\"query\"][\"pages\"].values()))\n",
    "    wiki_text = page[\"extract\"]\n",
    "\n",
    "    data_path = Path(\"data\")\n",
    "    if not data_path.exists():\n",
    "        Path.mkdir(data_path)\n",
    "\n",
    "    with open(data_path / f\"{title}.txt\", \"w\") as fp:\n",
    "        fp.write(wiki_text)"
   ]
  },
  {
   "cell_type": "code",
   "execution_count": 4,
   "metadata": {},
   "outputs": [],
   "source": [
    "\n",
    "# Load all wiki documents\n",
    "city_docs = []\n",
    "for wiki_title in wiki_titles:\n",
    "    docs = SimpleDirectoryReader(\n",
    "        input_files=[f\"data/{wiki_title}.txt\"]\n",
    "    ).load_data()\n",
    "    docs[0].doc_id = wiki_title\n",
    "    city_docs.extend(docs)"
   ]
  },
  {
   "cell_type": "markdown",
   "metadata": {},
   "source": [
    "## Building Indices\n"
   ]
  },
  {
   "cell_type": "code",
   "execution_count": 5,
   "metadata": {},
   "outputs": [],
   "source": [
    "llm = OpenAI(temperature=0, model=\"gpt-4o-mini\")\n",
    "chunker = SentenceSplitter(chunk_size=1024)"
   ]
  },
  {
   "cell_type": "code",
   "execution_count": 6,
   "metadata": {},
   "outputs": [
    {
     "name": "stderr",
     "output_type": "stream",
     "text": [
      "/Users/pmui/SynologyDrive/research/2025/research2025/06-advanced-rag/.venv/lib/python3.11/site-packages/tqdm/auto.py:21: TqdmWarning: IProgress not found. Please update jupyter and ipywidgets. See https://ipywidgets.readthedocs.io/en/stable/user_install.html\n",
      "  from .autonotebook import tqdm as notebook_tqdm\n",
      "Parsing nodes: 100%|██████████| 5/5 [00:00<00:00, 52.69it/s]\n",
      "Summarizing documents:   0%|          | 0/5 [00:00<?, ?it/s]"
     ]
    },
    {
     "name": "stdout",
     "output_type": "stream",
     "text": [
      "current doc id: San Francisco\n"
     ]
    },
    {
     "name": "stderr",
     "output_type": "stream",
     "text": [
      "Summarizing documents:  20%|██        | 1/5 [00:06<00:24,  6.09s/it]"
     ]
    },
    {
     "name": "stdout",
     "output_type": "stream",
     "text": [
      "current doc id: Seattle\n"
     ]
    },
    {
     "name": "stderr",
     "output_type": "stream",
     "text": [
      "Summarizing documents:  40%|████      | 2/5 [00:11<00:16,  5.53s/it]"
     ]
    },
    {
     "name": "stdout",
     "output_type": "stream",
     "text": [
      "current doc id: Chicago\n"
     ]
    },
    {
     "name": "stderr",
     "output_type": "stream",
     "text": [
      "Summarizing documents:  60%|██████    | 3/5 [00:15<00:09,  4.91s/it]"
     ]
    },
    {
     "name": "stdout",
     "output_type": "stream",
     "text": [
      "current doc id: Boston\n"
     ]
    },
    {
     "name": "stderr",
     "output_type": "stream",
     "text": [
      "Summarizing documents:  80%|████████  | 4/5 [00:19<00:04,  4.62s/it]"
     ]
    },
    {
     "name": "stdout",
     "output_type": "stream",
     "text": [
      "current doc id: Dallas\n"
     ]
    },
    {
     "name": "stderr",
     "output_type": "stream",
     "text": [
      "Summarizing documents: 100%|██████████| 5/5 [00:22<00:00,  4.57s/it]\n",
      "Generating embeddings: 100%|██████████| 5/5 [00:00<00:00,  8.75it/s]\n"
     ]
    }
   ],
   "source": [
    "from llama_index.core.response_synthesizers import ResponseMode\n",
    "\n",
    "response_synthesizer = get_response_synthesizer(\n",
    "    response_mode=ResponseMode.TREE_SUMMARIZE, use_async=True\n",
    ")\n",
    "doc_summary_index = DocumentSummaryIndex.from_documents(\n",
    "    city_docs,\n",
    "    llm=llm,\n",
    "    transformations=[chunker],\n",
    "    response_synthesizer=response_synthesizer,\n",
    "    show_progress=True,\n",
    ")\n"
   ]
  },
  {
   "cell_type": "code",
   "execution_count": 8,
   "metadata": {},
   "outputs": [
    {
     "name": "stdout",
     "output_type": "stream",
     "text": [
      "('The text provides a detailed overview of San Francisco, covering a wide '\n",
      " 'range of topics such as its history, demographics, economy, arts and '\n",
      " 'culture, sports, environment, education, infrastructure, public safety, and '\n",
      " \"more. It explores the city's evolution over time, its significant \"\n",
      " 'achievements, cultural landmarks, major industries, environmental '\n",
      " 'initiatives, government structure, transportation systems, and educational '\n",
      " \"institutions. The text also highlights San Francisco's diverse population, \"\n",
      " 'economic significance, impact on various sectors like technology and the '\n",
      " 'performing arts, and its contributions to areas such as LGBT rights and '\n",
      " 'public safety.\\n'\n",
      " '\\n'\n",
      " 'Some questions that this text can answer include:\\n'\n",
      " '- What is the historical background of San Francisco, and how has it evolved '\n",
      " 'over time?\\n'\n",
      " \"- What are the key industries driving San Francisco's economy, and how has \"\n",
      " 'it diversified over the years?\\n'\n",
      " '- What are some of the major cultural landmarks and attractions in San '\n",
      " 'Francisco?\\n'\n",
      " '- How does San Francisco fare in terms of demographics, including population '\n",
      " 'diversity and income levels?\\n'\n",
      " '- What role does San Francisco play in sports, and which major sports teams '\n",
      " 'are based in the city?\\n'\n",
      " '- How has San Francisco contributed to the arts and culture scene, both '\n",
      " 'locally and globally?\\n'\n",
      " \"- What are some of the unique features of San Francisco's geography and \"\n",
      " 'climate?\\n'\n",
      " '- How has San Francisco addressed issues like homelessness, crime, and '\n",
      " 'environmental sustainability?\\n'\n",
      " '- What are some of the notable events and developments that have shaped San '\n",
      " \"Francisco's identity as a global city?\")\n"
     ]
    }
   ],
   "source": [
    "from pprint import pprint\n",
    "pprint(doc_summary_index.get_document_summary(\"San Francisco\"))"
   ]
  },
  {
   "cell_type": "code",
   "execution_count": 9,
   "metadata": {},
   "outputs": [],
   "source": [
    "doc_summary_index.storage_context.persist(\"index\")\n",
    "\n",
    "from llama_index.core import load_index_from_storage\n",
    "from llama_index.core import StorageContext\n",
    "\n",
    "storage_context = StorageContext.from_defaults(persist_dir=\"index\")\n",
    "doc_summary_index = load_index_from_storage(storage_context)"
   ]
  },
  {
   "cell_type": "markdown",
   "metadata": {},
   "source": [
    "## Retrieval from Document Summary Index\n"
   ]
  },
  {
   "cell_type": "markdown",
   "metadata": {},
   "source": [
    "### High-level Querying\n"
   ]
  },
  {
   "cell_type": "code",
   "execution_count": 23,
   "metadata": {},
   "outputs": [],
   "source": [
    "\n",
    "query_engine = doc_summary_index.as_query_engine(\n",
    "    response_mode=ResponseMode.TREE_SUMMARIZE, use_async=True\n",
    ")\n",
    "response = query_engine.query(\"What are the sports teams in San Francisco?\")"
   ]
  },
  {
   "cell_type": "code",
   "execution_count": 24,
   "metadata": {},
   "outputs": [
    {
     "name": "stdout",
     "output_type": "stream",
     "text": [
      "The sports teams in San Francisco include Major League Baseball's San Francisco Giants, the National Football League's San Francisco 49ers, the NBA's Golden State Warriors, the collegiate teams San Francisco Dons and San Francisco State Gators, lower-league soccer clubs, and Esports teams like the Overwatch League's San Francisco Shock.\n"
     ]
    }
   ],
   "source": [
    "print(response.response)"
   ]
  },
  {
   "cell_type": "markdown",
   "metadata": {},
   "source": [
    "### LLM-based Retrieval\n"
   ]
  },
  {
   "cell_type": "code",
   "execution_count": 16,
   "metadata": {},
   "outputs": [
    {
     "data": {
      "text/plain": [
       "27"
      ]
     },
     "execution_count": 16,
     "metadata": {},
     "output_type": "execute_result"
    }
   ],
   "source": [
    "\n",
    "from llama_index.core.indices.document_summary import (\n",
    "    DocumentSummaryIndexLLMRetriever,\n",
    ")\n",
    "\n",
    "llm_retriever = DocumentSummaryIndexLLMRetriever(\n",
    "    doc_summary_index, llm=llm\n",
    ")\n",
    "retrieved_nodes = llm_retriever.retrieve(\"What are the sports team in San Francisco?\")\n",
    "len(retrieved_nodes)\n"
   ]
  },
  {
   "cell_type": "code",
   "execution_count": 17,
   "metadata": {},
   "outputs": [
    {
     "name": "stdout",
     "output_type": "stream",
     "text": [
      "10.0\n",
      "San Francisco, officially the City and County of San Francisco, is a commercial, financial, and cultural center within Northern California, United States. With a population of 827,526 residents as of 2024, San Francisco is the fourth-most populous city in California and the 17th-most populous in the U.S.; with a land area of 46.9 square miles (121 square kilometers) at the upper end of the San Francisco Peninsula, it is the fifth-most densely populated U.S. county. Among U.S. cities proper with over 250,000 residents, San Francisco is ranked first by per capita income and sixth by aggregate income as of 2023. San Francisco anchors the 13th-most populous metropolitan statistical area in the U.S., with almost 4.6 million residents in 2023. The larger San Jose–San Francisco–Oakland combined statistical area, the fifth-largest urban region in the U.S., had a 2023 estimated population of over nine million.\n",
      "Prior to European settlement, the modern city proper was inhabited by the Yelamu. On June 29, 1776, settlers from New Spain established the Presidio of San Francisco at the Golden Gate, and the Mission San Francisco de Asís a few miles away, both named for Francis of Assisi. The California gold rush of 1849 brought rapid growth, making it the largest city on the West Coast at the time. In 1856, San Francisco became a consolidated city-county. After three-quarters of the city was destroyed by the 1906 earthquake and fire, it was quickly rebuilt, hosting the Panama–Pacific International Exposition nine years later. In World War II, it was a major port of embarkation for naval service members shipping out to the Pacific Theater. After the war, the confluence of returning servicemen, significant immigration, liberalizing attitudes, the rise of the beatnik and hippie countercultures, the sexual revolution, opposition to U.S. involvement in the Vietnam War, and other factors led to the Summer of Love and the gay rights movement, cementing San Francisco as a center of liberal activism.\n",
      "San Francisco and the surrounding San Francisco Bay Area are a global center of economic activity and the arts and sciences, spurred by leading universities, high-tech, healthcare, finance, insurance, real estate, and professional services sectors. As of 2020, the metropolitan area, with 4.5 million residents, ranked 5th by GDP ($874 billion) and 2nd by GDP per capita ($131,082) across the OECD countries. In 2023, San Francisco proper had a GDP of $263.1 billion and a GDP per capita of $325,000. Despite an accelerating exodus of businesses from the downtown area of San Francisco, the city is still home to numerous companies inside and outside of technology, including Salesforce, Uber, Airbnb, OpenAI, Levi's, Gap, Dropbox, and Lyft.\n",
      "In 2022, San Francisco had more than 1.7 million international visitors and approximately 20 million domestic ones. It is known for its steep rolling hills and eclectic mix of architecture across varied neighborhoods; its Chinatown and Mission districts; mild climate; and landmarks including the Golden Gate Bridge, cable cars, and Alcatraz. The city is home to educational and cultural institutions such as the University of California, San Francisco, the University of San Francisco, San Francisco State University, the San Francisco Conservatory of Music, the Legion of Honor (museum), the de Young Museum, the San Francisco Museum of Modern Art, the San Francisco Symphony, the San Francisco Ballet, the San Francisco Opera, the SFJAZZ Center, and the California Academy of Sciences. Two major league sports teams, the San Francisco Giants and the Golden State Warriors, play their home games within San Francisco proper. San Francisco International Airport (SFO) offers flights to over 125 destinations, while a light rail and bus network, in tandem with the BART and Caltrain systems, connects nearly every part of San Francisco with the wider region.\n"
     ]
    }
   ],
   "source": [
    "print(retrieved_nodes[0].score)\n",
    "print(retrieved_nodes[0].node.get_text())"
   ]
  },
  {
   "cell_type": "code",
   "execution_count": 18,
   "metadata": {},
   "outputs": [
    {
     "name": "stdout",
     "output_type": "stream",
     "text": [
      "The sports teams in San Francisco include Major League Baseball's San Francisco Giants, the National Football League's San Francisco 49ers, the National Basketball Association's Golden State Warriors, the San Francisco Dons in NCAA Division I, and the San Francisco State Gators in NCAA Division II.\n"
     ]
    }
   ],
   "source": [
    "# use retriever as part of a query engine\n",
    "from llama_index.core.query_engine import RetrieverQueryEngine\n",
    "\n",
    "# configure response synthesizer\n",
    "response_synthesizer = get_response_synthesizer(response_mode=\"tree_summarize\")\n",
    "\n",
    "# assemble query engine\n",
    "query_engine = RetrieverQueryEngine(\n",
    "    retriever=llm_retriever,\n",
    "    response_synthesizer=response_synthesizer,\n",
    ")\n",
    "\n",
    "# query\n",
    "response = query_engine.query(\"What are the sports teams in San Francisco?\")\n",
    "print(response)"
   ]
  },
  {
   "cell_type": "markdown",
   "metadata": {},
   "source": [
    "### Embedding-based Retrieval\n"
   ]
  },
  {
   "cell_type": "code",
   "execution_count": 19,
   "metadata": {},
   "outputs": [
    {
     "data": {
      "text/plain": [
       "70"
      ]
     },
     "execution_count": 19,
     "metadata": {},
     "output_type": "execute_result"
    }
   ],
   "source": [
    "from llama_index.core.indices.document_summary import (\n",
    "    DocumentSummaryIndexEmbeddingRetriever,\n",
    ")\n",
    "\n",
    "embedding_retriever = DocumentSummaryIndexEmbeddingRetriever(\n",
    "    doc_summary_index, llm=llm,\n",
    "    similarity_top_k=3,\n",
    ")\n",
    "\n",
    "retrieved_nodes = embedding_retriever.retrieve(\"What are the sports teams in San Francisco?\")\n",
    "len(retrieved_nodes)"
   ]
  },
  {
   "cell_type": "code",
   "execution_count": 20,
   "metadata": {},
   "outputs": [
    {
     "name": "stdout",
     "output_type": "stream",
     "text": [
      "San Francisco, officially the City and County of San Francisco, is a commercial, financial, and cultural center within Northern California, United States. With a population of 827,526 residents as of 2024, San Francisco is the fourth-most populous city in California and the 17th-most populous in the U.S.; with a land area of 46.9 square miles (121 square kilometers) at the upper end of the San Francisco Peninsula, it is the fifth-most densely populated U.S. county. Among U.S. cities proper with over 250,000 residents, San Francisco is ranked first by per capita income and sixth by aggregate income as of 2023. San Francisco anchors the 13th-most populous metropolitan statistical area in the U.S., with almost 4.6 million residents in 2023. The larger San Jose–San Francisco–Oakland combined statistical area, the fifth-largest urban region in the U.S., had a 2023 estimated population of over nine million.\n",
      "Prior to European settlement, the modern city proper was inhabited by the Yelamu. On June 29, 1776, settlers from New Spain established the Presidio of San Francisco at the Golden Gate, and the Mission San Francisco de Asís a few miles away, both named for Francis of Assisi. The California gold rush of 1849 brought rapid growth, making it the largest city on the West Coast at the time. In 1856, San Francisco became a consolidated city-county. After three-quarters of the city was destroyed by the 1906 earthquake and fire, it was quickly rebuilt, hosting the Panama–Pacific International Exposition nine years later. In World War II, it was a major port of embarkation for naval service members shipping out to the Pacific Theater. After the war, the confluence of returning servicemen, significant immigration, liberalizing attitudes, the rise of the beatnik and hippie countercultures, the sexual revolution, opposition to U.S. involvement in the Vietnam War, and other factors led to the Summer of Love and the gay rights movement, cementing San Francisco as a center of liberal activism.\n",
      "San Francisco and the surrounding San Francisco Bay Area are a global center of economic activity and the arts and sciences, spurred by leading universities, high-tech, healthcare, finance, insurance, real estate, and professional services sectors. As of 2020, the metropolitan area, with 4.5 million residents, ranked 5th by GDP ($874 billion) and 2nd by GDP per capita ($131,082) across the OECD countries. In 2023, San Francisco proper had a GDP of $263.1 billion and a GDP per capita of $325,000. Despite an accelerating exodus of businesses from the downtown area of San Francisco, the city is still home to numerous companies inside and outside of technology, including Salesforce, Uber, Airbnb, OpenAI, Levi's, Gap, Dropbox, and Lyft.\n",
      "In 2022, San Francisco had more than 1.7 million international visitors and approximately 20 million domestic ones. It is known for its steep rolling hills and eclectic mix of architecture across varied neighborhoods; its Chinatown and Mission districts; mild climate; and landmarks including the Golden Gate Bridge, cable cars, and Alcatraz. The city is home to educational and cultural institutions such as the University of California, San Francisco, the University of San Francisco, San Francisco State University, the San Francisco Conservatory of Music, the Legion of Honor (museum), the de Young Museum, the San Francisco Museum of Modern Art, the San Francisco Symphony, the San Francisco Ballet, the San Francisco Opera, the SFJAZZ Center, and the California Academy of Sciences. Two major league sports teams, the San Francisco Giants and the Golden State Warriors, play their home games within San Francisco proper. San Francisco International Airport (SFO) offers flights to over 125 destinations, while a light rail and bus network, in tandem with the BART and Caltrain systems, connects nearly every part of San Francisco with the wider region.\n"
     ]
    }
   ],
   "source": [
    "print(retrieved_nodes[0].node.get_text())"
   ]
  },
  {
   "cell_type": "code",
   "execution_count": 21,
   "metadata": {},
   "outputs": [
    {
     "name": "stdout",
     "output_type": "stream",
     "text": [
      "The sports teams in San Francisco include Major League Baseball's San Francisco Giants, the National Football League's San Francisco 49ers, and the National Basketball Association's Golden State Warriors.\n"
     ]
    }
   ],
   "source": [
    "# use retriever as part of a query engine\n",
    "from llama_index.core.query_engine import RetrieverQueryEngine\n",
    "\n",
    "# configure response synthesizer\n",
    "response_synthesizer = get_response_synthesizer(response_mode=\"tree_summarize\")\n",
    "\n",
    "# assemble query engine\n",
    "query_engine = RetrieverQueryEngine(\n",
    "    retriever=embedding_retriever,\n",
    "    response_synthesizer=response_synthesizer,\n",
    ")\n",
    "\n",
    "# query\n",
    "response = query_engine.query(\"What are the sports teams in San Francisco?\")\n",
    "print(response)"
   ]
  }
 ],
 "metadata": {
  "kernelspec": {
   "display_name": ".venv",
   "language": "python",
   "name": "python3"
  },
  "language_info": {
   "codemirror_mode": {
    "name": "ipython",
    "version": 3
   },
   "file_extension": ".py",
   "mimetype": "text/x-python",
   "name": "python",
   "nbconvert_exporter": "python",
   "pygments_lexer": "ipython3",
   "version": "3.11.9"
  }
 },
 "nbformat": 4,
 "nbformat_minor": 2
}
