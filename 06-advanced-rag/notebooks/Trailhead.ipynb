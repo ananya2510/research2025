{
 "cells": [
  {
   "cell_type": "markdown",
   "metadata": {},
   "source": [
    "# Trailhead\n"
   ]
  },
  {
   "cell_type": "code",
   "execution_count": 1,
   "metadata": {},
   "outputs": [],
   "source": [
    "from dotenv import load_dotenv, find_dotenv\n",
    "\n",
    "load_dotenv(find_dotenv())\n",
    "import nest_asyncio\n",
    "nest_asyncio.apply()\n",
    "from loguru import logger"
   ]
  },
  {
   "cell_type": "code",
   "execution_count": 2,
   "metadata": {},
   "outputs": [
    {
     "data": {
      "text/plain": [
       "(54, 'PM4CDFLF-s', 75, 'https://94', 6333, int)"
      ]
     },
     "execution_count": 2,
     "metadata": {},
     "output_type": "execute_result"
    }
   ],
   "source": [
    "import os\n",
    "\n",
    "QDRANT_API_KEY = os.environ.get(\"QDRANT_API_KEY\", \"\")\n",
    "QDRANT_HOSTED_URL = os.environ.get(\"QDRANT_HOSTED_URL\", \"\")\n",
    "QDRANT_PORT = os.environ.get(\"QDRANT_PORT\", 6333)\n",
    "\n",
    "len(QDRANT_API_KEY), QDRANT_API_KEY[:10], len(QDRANT_HOSTED_URL), QDRANT_HOSTED_URL[:10], QDRANT_PORT, type(QDRANT_PORT)"
   ]
  },
  {
   "cell_type": "code",
   "execution_count": 3,
   "metadata": {},
   "outputs": [],
   "source": [
    "from llama_index.llms.openai import OpenAI\n",
    "from llama_index.embeddings.openai import OpenAIEmbedding\n",
    "\n",
    "llm = OpenAI(\n",
    "    model=\"gpt-4o\",\n",
    ")\n",
    "embedding_model = OpenAIEmbedding(\n",
    "    model=\"text-embedding-3-large\",\n",
    ")"
   ]
  },
  {
   "cell_type": "code",
   "execution_count": 4,
   "metadata": {},
   "outputs": [],
   "source": [
    "from llama_index.core import VectorStoreIndex\n",
    "from llama_index.core.chat_engine.types import ChatMode\n",
    "from llama_index.core.vector_stores.types import VectorStoreQueryMode\n",
    "from llama_index.vector_stores.qdrant import QdrantVectorStore\n",
    "import qdrant_client\n",
    "\n",
    "COLLECTION_NAME = \"trailhead\"\n",
    "q_client= qdrant_client.QdrantClient(\n",
    "    url=QDRANT_HOSTED_URL, \n",
    "    port=QDRANT_PORT, \n",
    "    api_key=QDRANT_API_KEY\n",
    ")"
   ]
  },
  {
   "cell_type": "code",
   "execution_count": 5,
   "metadata": {},
   "outputs": [],
   "source": [
    "trailhead_vector_store = QdrantVectorStore(\n",
    "    collection_name=COLLECTION_NAME,\n",
    "    client=q_client,\n",
    "    prefer_grpc=True,\n",
    "    parallel=8,\n",
    "    enable_hybrid=False\n",
    ")\n",
    "\n",
    "trailhead_index = VectorStoreIndex.from_vector_store(\n",
    "    vector_store=trailhead_vector_store,\n",
    "    embed_model=embedding_model,\n",
    "    show_progress=True\n",
    ")"
   ]
  },
  {
   "cell_type": "code",
   "execution_count": 6,
   "metadata": {},
   "outputs": [
    {
     "data": {
      "text/plain": [
       "True"
      ]
     },
     "execution_count": 6,
     "metadata": {},
     "output_type": "execute_result"
    }
   ],
   "source": [
    "trailhead_vector_store._collection_exists(COLLECTION_NAME)"
   ]
  },
  {
   "cell_type": "code",
   "execution_count": 7,
   "metadata": {},
   "outputs": [],
   "source": [
    "trailhead_retriever = trailhead_index.as_retriever(\n",
    "    similarity_top_k=8,\n",
    "    vector_store_query_mode=VectorStoreQueryMode.MMR,\n",
    "    vector_store_kwargs={\n",
    "        \"mmr_prefetch_k\": 16,\n",
    "    },\n",
    ")"
   ]
  },
  {
   "cell_type": "code",
   "execution_count": 8,
   "metadata": {},
   "outputs": [
    {
     "data": {
      "text/plain": [
       "8"
      ]
     },
     "execution_count": 8,
     "metadata": {},
     "output_type": "execute_result"
    }
   ],
   "source": [
    "nodes = trailhead_retriever.retrieve(\"What AI products are there for advertisers?\")\n",
    "len(nodes)"
   ]
  },
  {
   "cell_type": "code",
   "execution_count": 9,
   "metadata": {},
   "outputs": [],
   "source": [
    "from llama_index.core.response_synthesizers import get_response_synthesizer, ResponseMode\n",
    "trailhead_engine = trailhead_index.as_chat_engine(\n",
    "    chat_mode=ChatMode.BEST,\n",
    "    llm=llm,\n",
    "    similarity_top_k=8,\n",
    "    vector_store_query_mode=VectorStoreQueryMode.MMR,\n",
    "    vector_store_kwargs={\n",
    "        \"mmr_prefetch_k\": 16,\n",
    "    },\n",
    "    response_synthesizer=get_response_synthesizer(\n",
    "        response_mode=ResponseMode.TREE_SUMMARIZE,\n",
    "    )\n",
    ")"
   ]
  },
  {
   "cell_type": "code",
   "execution_count": 23,
   "metadata": {},
   "outputs": [
    {
     "data": {
      "text/plain": [
       "(llama_index.core.chat_engine.types.AgentChatResponse,\n",
       " {'response': \"Batch Apex in Salesforce is ideal for scenarios where you need to process large volumes of data asynchronously. Here are some common use cases:\\n\\n1. **Data Cleansing**: Cleaning and updating large datasets to ensure data quality and consistency.\\n\\n2. **Data Migration**: Moving large amounts of data from one system to another, or within Salesforce, without hitting governor limits.\\n\\n3. **Complex Calculations**: Performing calculations on large datasets that would otherwise exceed normal processing limits.\\n\\n4. **Scheduled Jobs**: Running regular maintenance tasks or updates on large datasets at scheduled intervals.\\n\\n5. **Data Archiving**: Archiving old records to maintain system performance while keeping historical data accessible.\\n\\nBatch Apex is particularly useful because it processes data in smaller chunks, helping to manage and optimize resource usage while adhering to Salesforce's governor limits.\",\n",
       "  'sources': [],\n",
       "  'source_nodes': [],\n",
       "  'is_dummy_stream': False,\n",
       "  'metadata': None})"
      ]
     },
     "execution_count": 23,
     "metadata": {},
     "output_type": "execute_result"
    }
   ],
   "source": [
    "response = trailhead_engine.chat(\"Where should I be using batch Apex?\")\n",
    "type(response), vars(response)"
   ]
  },
  {
   "cell_type": "code",
   "execution_count": 24,
   "metadata": {},
   "outputs": [],
   "source": [
    "from IPython.display import Markdown, display"
   ]
  },
  {
   "cell_type": "code",
   "execution_count": 25,
   "metadata": {},
   "outputs": [
    {
     "data": {
      "text/markdown": [
       "Batch Apex in Salesforce is ideal for scenarios where you need to process large volumes of data asynchronously. Here are some common use cases:\n",
       "\n",
       "1. **Data Cleansing**: Cleaning and updating large datasets to ensure data quality and consistency.\n",
       "\n",
       "2. **Data Migration**: Moving large amounts of data from one system to another, or within Salesforce, without hitting governor limits.\n",
       "\n",
       "3. **Complex Calculations**: Performing calculations on large datasets that would otherwise exceed normal processing limits.\n",
       "\n",
       "4. **Scheduled Jobs**: Running regular maintenance tasks or updates on large datasets at scheduled intervals.\n",
       "\n",
       "5. **Data Archiving**: Archiving old records to maintain system performance while keeping historical data accessible.\n",
       "\n",
       "Batch Apex is particularly useful because it processes data in smaller chunks, helping to manage and optimize resource usage while adhering to Salesforce's governor limits."
      ],
      "text/plain": [
       "<IPython.core.display.Markdown object>"
      ]
     },
     "metadata": {},
     "output_type": "display_data"
    },
    {
     "data": {
      "text/plain": [
       "(None, '')"
      ]
     },
     "execution_count": 25,
     "metadata": {},
     "output_type": "execute_result"
    }
   ],
   "source": [
    "display(Markdown(response.response)), response.source_nodes[0].score if len(response.source_nodes) > 0 else \"\""
   ]
  },
  {
   "cell_type": "code",
   "execution_count": 22,
   "metadata": {},
   "outputs": [
    {
     "data": {
      "text/markdown": [
       "Future Apex in Salesforce is used for executing operations asynchronously, which allows them to run in the background without blocking the user interface. This is particularly useful for tasks that involve callouts to external systems or operations that are resource-intensive and do not need to be completed immediately.\n",
       "\n",
       "### Concrete Example:\n",
       "\n",
       "**Scenario**: Suppose you have a Salesforce application that needs to update a third-party inventory management system whenever a product's stock level changes in Salesforce. This update involves making an HTTP callout to the external system's API.\n",
       "\n",
       "**Using Future Apex**:\n",
       "- **Problem**: Making a callout to an external system cannot be done in a synchronous transaction in Salesforce because it might take too long and affect the user experience.\n",
       "- **Solution**: Use Future Apex to handle the callout asynchronously.\n",
       "\n",
       "```apex\n",
       "public class InventoryService {\n",
       "    @future(callout=true)\n",
       "    public static void updateInventory(String productId, Integer newStockLevel) {\n",
       "        // Construct the HTTP request\n",
       "        HttpRequest req = new HttpRequest();\n",
       "        req.setEndpoint('https://api.inventorysystem.com/updateStock');\n",
       "        req.setMethod('POST');\n",
       "        req.setHeader('Content-Type', 'application/json');\n",
       "        req.setBody('{\"productId\": \"' + productId + '\", \"stockLevel\": ' + newStockLevel + '}');\n",
       "        \n",
       "        // Send the HTTP request\n",
       "        Http http = new Http();\n",
       "        HttpResponse res = http.send(req);\n",
       "        \n",
       "        // Handle the response from the inventory system\n",
       "        if (res.getStatusCode() == 200) {\n",
       "            // Log success or update Salesforce records if needed\n",
       "        } else {\n",
       "            // Handle errors, possibly logging them for later review\n",
       "        }\n",
       "    }\n",
       "}\n",
       "```\n",
       "\n",
       "**How it Works**:\n",
       "- When a product's stock level changes, the `updateInventory` method is called.\n",
       "- The method is annotated with `@future(callout=true)`, allowing it to run asynchronously and make HTTP callouts.\n",
       "- The callout is made to the external inventory system to update the stock level.\n",
       "- The user can continue interacting with the Salesforce application without waiting for the callout to complete.\n",
       "\n",
       "This approach ensures that the integration with the external system does not disrupt the user experience and adheres to Salesforce's governor limits."
      ],
      "text/plain": [
       "<IPython.core.display.Markdown object>"
      ]
     },
     "metadata": {},
     "output_type": "display_data"
    },
    {
     "data": {
      "text/plain": [
       "(None, 0)"
      ]
     },
     "execution_count": 22,
     "metadata": {},
     "output_type": "execute_result"
    }
   ],
   "source": [
    "\n",
    "response = trailhead_engine.chat(\"What is Future Apex used for?  Please give a concrete example.\")\n",
    "display(Markdown(response.response)), len(response.source_nodes)"
   ]
  },
  {
   "cell_type": "markdown",
   "metadata": {},
   "source": [
    "## Sentence Window Node Parsing\n",
    "\n",
    "We use the `SentenceWindowNodeParser` to parse documents into single sentences per node. Each node also contains a \"window\" with the sentences on either side of the node sentence.\n",
    "\n",
    "Then, after retrieval, before passing the retrieved sentences to the LLM, the single sentences are replaced with a window containing the surrounding sentences using the `MetadataReplacementNodePostProcessor`.\n",
    "\n",
    "This is most useful for large documents/indexes, as it helps to retrieve more fine-grained details.\n",
    "\n",
    "By default, the sentence window is 5 sentences on either side of the original sentence.\n",
    "\n",
    "In this case, chunk size settings are not used, in favor of following the window settings.\n"
   ]
  },
  {
   "cell_type": "code",
   "execution_count": 27,
   "metadata": {},
   "outputs": [],
   "source": [
    "from llama_index.core.node_parser import SentenceWindowNodeParser\n",
    "from llama_index.core.node_parser import SentenceSplitter\n",
    "\n",
    "node_parser = SentenceWindowNodeParser.from_defaults(\n",
    "    window_size=3,\n",
    "    window_metadata_key=\"window\",\n",
    "    original_text_metadata_key=\"original_text\",\n",
    ")\n",
    "\n",
    "node_parser = SentenceSplitter.from_defaults(\n",
    "    chunk_size=512,\n",
    "    chunk_overlap=32,\n",
    ")"
   ]
  },
  {
   "cell_type": "code",
   "execution_count": 29,
   "metadata": {},
   "outputs": [],
   "source": [
    "from llama_index.core import Settings\n",
    "\n",
    "Settings.llm = llm\n",
    "Settings.embed_model = embedding_model\n",
    "Settings.text_splitter = node_parser\n",
    "Settings.node_parser = node_parser"
   ]
  },
  {
   "cell_type": "code",
   "execution_count": 35,
   "metadata": {},
   "outputs": [],
   "source": [
    "from llama_index.core.postprocessor import MetadataReplacementPostProcessor\n",
    "\n",
    "wider_query_engine = trailhead_index.as_query_engine(\n",
    "    similarity_top_k=8,\n",
    "    vector_store_query_mode=VectorStoreQueryMode.MMR,\n",
    "    vector_store_kwargs={\n",
    "        \"mmr_prefetch_k\": 16,\n",
    "    },\n",
    "    node_postprocessors=MetadataReplacementPostProcessor(\n",
    "        target_metadata_key=\"window\"\n",
    "    ),\n",
    ")\n"
   ]
  },
  {
   "cell_type": "code",
   "execution_count": 37,
   "metadata": {},
   "outputs": [
    {
     "data": {
      "text/markdown": [
       "Future Apex is used to run processes asynchronously in Salesforce, allowing for operations that can be executed at a later time when system resources are available. This is particularly useful for long-running operations or when you need to call an external web service without holding up the main execution thread.\n",
       "\n",
       "A concrete example of using Future Apex could be updating a large number of records in Salesforce. Instead of updating all records synchronously, which could hit governor limits, you can use a Future method to perform the updates asynchronously. This way, the updates are processed in the background, freeing up the main thread to continue executing other operations."
      ],
      "text/plain": [
       "<IPython.core.display.Markdown object>"
      ]
     },
     "metadata": {},
     "output_type": "display_data"
    },
    {
     "data": {
      "text/plain": [
       "(None, 8)"
      ]
     },
     "execution_count": 37,
     "metadata": {},
     "output_type": "execute_result"
    }
   ],
   "source": [
    "response = wider_query_engine.query(\"What is Future Apex used for?  Please give a concrete example.\")\n",
    "display(Markdown(response.response)), len(response.source_nodes)\n"
   ]
  },
  {
   "cell_type": "markdown",
   "metadata": {},
   "source": [
    "Let's check the original sentence that was retrieved for each node, as well as the actual window of sentences that was sent to the LLM.\n"
   ]
  },
  {
   "cell_type": "code",
   "execution_count": 38,
   "metadata": {},
   "outputs": [
    {
     "data": {
      "text/plain": [
       "{'file_path': '/var/folders/9v/753h998178382xkzg96v6mwr0000gn/T/tmpizt689yk.zip',\n",
       " 'file_name': 'tmpizt689yk.zip',\n",
       " 'file_type': 'application/zip',\n",
       " 'file_size': 2098792,\n",
       " 'creation_date': '2025-03-22',\n",
       " 'last_modified_date': '2025-03-22',\n",
       " 'questions_this_excerpt_can_answer': '1. What is the file path of the temporary zip file mentioned in the context?\\n2. What is the name of the directory within the zip file that contains the file `async_apex.md`?\\n3. What is the specific file path for the `debugging_diagnostics.md` file within the zip archive?\\n4. What is the content or purpose of the file `async_apex.md` as indicated by its location in the directory structure?\\n5. What metadata or additional information is provided about the `async_apex.md` file in the context?',\n",
       " 'document_title': '\"Comprehensive Guide to Advanced Technologies: Salesforce, AWS, AI, Automation, Cybersecurity, and Nonprofit Cloud Management\"',\n",
       " 'excerpt_keywords': 'Salesforce, AWS, AI, Automation, Cybersecurity'}"
      ]
     },
     "execution_count": 38,
     "metadata": {},
     "output_type": "execute_result"
    }
   ],
   "source": [
    "window = response.source_nodes[0].node.metadata\n",
    "window\n"
   ]
  },
  {
   "cell_type": "code",
   "execution_count": null,
   "metadata": {},
   "outputs": [],
   "source": [
    "original_text = response.source_nodes[0].node.metadata[\"original_text\"]\n",
    "\n",
    "display(Markdown(f\"**Original Sentence:**\\n{original_text}\"))\n",
    "display(Markdown(f\"**Window:**\\n{window}\"))"
   ]
  }
 ],
 "metadata": {
  "kernelspec": {
   "display_name": ".venv",
   "language": "python",
   "name": "python3"
  },
  "language_info": {
   "codemirror_mode": {
    "name": "ipython",
    "version": 3
   },
   "file_extension": ".py",
   "mimetype": "text/x-python",
   "name": "python",
   "nbconvert_exporter": "python",
   "pygments_lexer": "ipython3",
   "version": "3.11.9"
  }
 },
 "nbformat": 4,
 "nbformat_minor": 2
}
