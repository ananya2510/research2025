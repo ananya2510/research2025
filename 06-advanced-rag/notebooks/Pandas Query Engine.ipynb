{
 "cells": [
  {
   "cell_type": "markdown",
   "metadata": {},
   "source": [
    "# Recursive Retriever\n"
   ]
  },
  {
   "cell_type": "code",
   "execution_count": 1,
   "metadata": {},
   "outputs": [],
   "source": [
    "from dotenv import load_dotenv, find_dotenv\n",
    "\n",
    "load_dotenv(find_dotenv())\n",
    "import nest_asyncio\n",
    "nest_asyncio.apply()"
   ]
  },
  {
   "cell_type": "code",
   "execution_count": 2,
   "metadata": {},
   "outputs": [],
   "source": [
    "from llama_index.core import VectorStoreIndex\n",
    "from llama_index.core.schema import IndexNode\n",
    "from llama_index.llms.openai import OpenAI\n",
    "\n",
    "from llama_index.readers.file import PyMuPDFReader\n",
    "from typing import List\n",
    "\n",
    "file_path = \"../data/paper/stanford-cynicism.pdf\""
   ]
  },
  {
   "cell_type": "markdown",
   "metadata": {},
   "source": [
    "## Extracting PDFs and Tables\n"
   ]
  },
  {
   "cell_type": "markdown",
   "metadata": {},
   "source": [
    "Here is a great [doc](https://unstract.com/blog/extract-tables-from-pdf-python/) for comparing different table extraction techniques.\n",
    "\n",
    "For PDFPlumber, here is reference for [table extraction](https://github.com/jsvine/pdfplumber?tab=readme-ov-file#extracting-tables)\n"
   ]
  },
  {
   "cell_type": "code",
   "execution_count": 3,
   "metadata": {},
   "outputs": [
    {
     "name": "stdout",
     "output_type": "stream",
     "text": [
      "/Users/pmui/SynologyDrive/research/2025/research2025/06-advanced-rag/notebooks\n"
     ]
    },
    {
     "data": {
      "text/plain": [
       "True"
      ]
     },
     "execution_count": 3,
     "metadata": {},
     "output_type": "execute_result"
    }
   ],
   "source": [
    "from pathlib import Path\n",
    "\n",
    "print(Path().cwd())\n",
    "Path(\"../data/paper/stanford-cynicism.pdf\").exists()"
   ]
  },
  {
   "cell_type": "code",
   "execution_count": 4,
   "metadata": {},
   "outputs": [
    {
     "data": {
      "text/plain": [
       "1"
      ]
     },
     "execution_count": 4,
     "metadata": {},
     "output_type": "execute_result"
    }
   ],
   "source": [
    "import pdfplumber\n",
    "\n",
    "tables = []\n",
    "with pdfplumber.open(file_path) as pdf:\n",
    "    for page in pdf.pages:\n",
    "        table = page.extract_table(\n",
    "            table_settings={\n",
    "                \"horizontal_strategy\": \"lines_strict\",\n",
    "                \"vertical_strategy\": \"lines_strict\",\n",
    "                \"intersection_tolerance\": 10,\n",
    "            }\n",
    "        )\n",
    "        if table:\n",
    "            tables.append(table)\n",
    "\n",
    "len(tables)"
   ]
  },
  {
   "cell_type": "code",
   "execution_count": 5,
   "metadata": {},
   "outputs": [
    {
     "data": {
      "text/plain": [
       "[['Year', '# Opinion Articles'],\n",
       " ['2010', '506'],\n",
       " ['2011', '482'],\n",
       " ['2012', '457'],\n",
       " ['2013', '340'],\n",
       " ['2014', '455'],\n",
       " ['2015', '447'],\n",
       " ['2016', '408'],\n",
       " ['2017', '427'],\n",
       " ['2018', '367'],\n",
       " ['2019', '328'],\n",
       " ['2020', '379'],\n",
       " ['2021', '187'],\n",
       " ['2022', '132'],\n",
       " ['2023', '106'],\n",
       " ['2024', '92']]"
      ]
     },
     "metadata": {},
     "output_type": "display_data"
    }
   ],
   "source": [
    "from IPython.display import display, HTML\n",
    "display(tables[0])"
   ]
  },
  {
   "cell_type": "code",
   "execution_count": 6,
   "metadata": {},
   "outputs": [],
   "source": [
    "import pandas as pd\n",
    "\n",
    "def process_table(table):\n",
    "    if not table or len(table) == 0:\n",
    "        return None\n",
    "    \n",
    "    # Convert to DataFrame first without headers\n",
    "    df = pd.DataFrame(table)\n",
    "    \n",
    "    # Check if first row looks like headers\n",
    "    first_row = df.iloc[0]\n",
    "    \n",
    "    # Heuristics to detect if first row is header:\n",
    "    # 1. Check if first row is different data type than rest\n",
    "    # 2. Check if first row has string-like values\n",
    "    # 3. Check if first row doesn't contain numeric values\n",
    "    is_header = all(isinstance(val, str) and not str(val).replace('.','').isdigit() \n",
    "                   for val in first_row if val is not None)\n",
    "    \n",
    "    if is_header:\n",
    "        # Use first row as headers, drop the row, and reset index\n",
    "        headers = [str(col).strip() for col in df.iloc[0]]\n",
    "        df = df[1:]  # Remove the header row\n",
    "        df.columns = headers\n",
    "    else:\n",
    "        # If no header, use default column names\n",
    "        df.columns = [f'Column_{i+1}' for i in range(len(df.columns))]\n",
    "    \n",
    "    # Reset index after modifications\n",
    "    df = df.reset_index(drop=True)\n",
    "    \n",
    "    # Clean up any None or empty string values\n",
    "    df = df.replace(['', 'None', None], pd.NA)\n",
    "    \n",
    "    return df"
   ]
  },
  {
   "cell_type": "code",
   "execution_count": 35,
   "metadata": {},
   "outputs": [
    {
     "name": "stdout",
     "output_type": "stream",
     "text": [
      "[    Year # Opinion Articles\n",
      "0   2010                506\n",
      "1   2011                482\n",
      "2   2012                457\n",
      "3   2013                340\n",
      "4   2014                455\n",
      "5   2015                447\n",
      "6   2016                408\n",
      "7   2017                427\n",
      "8   2018                367\n",
      "9   2019                328\n",
      "10  2020                379\n",
      "11  2021                187\n",
      "12  2022                132\n",
      "13  2023                106\n",
      "14  2024                 92]\n"
     ]
    }
   ],
   "source": [
    "import pandas as pd\n",
    "# Process all tables\n",
    "table_dfs = []\n",
    "for i, table in enumerate(tables):\n",
    "    df = process_table(table)\n",
    "    if df is not None:\n",
    "        table_dfs.append(df)\n",
    "        \n",
    "print(table_dfs)"
   ]
  },
  {
   "cell_type": "markdown",
   "metadata": {},
   "source": [
    "## Pandas Query Engines\n"
   ]
  },
  {
   "cell_type": "code",
   "execution_count": 47,
   "metadata": {},
   "outputs": [
    {
     "data": {
      "text/plain": [
       "Index(['Year', '# Opinion Articles'], dtype='object')"
      ]
     },
     "execution_count": 47,
     "metadata": {},
     "output_type": "execute_result"
    }
   ],
   "source": [
    "df.columns"
   ]
  },
  {
   "cell_type": "code",
   "execution_count": 51,
   "metadata": {},
   "outputs": [
    {
     "data": {
      "text/plain": [
       "1"
      ]
     },
     "execution_count": 51,
     "metadata": {},
     "output_type": "execute_result"
    }
   ],
   "source": [
    "from llama_index.experimental.query_engine import PandasQueryEngine\n",
    "llm = OpenAI(model=\"gpt-4o\")\n",
    "\n",
    "df_query_engines = [\n",
    "    PandasQueryEngine(\n",
    "        df, llm=llm, verbose=True,\n",
    "    ) for df in table_dfs\n",
    "]\n",
    "len(df_query_engines)"
   ]
  },
  {
   "cell_type": "code",
   "execution_count": 54,
   "metadata": {},
   "outputs": [
    {
     "name": "stdout",
     "output_type": "stream",
     "text": [
      "INFO:httpx:HTTP Request: POST https://api.openai.com/v1/chat/completions \"HTTP/1.1 200 OK\"\n",
      "HTTP Request: POST https://api.openai.com/v1/chat/completions \"HTTP/1.1 200 OK\"\n",
      "> Pandas Instructions:\n",
      "```\n",
      "df[df['Year'] == '2011']['# Opinion Articles'].sum()\n",
      "```\n",
      "> Pandas Output: 482\n"
     ]
    },
    {
     "data": {
      "text/plain": [
       "'482'"
      ]
     },
     "execution_count": 54,
     "metadata": {},
     "output_type": "execute_result"
    }
   ],
   "source": [
    "response = df_query_engines[0].query(\"How many articles do you have in '2011' of type string?\")\n",
    "response.response"
   ]
  },
  {
   "cell_type": "code",
   "execution_count": 55,
   "metadata": {},
   "outputs": [
    {
     "data": {
      "text/plain": [
       "0     506\n",
       "1     482\n",
       "2     457\n",
       "3     340\n",
       "4     455\n",
       "5     447\n",
       "6     408\n",
       "7     427\n",
       "8     367\n",
       "9     328\n",
       "10    379\n",
       "11    187\n",
       "12    132\n",
       "13    106\n",
       "14     92\n",
       "Name: # Opinion Articles, dtype: object"
      ]
     },
     "execution_count": 55,
     "metadata": {},
     "output_type": "execute_result"
    }
   ],
   "source": [
    "df['# Opinion Articles']"
   ]
  }
 ],
 "metadata": {
  "kernelspec": {
   "display_name": ".venv",
   "language": "python",
   "name": "python3"
  },
  "language_info": {
   "codemirror_mode": {
    "name": "ipython",
    "version": 3
   },
   "file_extension": ".py",
   "mimetype": "text/x-python",
   "name": "python",
   "nbconvert_exporter": "python",
   "pygments_lexer": "ipython3",
   "version": "3.11.9"
  }
 },
 "nbformat": 4,
 "nbformat_minor": 2
}
