{
 "cells": [
  {
   "cell_type": "markdown",
   "metadata": {},
   "source": [
    "# Vector Store Notebook\n"
   ]
  },
  {
   "cell_type": "code",
   "execution_count": 1,
   "metadata": {},
   "outputs": [
    {
     "name": "stderr",
     "output_type": "stream",
     "text": [
      "\u001b[32m2025-03-29 16:49:44.904\u001b[0m | \u001b[1mINFO    \u001b[0m | \u001b[36m__main__\u001b[0m:\u001b[36m<module>\u001b[0m:\u001b[36m7\u001b[0m - \u001b[1mStarting Vector Store Notebook\u001b[0m\n"
     ]
    }
   ],
   "source": [
    "import os\n",
    "import logging\n",
    "from logging import warnings\n",
    "from loguru import logger\n",
    "\n",
    "logger.add(\"logs/vector_store.log\")\n",
    "logger.info(\"Starting Vector Store Notebook\")\n",
    "\n",
    "from dotenv import load_dotenv, find_dotenv\n",
    "import nest_asyncio\n",
    "nest_asyncio.apply()\n",
    "load_dotenv(find_dotenv())\n",
    "\n",
    "warnings.filterwarnings('ignore')\n",
    "logging.getLogger().setLevel(logging.ERROR)"
   ]
  },
  {
   "cell_type": "code",
   "execution_count": 2,
   "metadata": {},
   "outputs": [],
   "source": [
    "from llama_index.core import VectorStoreIndex, SimpleDirectoryReader\n",
    "from llama_index.core import StorageContext\n",
    "from IPython.display import Markdown, display\n",
    "\n",
    "from llama_index.vector_stores.qdrant import QdrantVectorStore\n",
    "import qdrant_client"
   ]
  },
  {
   "cell_type": "code",
   "execution_count": 3,
   "metadata": {},
   "outputs": [],
   "source": [
    "QDRANT_HOSTED_URL = os.getenv(\"QDRANT_HOSTED_URL\")\n",
    "QDRANT_API_KEY = os.getenv(\"QDRANT_API_KEY\")\n",
    "client = qdrant_client.QdrantClient(\n",
    "    QDRANT_HOSTED_URL,\n",
    "    api_key=QDRANT_API_KEY,\n",
    ")"
   ]
  },
  {
   "cell_type": "code",
   "execution_count": 4,
   "metadata": {},
   "outputs": [],
   "source": [
    "from pathlib import Path\n",
    "\n",
    "notebook_dir = Path().absolute()\n",
    "file_path = str(notebook_dir / \"..\" / \"data\" / \"paper\" / \"stanford-cynicism.pdf\")\n",
    "\n",
    "documents = SimpleDirectoryReader(input_files=[file_path]).load_data()"
   ]
  },
  {
   "cell_type": "code",
   "execution_count": 5,
   "metadata": {},
   "outputs": [
    {
     "data": {
      "text/plain": [
       "11"
      ]
     },
     "execution_count": 5,
     "metadata": {},
     "output_type": "execute_result"
    }
   ],
   "source": [
    "len(documents)"
   ]
  },
  {
   "cell_type": "code",
   "execution_count": 6,
   "metadata": {},
   "outputs": [
    {
     "name": "stdout",
     "output_type": "stream",
     "text": [
      "Inserting document  Semantic Analysis of Diversity Rhetoric and \n",
      " Ide\n",
      "Inserting document  This study focuses specifically on opinion pieces\n",
      "Inserting document  text-embedding-3-large  model.  In this embedding\n",
      "Inserting document  MFT posits that moral judgments are often rooted \n",
      "Inserting document  per year, the regression line (first graph on the\n",
      "Inserting document  while the linguistic markers of diversity prolife\n",
      "Inserting document  class  MFTAnalysis  (BaseModel): \n",
      " authority_subv\n",
      "Inserting document  Let’s look at observations in  Figure 3  . \n",
      " The \n",
      "Inserting document  Discussion \n",
      " Figure 3  shows that measures of cyn\n",
      "Inserting document  ●  If students feel like only certain viewpoints \n",
      "Inserting document  Haidt, J.  The Righteous Mind: Why Good People ar\n"
     ]
    }
   ],
   "source": [
    "vector_store = QdrantVectorStore(\n",
    "    client=client, \n",
    "    collection_name=\"stanford\",\n",
    ")\n",
    "index = VectorStoreIndex.from_vector_store(\n",
    "    vector_store=vector_store\n",
    ")\n",
    "\n",
    "for doc in documents:\n",
    "    print(f\"Inserting document {doc.text[:50]}\")\n",
    "    index.insert(doc)"
   ]
  },
  {
   "cell_type": "code",
   "execution_count": 7,
   "metadata": {},
   "outputs": [],
   "source": [
    "plain_query_engine = index.as_query_engine()"
   ]
  },
  {
   "cell_type": "code",
   "execution_count": 8,
   "metadata": {},
   "outputs": [
    {
     "name": "stdout",
     "output_type": "stream",
     "text": [
      "The main idea of the paper is to highlight the importance of promoting genuine inclusion and diverse perspectives in educational institutions to combat rising cynicism among students. The paper emphasizes the need for schools to go beyond superficial diversity efforts and ensure that different viewpoints are truly welcomed to maintain an open and trusting intellectual environment. It suggests strategies such as encouraging open debate, promoting transparency in campus media, and reevaluating diversity policies to address the underlying cynicism and foster a more inclusive atmosphere in higher education.\n"
     ]
    }
   ],
   "source": [
    "response = plain_query_engine.query(\"What is the main idea of the paper?\")\n",
    "print(response)"
   ]
  },
  {
   "cell_type": "markdown",
   "metadata": {},
   "source": [
    "## Which RAG is better?\n"
   ]
  },
  {
   "cell_type": "code",
   "execution_count": 9,
   "metadata": {},
   "outputs": [],
   "source": [
    "from llama_index.llms.openai import OpenAI\n",
    "from llama_index.embeddings.openai import OpenAIEmbedding\n",
    "\n",
    "llm = OpenAI(model=\"gpt-4o-mini\", temperature=0.01)\n",
    "embedding = OpenAIEmbedding(model=\"text-embedding-3-small\")"
   ]
  },
  {
   "cell_type": "code",
   "execution_count": 10,
   "metadata": {},
   "outputs": [
    {
     "name": "stdout",
     "output_type": "stream",
     "text": [
      "The main idea of the paper is to analyze the growing cynicism among students, particularly at Stanford University, by studying the narrowing range of topics discussed in the opinion sections of the Stanford Daily over a 15-year period. The study aims to understand how cynical rhetoric has evolved and how discrepancies between the rhetoric of diversity and the actual space for diverse ideas may contribute to the development of cynical attitudes. The paper also suggests potential strategies for fostering more inclusive conversations and reducing cynicism within academic communities.\n"
     ]
    }
   ],
   "source": [
    "from llama_index.core.chat_engine.types import ChatMode\n",
    "from llama_index.core.vector_stores.types import VectorStoreQueryMode\n",
    "from llama_index.core.response_synthesizers import get_response_synthesizer, ResponseMode\n",
    "\n",
    "more_query_engine = index.as_query_engine(\n",
    "    llm=llm,\n",
    "    similarity_top_k=8,\n",
    "    vector_store_query_mode=VectorStoreQueryMode.MMR,\n",
    "    vector_store_kwargs={\n",
    "        \"mmr_prefetch_k\": 16,\n",
    "    },\n",
    "    response_synthesizer=get_response_synthesizer(\n",
    "        response_mode=ResponseMode.TREE_SUMMARIZE,\n",
    "    ))\n",
    "response = more_query_engine.query(\"What is the main idea of the paper?\")\n",
    "print(response)"
   ]
  },
  {
   "cell_type": "markdown",
   "metadata": {},
   "source": [
    "## Synthetic Data Generation (SDG)\n"
   ]
  },
  {
   "cell_type": "code",
   "execution_count": 11,
   "metadata": {},
   "outputs": [],
   "source": [
    "from dotenv import load_dotenv, find_dotenv\n",
    "\n",
    "load_dotenv(find_dotenv())\n",
    "\n",
    "from ragas.testset import TestsetGenerator\n",
    "from ragas.llms import LlamaIndexLLMWrapper\n",
    "from ragas.embeddings import LlamaIndexEmbeddingsWrapper\n",
    "\n",
    "from llama_index.llms.openai import OpenAI\n",
    "from llama_index.embeddings.openai import OpenAIEmbedding\n",
    "\n",
    "# generator with openai models\n",
    "generator_llm = OpenAI(model=\"gpt-4o-mini\")\n",
    "embeddings = OpenAIEmbedding(model=\"text-embedding-3-small\")\n",
    "\n",
    "generator = TestsetGenerator.from_llama_index(\n",
    "    llm=generator_llm,\n",
    "    embedding_model=embeddings,\n",
    ")"
   ]
  },
  {
   "cell_type": "code",
   "execution_count": 12,
   "metadata": {},
   "outputs": [
    {
     "data": {
      "text/plain": [
       "5"
      ]
     },
     "execution_count": 12,
     "metadata": {},
     "output_type": "execute_result"
    }
   ],
   "source": [
    "from pathlib import Path\n",
    "\n",
    "notebook_dir = Path().absolute()\n",
    "cities_path = str(notebook_dir / \"..\" / \"data\" / \"cities\")\n",
    "\n",
    "documents = SimpleDirectoryReader(cities_path).load_data()\n",
    "len(documents)"
   ]
  },
  {
   "cell_type": "code",
   "execution_count": 13,
   "metadata": {},
   "outputs": [
    {
     "data": {
      "application/vnd.jupyter.widget-view+json": {
       "model_id": "980216ba27274ba7a04cd9cf56bbe9a8",
       "version_major": 2,
       "version_minor": 0
      },
      "text/plain": [
       "Applying HeadlinesExtractor:   0%|          | 0/5 [00:00<?, ?it/s]"
      ]
     },
     "metadata": {},
     "output_type": "display_data"
    },
    {
     "data": {
      "application/vnd.jupyter.widget-view+json": {
       "model_id": "d666720c4587435fb42fbfb0511861ea",
       "version_major": 2,
       "version_minor": 0
      },
      "text/plain": [
       "Applying HeadlineSplitter:   0%|          | 0/5 [00:00<?, ?it/s]"
      ]
     },
     "metadata": {},
     "output_type": "display_data"
    },
    {
     "data": {
      "application/vnd.jupyter.widget-view+json": {
       "model_id": "0f50abe3cfc4450fa0f66cf216fb4c8d",
       "version_major": 2,
       "version_minor": 0
      },
      "text/plain": [
       "Applying SummaryExtractor:   0%|          | 0/5 [00:00<?, ?it/s]"
      ]
     },
     "metadata": {},
     "output_type": "display_data"
    },
    {
     "data": {
      "application/vnd.jupyter.widget-view+json": {
       "model_id": "f8ef9755291645a1bca627f04d5a19f0",
       "version_major": 2,
       "version_minor": 0
      },
      "text/plain": [
       "Applying CustomNodeFilter:   0%|          | 0/75 [00:00<?, ?it/s]"
      ]
     },
     "metadata": {},
     "output_type": "display_data"
    },
    {
     "data": {
      "application/vnd.jupyter.widget-view+json": {
       "model_id": "8d600917336440468ff376fce444638f",
       "version_major": 2,
       "version_minor": 0
      },
      "text/plain": [
       "Applying [EmbeddingExtractor, ThemesExtractor, NERExtractor]:   0%|          | 0/145 [00:00<?, ?it/s]"
      ]
     },
     "metadata": {},
     "output_type": "display_data"
    },
    {
     "data": {
      "application/vnd.jupyter.widget-view+json": {
       "model_id": "4c98218a79af402cb6a5d70f3974592b",
       "version_major": 2,
       "version_minor": 0
      },
      "text/plain": [
       "Applying [CosineSimilarityBuilder, OverlapScoreBuilder]:   0%|          | 0/2 [00:00<?, ?it/s]"
      ]
     },
     "metadata": {},
     "output_type": "display_data"
    },
    {
     "data": {
      "application/vnd.jupyter.widget-view+json": {
       "model_id": "1379e5e92acd494f973751b2da58e8e6",
       "version_major": 2,
       "version_minor": 0
      },
      "text/plain": [
       "Generating personas:   0%|          | 0/3 [00:00<?, ?it/s]"
      ]
     },
     "metadata": {},
     "output_type": "display_data"
    },
    {
     "data": {
      "application/vnd.jupyter.widget-view+json": {
       "model_id": "9060cdcb4f074b94b8c2666a1fce0a74",
       "version_major": 2,
       "version_minor": 0
      },
      "text/plain": [
       "Generating Scenarios:   0%|          | 0/2 [00:00<?, ?it/s]"
      ]
     },
     "metadata": {},
     "output_type": "display_data"
    },
    {
     "data": {
      "application/vnd.jupyter.widget-view+json": {
       "model_id": "c0a8e6cb6fb940e28b76ad431650af44",
       "version_major": 2,
       "version_minor": 0
      },
      "text/plain": [
       "Generating Samples:   0%|          | 0/10 [00:00<?, ?it/s]"
      ]
     },
     "metadata": {},
     "output_type": "display_data"
    }
   ],
   "source": [
    "testset = generator.generate_with_llamaindex_docs(\n",
    "    documents,\n",
    "    testset_size=10,\n",
    ")"
   ]
  },
  {
   "cell_type": "code",
   "execution_count": 14,
   "metadata": {},
   "outputs": [
    {
     "data": {
      "text/html": [
       "<div>\n",
       "<style scoped>\n",
       "    .dataframe tbody tr th:only-of-type {\n",
       "        vertical-align: middle;\n",
       "    }\n",
       "\n",
       "    .dataframe tbody tr th {\n",
       "        vertical-align: top;\n",
       "    }\n",
       "\n",
       "    .dataframe thead th {\n",
       "        text-align: right;\n",
       "    }\n",
       "</style>\n",
       "<table border=\"1\" class=\"dataframe\">\n",
       "  <thead>\n",
       "    <tr style=\"text-align: right;\">\n",
       "      <th></th>\n",
       "      <th>user_input</th>\n",
       "      <th>reference_contexts</th>\n",
       "      <th>reference</th>\n",
       "      <th>synthesizer_name</th>\n",
       "    </tr>\n",
       "  </thead>\n",
       "  <tbody>\n",
       "    <tr>\n",
       "      <th>0</th>\n",
       "      <td>What role did the Massachusett people play in ...</td>\n",
       "      <td>[History == === Indigenous era === Prior to Eu...</td>\n",
       "      <td>Before European colonization, the region surro...</td>\n",
       "      <td>single_hop_specifc_query_synthesizer</td>\n",
       "    </tr>\n",
       "    <tr>\n",
       "      <th>1</th>\n",
       "      <td>How did the Napoleonic Wars impact Boston's tr...</td>\n",
       "      <td>[impressed with the effort of Rufus Putnam tha...</td>\n",
       "      <td>The Napoleonic Wars significantly curtailed Bo...</td>\n",
       "      <td>single_hop_specifc_query_synthesizer</td>\n",
       "    </tr>\n",
       "    <tr>\n",
       "      <th>2</th>\n",
       "      <td>What historical significance does Massachusett...</td>\n",
       "      <td>[Boston is the capital and most populous city ...</td>\n",
       "      <td>Massachusetts, and specifically Boston, holds ...</td>\n",
       "      <td>single_hop_specifc_query_synthesizer</td>\n",
       "    </tr>\n",
       "    <tr>\n",
       "      <th>3</th>\n",
       "      <td>How did the acquisition of FleetBoston Financi...</td>\n",
       "      <td>[Boston declined economically as factories bec...</td>\n",
       "      <td>The acquisition of FleetBoston Financial by Ch...</td>\n",
       "      <td>single_hop_specifc_query_synthesizer</td>\n",
       "    </tr>\n",
       "    <tr>\n",
       "      <th>4</th>\n",
       "      <td>What cities are near Everett in relation to Bo...</td>\n",
       "      <td>[Geography == Boston has an area of 89.63 sq m...</td>\n",
       "      <td>Everett is bordered to the northeast by the ci...</td>\n",
       "      <td>single_hop_specifc_query_synthesizer</td>\n",
       "    </tr>\n",
       "  </tbody>\n",
       "</table>\n",
       "</div>"
      ],
      "text/plain": [
       "                                          user_input  \\\n",
       "0  What role did the Massachusett people play in ...   \n",
       "1  How did the Napoleonic Wars impact Boston's tr...   \n",
       "2  What historical significance does Massachusett...   \n",
       "3  How did the acquisition of FleetBoston Financi...   \n",
       "4  What cities are near Everett in relation to Bo...   \n",
       "\n",
       "                                  reference_contexts  \\\n",
       "0  [History == === Indigenous era === Prior to Eu...   \n",
       "1  [impressed with the effort of Rufus Putnam tha...   \n",
       "2  [Boston is the capital and most populous city ...   \n",
       "3  [Boston declined economically as factories bec...   \n",
       "4  [Geography == Boston has an area of 89.63 sq m...   \n",
       "\n",
       "                                           reference  \\\n",
       "0  Before European colonization, the region surro...   \n",
       "1  The Napoleonic Wars significantly curtailed Bo...   \n",
       "2  Massachusetts, and specifically Boston, holds ...   \n",
       "3  The acquisition of FleetBoston Financial by Ch...   \n",
       "4  Everett is bordered to the northeast by the ci...   \n",
       "\n",
       "                       synthesizer_name  \n",
       "0  single_hop_specifc_query_synthesizer  \n",
       "1  single_hop_specifc_query_synthesizer  \n",
       "2  single_hop_specifc_query_synthesizer  \n",
       "3  single_hop_specifc_query_synthesizer  \n",
       "4  single_hop_specifc_query_synthesizer  "
      ]
     },
     "execution_count": 14,
     "metadata": {},
     "output_type": "execute_result"
    }
   ],
   "source": [
    "df = testset.to_pandas()\n",
    "df.head()"
   ]
  },
  {
   "cell_type": "markdown",
   "metadata": {},
   "source": [
    "## Build a `QueryEngine`\n"
   ]
  },
  {
   "cell_type": "code",
   "execution_count": 15,
   "metadata": {},
   "outputs": [],
   "source": [
    "from llama_index.core import VectorStoreIndex\n",
    "\n",
    "vector_index = VectorStoreIndex.from_documents(documents)\n",
    "\n",
    "query_engine = vector_index.as_query_engine()"
   ]
  },
  {
   "cell_type": "code",
   "execution_count": 16,
   "metadata": {},
   "outputs": [
    {
     "name": "stdout",
     "output_type": "stream",
     "text": [
      "The Massachusett people established small, seasonal communities in present-day Boston before European colonization. They constructed one of the oldest fishweirs in New England on Boylston Street, indicating their presence in the region as early as 7,000 years before European arrival in the Western Hemisphere.\n"
     ]
    }
   ],
   "source": [
    "response_vector = query_engine.query(df[\"user_input\"][0])\n",
    "\n",
    "print(response_vector)"
   ]
  },
  {
   "cell_type": "markdown",
   "metadata": {},
   "source": [
    "## Evaluating the `QueryEngine`\n"
   ]
  },
  {
   "cell_type": "code",
   "execution_count": 17,
   "metadata": {},
   "outputs": [],
   "source": [
    "# import metrics\n",
    "from ragas.metrics import (\n",
    "    ContextPrecision,\n",
    "    ContextRecall,\n",
    "    Faithfulness,\n",
    "    AnswerRelevancy,\n",
    "    AnswerCorrectness\n",
    ")\n",
    "\n",
    "# init metrics with evaluator LLM\n",
    "from ragas.llms import LlamaIndexLLMWrapper\n",
    "\n",
    "evaluator_llm = LlamaIndexLLMWrapper(OpenAI(model=\"gpt-4o\"))\n",
    "metrics = [\n",
    "    Faithfulness(llm=evaluator_llm),\n",
    "    AnswerRelevancy(llm=evaluator_llm),\n",
    "    ContextPrecision(llm=evaluator_llm),\n",
    "    ContextRecall(llm=evaluator_llm),\n",
    "    AnswerCorrectness(llm=evaluator_llm)\n",
    "]"
   ]
  },
  {
   "cell_type": "code",
   "execution_count": 18,
   "metadata": {},
   "outputs": [
    {
     "data": {
      "text/plain": [
       "EvaluationDataset(features=['user_input', 'reference_contexts', 'reference'], len=10)"
      ]
     },
     "execution_count": 18,
     "metadata": {},
     "output_type": "execute_result"
    }
   ],
   "source": [
    "# convert to Ragas Evaluation Dataset\n",
    "ragas_dataset = testset.to_evaluation_dataset()\n",
    "ragas_dataset"
   ]
  },
  {
   "cell_type": "code",
   "execution_count": 19,
   "metadata": {},
   "outputs": [
    {
     "data": {
      "application/vnd.jupyter.widget-view+json": {
       "model_id": "c822186bb836423384c833cb63bf83e1",
       "version_major": 2,
       "version_minor": 0
      },
      "text/plain": [
       "Running Query Engine:   0%|          | 0/10 [00:00<?, ?it/s]"
      ]
     },
     "metadata": {},
     "output_type": "display_data"
    },
    {
     "data": {
      "application/vnd.jupyter.widget-view+json": {
       "model_id": "14989e8153d04de3a0a1512da65ed0d2",
       "version_major": 2,
       "version_minor": 0
      },
      "text/plain": [
       "Evaluating:   0%|          | 0/50 [00:00<?, ?it/s]"
      ]
     },
     "metadata": {},
     "output_type": "display_data"
    }
   ],
   "source": [
    "from ragas.integrations.llama_index import evaluate\n",
    "\n",
    "result = evaluate(\n",
    "    query_engine=query_engine,\n",
    "    metrics=metrics,\n",
    "    dataset=ragas_dataset,\n",
    ")"
   ]
  },
  {
   "cell_type": "code",
   "execution_count": 20,
   "metadata": {},
   "outputs": [
    {
     "name": "stdout",
     "output_type": "stream",
     "text": [
      "{'faithfulness': 0.4380, 'answer_relevancy': 0.9568, 'context_precision': 0.4500, 'context_recall': 0.5667, 'answer_correctness': 0.6157}\n"
     ]
    }
   ],
   "source": [
    "from pprint import pprint\n",
    "pprint(result, indent=4)"
   ]
  },
  {
   "cell_type": "code",
   "execution_count": 21,
   "metadata": {},
   "outputs": [
    {
     "data": {
      "text/html": [
       "<div>\n",
       "<style scoped>\n",
       "    .dataframe tbody tr th:only-of-type {\n",
       "        vertical-align: middle;\n",
       "    }\n",
       "\n",
       "    .dataframe tbody tr th {\n",
       "        vertical-align: top;\n",
       "    }\n",
       "\n",
       "    .dataframe thead th {\n",
       "        text-align: right;\n",
       "    }\n",
       "</style>\n",
       "<table border=\"1\" class=\"dataframe\">\n",
       "  <thead>\n",
       "    <tr style=\"text-align: right;\">\n",
       "      <th></th>\n",
       "      <th>user_input</th>\n",
       "      <th>retrieved_contexts</th>\n",
       "      <th>reference_contexts</th>\n",
       "      <th>response</th>\n",
       "      <th>reference</th>\n",
       "      <th>faithfulness</th>\n",
       "      <th>answer_relevancy</th>\n",
       "      <th>context_precision</th>\n",
       "      <th>context_recall</th>\n",
       "      <th>answer_correctness</th>\n",
       "    </tr>\n",
       "  </thead>\n",
       "  <tbody>\n",
       "    <tr>\n",
       "      <th>0</th>\n",
       "      <td>What role did the Massachusett people play in ...</td>\n",
       "      <td>[== History ==\\n\\n\\n=== Indigenous era ===\\nPr...</td>\n",
       "      <td>[History == === Indigenous era === Prior to Eu...</td>\n",
       "      <td>The Massachusett people established small, sea...</td>\n",
       "      <td>Before European colonization, the region surro...</td>\n",
       "      <td>1.000000</td>\n",
       "      <td>0.904087</td>\n",
       "      <td>1.0</td>\n",
       "      <td>1.000000</td>\n",
       "      <td>0.618180</td>\n",
       "    </tr>\n",
       "    <tr>\n",
       "      <th>1</th>\n",
       "      <td>How did the Napoleonic Wars impact Boston's tr...</td>\n",
       "      <td>[=== Post-revolution and the War of 1812 ===\\n...</td>\n",
       "      <td>[impressed with the effort of Rufus Putnam tha...</td>\n",
       "      <td>The Napoleonic Wars significantly curtailed Bo...</td>\n",
       "      <td>The Napoleonic Wars significantly curtailed Bo...</td>\n",
       "      <td>0.800000</td>\n",
       "      <td>0.949569</td>\n",
       "      <td>1.0</td>\n",
       "      <td>1.000000</td>\n",
       "      <td>0.579665</td>\n",
       "    </tr>\n",
       "    <tr>\n",
       "      <th>2</th>\n",
       "      <td>What historical significance does Massachusett...</td>\n",
       "      <td>[Boston is the capital and most populous city ...</td>\n",
       "      <td>[Boston is the capital and most populous city ...</td>\n",
       "      <td>Massachusetts, particularly Boston, holds sign...</td>\n",
       "      <td>Massachusetts, and specifically Boston, holds ...</td>\n",
       "      <td>1.000000</td>\n",
       "      <td>0.976116</td>\n",
       "      <td>1.0</td>\n",
       "      <td>1.000000</td>\n",
       "      <td>0.719933</td>\n",
       "    </tr>\n",
       "    <tr>\n",
       "      <th>3</th>\n",
       "      <td>How did the acquisition of FleetBoston Financi...</td>\n",
       "      <td>[=== Post-revolution and the War of 1812 ===\\n...</td>\n",
       "      <td>[Boston declined economically as factories bec...</td>\n",
       "      <td>The acquisition of FleetBoston Financial by Ba...</td>\n",
       "      <td>The acquisition of FleetBoston Financial by Ch...</td>\n",
       "      <td>0.000000</td>\n",
       "      <td>0.993672</td>\n",
       "      <td>0.0</td>\n",
       "      <td>0.000000</td>\n",
       "      <td>0.740763</td>\n",
       "    </tr>\n",
       "    <tr>\n",
       "      <th>4</th>\n",
       "      <td>What cities are near Everett in relation to Bo...</td>\n",
       "      <td>[=== Transportation ===\\n\\nLogan International...</td>\n",
       "      <td>[Geography == Boston has an area of 89.63 sq m...</td>\n",
       "      <td>The cities near Everett in relation to Boston ...</td>\n",
       "      <td>Everett is bordered to the northeast by the ci...</td>\n",
       "      <td>0.000000</td>\n",
       "      <td>0.996257</td>\n",
       "      <td>0.5</td>\n",
       "      <td>1.000000</td>\n",
       "      <td>0.419646</td>\n",
       "    </tr>\n",
       "    <tr>\n",
       "      <th>5</th>\n",
       "      <td>What role did Alcatraz play in San Francisco's...</td>\n",
       "      <td>[By 1880, Chinese made up 9.3% of the populati...</td>\n",
       "      <td>[&lt;1-hop&gt;\\n\\nthe city celebrated its rebirth at...</td>\n",
       "      <td>Alcatraz served as a federal maximum security ...</td>\n",
       "      <td>Alcatraz, a former military stockade, began it...</td>\n",
       "      <td>1.000000</td>\n",
       "      <td>0.939577</td>\n",
       "      <td>0.0</td>\n",
       "      <td>0.666667</td>\n",
       "      <td>0.636899</td>\n",
       "    </tr>\n",
       "    <tr>\n",
       "      <th>6</th>\n",
       "      <td>What role do Northeastern University and North...</td>\n",
       "      <td>[=== Colleges and universities ===\\n\\nSince th...</td>\n",
       "      <td>[&lt;1-hop&gt;\\n\\nChicago is the most populous city ...</td>\n",
       "      <td>Northeastern University and Northwestern Unive...</td>\n",
       "      <td>Northeastern University and Northwestern Unive...</td>\n",
       "      <td>0.125000</td>\n",
       "      <td>0.945373</td>\n",
       "      <td>0.0</td>\n",
       "      <td>0.000000</td>\n",
       "      <td>0.575686</td>\n",
       "    </tr>\n",
       "    <tr>\n",
       "      <th>7</th>\n",
       "      <td>What role did Alcatraz Island play in San Fran...</td>\n",
       "      <td>[By 1880, Chinese made up 9.3% of the populati...</td>\n",
       "      <td>[&lt;1-hop&gt;\\n\\nthe city celebrated its rebirth at...</td>\n",
       "      <td>Alcatraz Island played a significant role in S...</td>\n",
       "      <td>Alcatraz Island began its service as a federal...</td>\n",
       "      <td>0.000000</td>\n",
       "      <td>0.958103</td>\n",
       "      <td>1.0</td>\n",
       "      <td>0.500000</td>\n",
       "      <td>0.518719</td>\n",
       "    </tr>\n",
       "    <tr>\n",
       "      <th>8</th>\n",
       "      <td>What is the significance of Boston as a cultur...</td>\n",
       "      <td>[== Arts and culture ==\\n\\nBoston shares many ...</td>\n",
       "      <td>[&lt;1-hop&gt;\\n\\nBoston is the capital and most pop...</td>\n",
       "      <td>Boston serves as the cultural and financial ce...</td>\n",
       "      <td>Boston is significant as the cultural and fina...</td>\n",
       "      <td>0.454545</td>\n",
       "      <td>0.940853</td>\n",
       "      <td>0.0</td>\n",
       "      <td>0.500000</td>\n",
       "      <td>0.679919</td>\n",
       "    </tr>\n",
       "    <tr>\n",
       "      <th>9</th>\n",
       "      <td>What role did the Dallas ISD play in the educa...</td>\n",
       "      <td>[=== Libraries ===\\n\\nThe city is served by th...</td>\n",
       "      <td>[&lt;1-hop&gt;\\n\\nof the public school students with...</td>\n",
       "      <td>The Dallas Independent School District (DISD) ...</td>\n",
       "      <td>The Dallas ISD provided educational services t...</td>\n",
       "      <td>0.000000</td>\n",
       "      <td>0.964443</td>\n",
       "      <td>0.0</td>\n",
       "      <td>0.000000</td>\n",
       "      <td>0.667253</td>\n",
       "    </tr>\n",
       "  </tbody>\n",
       "</table>\n",
       "</div>"
      ],
      "text/plain": [
       "                                          user_input  \\\n",
       "0  What role did the Massachusett people play in ...   \n",
       "1  How did the Napoleonic Wars impact Boston's tr...   \n",
       "2  What historical significance does Massachusett...   \n",
       "3  How did the acquisition of FleetBoston Financi...   \n",
       "4  What cities are near Everett in relation to Bo...   \n",
       "5  What role did Alcatraz play in San Francisco's...   \n",
       "6  What role do Northeastern University and North...   \n",
       "7  What role did Alcatraz Island play in San Fran...   \n",
       "8  What is the significance of Boston as a cultur...   \n",
       "9  What role did the Dallas ISD play in the educa...   \n",
       "\n",
       "                                  retrieved_contexts  \\\n",
       "0  [== History ==\\n\\n\\n=== Indigenous era ===\\nPr...   \n",
       "1  [=== Post-revolution and the War of 1812 ===\\n...   \n",
       "2  [Boston is the capital and most populous city ...   \n",
       "3  [=== Post-revolution and the War of 1812 ===\\n...   \n",
       "4  [=== Transportation ===\\n\\nLogan International...   \n",
       "5  [By 1880, Chinese made up 9.3% of the populati...   \n",
       "6  [=== Colleges and universities ===\\n\\nSince th...   \n",
       "7  [By 1880, Chinese made up 9.3% of the populati...   \n",
       "8  [== Arts and culture ==\\n\\nBoston shares many ...   \n",
       "9  [=== Libraries ===\\n\\nThe city is served by th...   \n",
       "\n",
       "                                  reference_contexts  \\\n",
       "0  [History == === Indigenous era === Prior to Eu...   \n",
       "1  [impressed with the effort of Rufus Putnam tha...   \n",
       "2  [Boston is the capital and most populous city ...   \n",
       "3  [Boston declined economically as factories bec...   \n",
       "4  [Geography == Boston has an area of 89.63 sq m...   \n",
       "5  [<1-hop>\\n\\nthe city celebrated its rebirth at...   \n",
       "6  [<1-hop>\\n\\nChicago is the most populous city ...   \n",
       "7  [<1-hop>\\n\\nthe city celebrated its rebirth at...   \n",
       "8  [<1-hop>\\n\\nBoston is the capital and most pop...   \n",
       "9  [<1-hop>\\n\\nof the public school students with...   \n",
       "\n",
       "                                            response  \\\n",
       "0  The Massachusett people established small, sea...   \n",
       "1  The Napoleonic Wars significantly curtailed Bo...   \n",
       "2  Massachusetts, particularly Boston, holds sign...   \n",
       "3  The acquisition of FleetBoston Financial by Ba...   \n",
       "4  The cities near Everett in relation to Boston ...   \n",
       "5  Alcatraz served as a federal maximum security ...   \n",
       "6  Northeastern University and Northwestern Unive...   \n",
       "7  Alcatraz Island played a significant role in S...   \n",
       "8  Boston serves as the cultural and financial ce...   \n",
       "9  The Dallas Independent School District (DISD) ...   \n",
       "\n",
       "                                           reference  faithfulness  \\\n",
       "0  Before European colonization, the region surro...      1.000000   \n",
       "1  The Napoleonic Wars significantly curtailed Bo...      0.800000   \n",
       "2  Massachusetts, and specifically Boston, holds ...      1.000000   \n",
       "3  The acquisition of FleetBoston Financial by Ch...      0.000000   \n",
       "4  Everett is bordered to the northeast by the ci...      0.000000   \n",
       "5  Alcatraz, a former military stockade, began it...      1.000000   \n",
       "6  Northeastern University and Northwestern Unive...      0.125000   \n",
       "7  Alcatraz Island began its service as a federal...      0.000000   \n",
       "8  Boston is significant as the cultural and fina...      0.454545   \n",
       "9  The Dallas ISD provided educational services t...      0.000000   \n",
       "\n",
       "   answer_relevancy  context_precision  context_recall  answer_correctness  \n",
       "0          0.904087                1.0        1.000000            0.618180  \n",
       "1          0.949569                1.0        1.000000            0.579665  \n",
       "2          0.976116                1.0        1.000000            0.719933  \n",
       "3          0.993672                0.0        0.000000            0.740763  \n",
       "4          0.996257                0.5        1.000000            0.419646  \n",
       "5          0.939577                0.0        0.666667            0.636899  \n",
       "6          0.945373                0.0        0.000000            0.575686  \n",
       "7          0.958103                1.0        0.500000            0.518719  \n",
       "8          0.940853                0.0        0.500000            0.679919  \n",
       "9          0.964443                0.0        0.000000            0.667253  "
      ]
     },
     "execution_count": 21,
     "metadata": {},
     "output_type": "execute_result"
    }
   ],
   "source": [
    "result.to_pandas()"
   ]
  }
 ],
 "metadata": {
  "kernelspec": {
   "display_name": "Python 3",
   "language": "python",
   "name": "python3"
  },
  "language_info": {
   "codemirror_mode": {
    "name": "ipython",
    "version": 3
   },
   "file_extension": ".py",
   "mimetype": "text/x-python",
   "name": "python",
   "nbconvert_exporter": "python",
   "pygments_lexer": "ipython3",
   "version": "3.11.9"
  }
 },
 "nbformat": 4,
 "nbformat_minor": 2
}
