{
 "cells": [
  {
   "cell_type": "markdown",
   "metadata": {},
   "source": [
    "# Agentic Evaluations\n"
   ]
  },
  {
   "cell_type": "code",
   "execution_count": 2,
   "metadata": {},
   "outputs": [
    {
     "name": "stderr",
     "output_type": "stream",
     "text": [
      "\u001b[32m2025-03-29 17:33:00.339\u001b[0m | \u001b[1mINFO    \u001b[0m | \u001b[36m__main__\u001b[0m:\u001b[36m<module>\u001b[0m:\u001b[36m7\u001b[0m - \u001b[1mStarting Vector Store Notebook\u001b[0m\n"
     ]
    }
   ],
   "source": [
    "import os\n",
    "import logging\n",
    "from logging import warnings\n",
    "from loguru import logger\n",
    "\n",
    "logger.add(\"logs/vector_store.log\")\n",
    "logger.info(\"Starting Vector Store Notebook\")\n",
    "\n",
    "from dotenv import load_dotenv, find_dotenv\n",
    "import nest_asyncio\n",
    "nest_asyncio.apply()\n",
    "load_dotenv(find_dotenv())\n",
    "\n",
    "warnings.filterwarnings('ignore')\n",
    "logging.getLogger().setLevel(logging.ERROR)\n",
    "\n",
    "from llama_index.core import VectorStoreIndex, SimpleDirectoryReader\n",
    "from llama_index.core import StorageContext\n",
    "from IPython.display import Markdown, display\n",
    "\n",
    "from llama_index.vector_stores.qdrant import QdrantVectorStore\n",
    "import qdrant_client\n",
    "\n",
    "warnings.filterwarnings('ignore')\n",
    "logging.getLogger().setLevel(logging.ERROR)\n",
    "\n",
    "from llama_index.core import VectorStoreIndex, SimpleDirectoryReader\n",
    "from llama_index.core import StorageContext\n",
    "from IPython.display import Markdown, display\n",
    "\n",
    "from llama_index.vector_stores.qdrant import QdrantVectorStore\n",
    "import qdrant_client"
   ]
  },
  {
   "cell_type": "code",
   "execution_count": 3,
   "metadata": {},
   "outputs": [],
   "source": [
    "QDRANT_HOSTED_URL = os.getenv(\"QDRANT_HOSTED_URL\")\n",
    "QDRANT_API_KEY = os.getenv(\"QDRANT_API_KEY\")\n",
    "client = qdrant_client.QdrantClient(\n",
    "    QDRANT_HOSTED_URL,\n",
    "    api_key=QDRANT_API_KEY,\n",
    ")"
   ]
  },
  {
   "cell_type": "code",
   "execution_count": 4,
   "metadata": {},
   "outputs": [],
   "source": [
    "from pathlib import Path\n",
    "\n",
    "notebook_dir = Path().absolute()\n",
    "file_path = str(notebook_dir / \"..\" / \"data\" / \"paper\" / \"stanford-cynicism.pdf\")\n",
    "\n",
    "documents = SimpleDirectoryReader(input_files=[file_path]).load_data()"
   ]
  },
  {
   "cell_type": "code",
   "execution_count": 5,
   "metadata": {},
   "outputs": [
    {
     "data": {
      "text/plain": [
       "(11, llama_index.core.schema.Document)"
      ]
     },
     "execution_count": 5,
     "metadata": {},
     "output_type": "execute_result"
    }
   ],
   "source": [
    "len(documents), type(documents[0])"
   ]
  },
  {
   "cell_type": "code",
   "execution_count": 6,
   "metadata": {},
   "outputs": [
    {
     "data": {
      "text/plain": [
       "{'page_label': '1',\n",
       " 'file_name': 'stanford-cynicism.pdf',\n",
       " 'file_path': '/Users/pmui/SynologyDrive/research/2025/research2025/06-advanced-rag/notebooks/../data/paper/stanford-cynicism.pdf',\n",
       " 'file_type': 'application/pdf',\n",
       " 'file_size': 490320,\n",
       " 'creation_date': '2025-03-22',\n",
       " 'last_modified_date': '2025-03-22'}"
      ]
     },
     "execution_count": 6,
     "metadata": {},
     "output_type": "execute_result"
    }
   ],
   "source": [
    "documents[0].metadata"
   ]
  },
  {
   "cell_type": "code",
   "execution_count": 7,
   "metadata": {},
   "outputs": [
    {
     "name": "stdout",
     "output_type": "stream",
     "text": [
      "(' Semantic Analysis of Diversity Rhetoric and \\n'\n",
      " ' Ideological Contraction \\n'\n",
      " ' in Stanford Daily \\n'\n",
      " ' Theodore Mui \\n'\n",
      " ' theodoremui@gmail.com \\n'\n",
      " ' Abstract \\n'\n",
      " ' Cynicism, a distrust of people and institutions, creates ')\n"
     ]
    }
   ],
   "source": [
    "from pprint import pprint\n",
    "pprint(documents[0].text[:200])"
   ]
  },
  {
   "cell_type": "code",
   "execution_count": 8,
   "metadata": {},
   "outputs": [
    {
     "data": {
      "text/plain": [
       "[' Semantic Analysis of Diversity Rhetoric and  Ideological Contraction  in Stan',\n",
       " ' This study focuses specifically on opinion pieces published in the Stanford Dai',\n",
       " ' text-embedding-3-large  model.  In this embedding space, we then tally up the p',\n",
       " ' MFT posits that moral judgments are often rooted in key psychological foundatio',\n",
       " ' per year, the regression line (first graph on the left below) for normalized di',\n",
       " ' while the linguistic markers of diversity proliferate, the actual range of pers',\n",
       " ' class  MFTAnalysis  (BaseModel):  authority_subversion: float = Field(  defau',\n",
       " ' Let’s look at observations in  Figure 3  .  The trendlines for all three indic',\n",
       " ' Discussion  Figure 3  shows that measures of cynicism are increasing  in Stanf',\n",
       " ' ●  If students feel like only certain viewpoints are accepted, they may believe',\n",
       " ' Haidt, J.  The Righteous Mind: Why Good People are Divided By Politics and Reli']"
      ]
     },
     "execution_count": 8,
     "metadata": {},
     "output_type": "execute_result"
    }
   ],
   "source": [
    "[doc.text[:80].replace(\"\\n\", \"\") for doc in documents]"
   ]
  },
  {
   "cell_type": "code",
   "execution_count": 9,
   "metadata": {},
   "outputs": [
    {
     "name": "stderr",
     "output_type": "stream",
     "text": [
      "Parsing nodes: 100%|██████████| 11/11 [00:00<00:00, 2343.42it/s]\n",
      "Generating embeddings: 100%|██████████| 11/11 [00:00<00:00, 12.52it/s]\n"
     ]
    }
   ],
   "source": [
    "index = VectorStoreIndex.from_documents(documents, show_progress=True)"
   ]
  },
  {
   "cell_type": "code",
   "execution_count": 11,
   "metadata": {},
   "outputs": [
    {
     "data": {
      "text/markdown": [
       "The main idea of the paper is to analyze the growth of cynicism within the opinions section of the Stanford Daily over a 15-year period, focusing on how the narrowing range of topics discussed reflects a divergence between the rhetoric of diversity and the actual space for ideas. The study aims to understand how this discrepancy may lead to the development of cynical attitudes towards diversity programs and institutions, emphasizing the importance of fostering a more open and trusting academic environment through inclusive conversations and diverse viewpoints."
      ],
      "text/plain": [
       "<IPython.core.display.Markdown object>"
      ]
     },
     "metadata": {},
     "output_type": "display_data"
    }
   ],
   "source": [
    "query_engine = index.as_query_engine()\n",
    "response = query_engine.query(\"What is the main idea of the paper?\")\n",
    "display(Markdown(response.response))"
   ]
  },
  {
   "cell_type": "markdown",
   "metadata": {},
   "source": [
    "## How do we know that our RAG is any good?\n"
   ]
  },
  {
   "cell_type": "code",
   "execution_count": 12,
   "metadata": {},
   "outputs": [
    {
     "data": {
      "text/markdown": [
       "The main idea of the paper is to analyze the growth of cynicism within the opinions section of the Stanford Daily over a 15-year period, focusing on how the narrowing range of topics discussed reflects a divergence between the rhetoric of diversity and the actual space for diverse ideas. The study aims to understand how this discrepancy may lead to cynical attitudes towards diversity programs and institutions, emphasizing the importance of fostering a more open and trusting academic environment through inclusive conversations and welcoming diverse opinions."
      ],
      "text/plain": [
       "<IPython.core.display.Markdown object>"
      ]
     },
     "metadata": {},
     "output_type": "display_data"
    }
   ],
   "source": [
    "from llama_index.core.chat_engine.types import ChatMode\n",
    "from llama_index.core.vector_stores.types import VectorStoreQueryMode\n",
    "from llama_index.core.response_synthesizers import get_response_synthesizer, ResponseMode\n",
    "\n",
    "better_query_engine = index.as_query_engine(\n",
    "    similarity_top_k=8, \n",
    "    vector_store_query_mode=VectorStoreQueryMode.MMR, # Max Marginal Relevance\n",
    "    vector_store_query_kwargs={\"mmr_prefetch_k\": 16},\n",
    "    response_mode=ResponseMode.ACCUMULATE\n",
    ")\n",
    "response = query_engine.query(\"What is the main idea of the paper?\")\n",
    "display(Markdown(response.response))"
   ]
  }
 ],
 "metadata": {
  "kernelspec": {
   "display_name": ".venv",
   "language": "python",
   "name": "python3"
  },
  "language_info": {
   "codemirror_mode": {
    "name": "ipython",
    "version": 3
   },
   "file_extension": ".py",
   "mimetype": "text/x-python",
   "name": "python",
   "nbconvert_exporter": "python",
   "pygments_lexer": "ipython3",
   "version": "3.11.9"
  }
 },
 "nbformat": 4,
 "nbformat_minor": 2
}
